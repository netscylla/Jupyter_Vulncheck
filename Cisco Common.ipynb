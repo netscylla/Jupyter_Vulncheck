{
 "cells": [
  {
   "cell_type": "code",
   "execution_count": null,
   "metadata": {},
   "outputs": [],
   "source": [
    "%run Common.ipynb"
   ]
  },
  {
   "cell_type": "code",
   "execution_count": 8,
   "metadata": {},
   "outputs": [],
   "source": [
    "from simplejson import JSONDecodeError\n",
    "from prettytable import PrettyTable\n",
    "\n",
    "def get_cisco_vuln_data(resource_ids, published_date=\"\"):\n",
    "    if not isinstance(resource_ids, str):\n",
    "        try:\n",
    "            resource_ids = \",\".join(map(str,resource_ids))\n",
    "        except TypeError:\n",
    "            pass\n",
    "\n",
    "    url = f\"https://tools.cisco.com/security/center/publicationService.x?cves=&identifiers=&last_published_date={published_date}&limit=20&offset=0&publicationTypeIDs=1,3&resourceIDs={resource_ids}&securityImpactRatings=&sort=-last_published&title=\"\n",
    "    \n",
    "    return get_json(url)\n",
    "    \n",
    "def get_cisco_vuln_table(data):\n",
    "    table = PrettyTable()\n",
    "    fields = [\n",
    "        (\"identifier\", \"Identifer\", None),\n",
    "        (\"severity\", \"Severity\", None),\n",
    "        (\"title\", \"Title\", None),\n",
    "        (\"ciscoBugId\", \"ciscoBugId\", lambda x: x.replace(',','\\n')),\n",
    "        (\"lastPublished\", \"Last Published\", lambda x: x[:-18])\n",
    "    ]\n",
    "    table.field_names=[name for key, name, processor in fields]\n",
    "    for row in data:\n",
    "        table.add_row([(processor or (lambda x:x))(row[key]) for key, name, processor in fields])\n",
    "    return table.get_html_string()"
   ]
  }
 ],
 "metadata": {
  "kernelspec": {
   "display_name": "Python 3",
   "language": "python",
   "name": "python3"
  },
  "language_info": {
   "codemirror_mode": {
    "name": "ipython",
    "version": 3
   },
   "file_extension": ".py",
   "mimetype": "text/x-python",
   "name": "python",
   "nbconvert_exporter": "python",
   "pygments_lexer": "ipython3",
   "version": "3.8.1"
  }
 },
 "nbformat": 4,
 "nbformat_minor": 4
}
