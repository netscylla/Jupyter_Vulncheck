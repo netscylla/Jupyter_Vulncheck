{
 "cells": [
  {
   "cell_type": "code",
   "execution_count": 12,
   "metadata": {
    "scrolled": true
   },
   "outputs": [
    {
     "data": {
      "text/html": [
       "<script>jQuery(function() {if (jQuery(\"body.notebook_app\").length == 0) { jQuery(\".input_area\").toggle(); jQuery(\".prompt\").toggle();}});</script>"
      ]
     },
     "metadata": {},
     "output_type": "display_data"
    },
    {
     "data": {
      "text/html": [
       "<button onclick=\"jQuery('.input_area').toggle(); jQuery('.prompt').toggle();\">Toggle code</button>"
      ]
     },
     "metadata": {},
     "output_type": "display_data"
    }
   ],
   "source": [
    "from IPython.display import display, display_html\n",
    "from IPython.display import HTML\n",
    "import IPython.core.display as di\n",
    "\n",
    "# This line will hide code by default when the notebook is exported as HTML\n",
    "di.display_html('<script>jQuery(function() {if (jQuery(\"body.notebook_app\").length == 0) { jQuery(\".input_area\").toggle(); jQuery(\".prompt\").toggle();}});</script>', raw=True)\n",
    "\n",
    "# This line will add a button to toggle visibility of code blocks, for use with the HTML export version\n",
    "di.display_html('''<button onclick=\"jQuery('.input_area').toggle(); jQuery('.prompt').toggle();\">Toggle code</button>''', raw=True)"
   ]
  },
  {
   "cell_type": "code",
   "execution_count": 13,
   "metadata": {},
   "outputs": [
    {
     "name": "stdout",
     "output_type": "stream",
     "text": [
      "Requirement already satisfied: ipywidgets in ./.venv/lib/python3.8/site-packages (7.5.1)\n",
      "Requirement already satisfied: lxml in ./.venv/lib/python3.8/site-packages (4.6.2)\n",
      "Requirement already satisfied: matplotlib in ./.venv/lib/python3.8/site-packages (3.3.3)\n",
      "Requirement already satisfied: requests in ./.venv/lib/python3.8/site-packages (2.25.0)\n",
      "Requirement already satisfied: nbformat>=4.2.0 in ./.venv/lib/python3.8/site-packages (from ipywidgets) (5.0.8)\n",
      "Requirement already satisfied: widgetsnbextension~=3.5.0 in ./.venv/lib/python3.8/site-packages (from ipywidgets) (3.5.1)\n",
      "Requirement already satisfied: ipython>=4.0.0; python_version >= \"3.3\" in ./.venv/lib/python3.8/site-packages (from ipywidgets) (7.19.0)\n",
      "Requirement already satisfied: ipykernel>=4.5.1 in ./.venv/lib/python3.8/site-packages (from ipywidgets) (5.3.4)\n",
      "Requirement already satisfied: traitlets>=4.3.1 in ./.venv/lib/python3.8/site-packages (from ipywidgets) (5.0.5)\n",
      "Requirement already satisfied: pillow>=6.2.0 in ./.venv/lib/python3.8/site-packages (from matplotlib) (8.0.1)\n",
      "Requirement already satisfied: python-dateutil>=2.1 in ./.venv/lib/python3.8/site-packages (from matplotlib) (2.8.1)\n",
      "Requirement already satisfied: cycler>=0.10 in ./.venv/lib/python3.8/site-packages (from matplotlib) (0.10.0)\n",
      "Requirement already satisfied: kiwisolver>=1.0.1 in ./.venv/lib/python3.8/site-packages (from matplotlib) (1.3.1)\n",
      "Requirement already satisfied: pyparsing!=2.0.4,!=2.1.2,!=2.1.6,>=2.0.3 in ./.venv/lib/python3.8/site-packages (from matplotlib) (2.4.7)\n",
      "Requirement already satisfied: numpy>=1.15 in ./.venv/lib/python3.8/site-packages (from matplotlib) (1.19.4)\n",
      "Requirement already satisfied: idna<3,>=2.5 in ./.venv/lib/python3.8/site-packages (from requests) (2.10)\n",
      "Requirement already satisfied: urllib3<1.27,>=1.21.1 in ./.venv/lib/python3.8/site-packages (from requests) (1.26.2)\n",
      "Requirement already satisfied: certifi>=2017.4.17 in ./.venv/lib/python3.8/site-packages (from requests) (2020.11.8)\n",
      "Requirement already satisfied: chardet<4,>=3.0.2 in ./.venv/lib/python3.8/site-packages (from requests) (3.0.4)\n",
      "Requirement already satisfied: ipython-genutils in ./.venv/lib/python3.8/site-packages (from nbformat>=4.2.0->ipywidgets) (0.2.0)\n",
      "Requirement already satisfied: jupyter-core in ./.venv/lib/python3.8/site-packages (from nbformat>=4.2.0->ipywidgets) (4.7.0)\n",
      "Requirement already satisfied: jsonschema!=2.5.0,>=2.4 in ./.venv/lib/python3.8/site-packages (from nbformat>=4.2.0->ipywidgets) (3.2.0)\n",
      "Requirement already satisfied: notebook>=4.4.1 in ./.venv/lib/python3.8/site-packages (from widgetsnbextension~=3.5.0->ipywidgets) (6.1.5)\n",
      "Requirement already satisfied: prompt-toolkit!=3.0.0,!=3.0.1,<3.1.0,>=2.0.0 in ./.venv/lib/python3.8/site-packages (from ipython>=4.0.0; python_version >= \"3.3\"->ipywidgets) (3.0.8)\n",
      "Requirement already satisfied: pygments in ./.venv/lib/python3.8/site-packages (from ipython>=4.0.0; python_version >= \"3.3\"->ipywidgets) (2.7.2)\n",
      "Requirement already satisfied: backcall in ./.venv/lib/python3.8/site-packages (from ipython>=4.0.0; python_version >= \"3.3\"->ipywidgets) (0.2.0)\n",
      "Requirement already satisfied: pexpect>4.3; sys_platform != \"win32\" in ./.venv/lib/python3.8/site-packages (from ipython>=4.0.0; python_version >= \"3.3\"->ipywidgets) (4.8.0)\n",
      "Requirement already satisfied: setuptools>=18.5 in ./.venv/lib/python3.8/site-packages (from ipython>=4.0.0; python_version >= \"3.3\"->ipywidgets) (50.3.2)\n",
      "Requirement already satisfied: appnope; sys_platform == \"darwin\" in ./.venv/lib/python3.8/site-packages (from ipython>=4.0.0; python_version >= \"3.3\"->ipywidgets) (0.1.0)\n",
      "Requirement already satisfied: decorator in ./.venv/lib/python3.8/site-packages (from ipython>=4.0.0; python_version >= \"3.3\"->ipywidgets) (4.4.2)\n",
      "Requirement already satisfied: jedi>=0.10 in ./.venv/lib/python3.8/site-packages (from ipython>=4.0.0; python_version >= \"3.3\"->ipywidgets) (0.17.2)\n",
      "Requirement already satisfied: pickleshare in ./.venv/lib/python3.8/site-packages (from ipython>=4.0.0; python_version >= \"3.3\"->ipywidgets) (0.7.5)\n",
      "Requirement already satisfied: jupyter-client in ./.venv/lib/python3.8/site-packages (from ipykernel>=4.5.1->ipywidgets) (6.1.7)\n",
      "Requirement already satisfied: tornado>=4.2 in ./.venv/lib/python3.8/site-packages (from ipykernel>=4.5.1->ipywidgets) (6.1)\n",
      "Requirement already satisfied: six>=1.5 in ./.venv/lib/python3.8/site-packages (from python-dateutil>=2.1->matplotlib) (1.15.0)\n",
      "Requirement already satisfied: attrs>=17.4.0 in ./.venv/lib/python3.8/site-packages (from jsonschema!=2.5.0,>=2.4->nbformat>=4.2.0->ipywidgets) (20.3.0)\n",
      "Requirement already satisfied: pyrsistent>=0.14.0 in ./.venv/lib/python3.8/site-packages (from jsonschema!=2.5.0,>=2.4->nbformat>=4.2.0->ipywidgets) (0.17.3)\n",
      "Requirement already satisfied: argon2-cffi in ./.venv/lib/python3.8/site-packages (from notebook>=4.4.1->widgetsnbextension~=3.5.0->ipywidgets) (20.1.0)\n",
      "Requirement already satisfied: pyzmq>=17 in ./.venv/lib/python3.8/site-packages (from notebook>=4.4.1->widgetsnbextension~=3.5.0->ipywidgets) (20.0.0)\n",
      "Requirement already satisfied: terminado>=0.8.3 in ./.venv/lib/python3.8/site-packages (from notebook>=4.4.1->widgetsnbextension~=3.5.0->ipywidgets) (0.9.1)\n",
      "Requirement already satisfied: jinja2 in ./.venv/lib/python3.8/site-packages (from notebook>=4.4.1->widgetsnbextension~=3.5.0->ipywidgets) (2.11.2)\n",
      "Requirement already satisfied: nbconvert in ./.venv/lib/python3.8/site-packages (from notebook>=4.4.1->widgetsnbextension~=3.5.0->ipywidgets) (6.0.7)\n",
      "Requirement already satisfied: prometheus-client in ./.venv/lib/python3.8/site-packages (from notebook>=4.4.1->widgetsnbextension~=3.5.0->ipywidgets) (0.9.0)\n",
      "Requirement already satisfied: Send2Trash in ./.venv/lib/python3.8/site-packages (from notebook>=4.4.1->widgetsnbextension~=3.5.0->ipywidgets) (1.5.0)\n",
      "Requirement already satisfied: wcwidth in ./.venv/lib/python3.8/site-packages (from prompt-toolkit!=3.0.0,!=3.0.1,<3.1.0,>=2.0.0->ipython>=4.0.0; python_version >= \"3.3\"->ipywidgets) (0.2.5)\n",
      "Requirement already satisfied: ptyprocess>=0.5 in ./.venv/lib/python3.8/site-packages (from pexpect>4.3; sys_platform != \"win32\"->ipython>=4.0.0; python_version >= \"3.3\"->ipywidgets) (0.6.0)\n",
      "Requirement already satisfied: parso<0.8.0,>=0.7.0 in ./.venv/lib/python3.8/site-packages (from jedi>=0.10->ipython>=4.0.0; python_version >= \"3.3\"->ipywidgets) (0.7.1)\n",
      "Requirement already satisfied: cffi>=1.0.0 in ./.venv/lib/python3.8/site-packages (from argon2-cffi->notebook>=4.4.1->widgetsnbextension~=3.5.0->ipywidgets) (1.14.4)\n",
      "Requirement already satisfied: MarkupSafe>=0.23 in ./.venv/lib/python3.8/site-packages (from jinja2->notebook>=4.4.1->widgetsnbextension~=3.5.0->ipywidgets) (1.1.1)\n",
      "Requirement already satisfied: jupyterlab-pygments in ./.venv/lib/python3.8/site-packages (from nbconvert->notebook>=4.4.1->widgetsnbextension~=3.5.0->ipywidgets) (0.1.2)\n",
      "Requirement already satisfied: mistune<2,>=0.8.1 in ./.venv/lib/python3.8/site-packages (from nbconvert->notebook>=4.4.1->widgetsnbextension~=3.5.0->ipywidgets) (0.8.4)\n",
      "Requirement already satisfied: nbclient<0.6.0,>=0.5.0 in ./.venv/lib/python3.8/site-packages (from nbconvert->notebook>=4.4.1->widgetsnbextension~=3.5.0->ipywidgets) (0.5.1)\n",
      "Requirement already satisfied: bleach in ./.venv/lib/python3.8/site-packages (from nbconvert->notebook>=4.4.1->widgetsnbextension~=3.5.0->ipywidgets) (3.2.1)\n",
      "Requirement already satisfied: testpath in ./.venv/lib/python3.8/site-packages (from nbconvert->notebook>=4.4.1->widgetsnbextension~=3.5.0->ipywidgets) (0.4.4)\n",
      "Requirement already satisfied: entrypoints>=0.2.2 in ./.venv/lib/python3.8/site-packages (from nbconvert->notebook>=4.4.1->widgetsnbextension~=3.5.0->ipywidgets) (0.3)\n",
      "Requirement already satisfied: pandocfilters>=1.4.1 in ./.venv/lib/python3.8/site-packages (from nbconvert->notebook>=4.4.1->widgetsnbextension~=3.5.0->ipywidgets) (1.4.3)\n",
      "Requirement already satisfied: defusedxml in ./.venv/lib/python3.8/site-packages (from nbconvert->notebook>=4.4.1->widgetsnbextension~=3.5.0->ipywidgets) (0.6.0)\n",
      "Requirement already satisfied: pycparser in ./.venv/lib/python3.8/site-packages (from cffi>=1.0.0->argon2-cffi->notebook>=4.4.1->widgetsnbextension~=3.5.0->ipywidgets) (2.20)\n",
      "Requirement already satisfied: nest-asyncio in ./.venv/lib/python3.8/site-packages (from nbclient<0.6.0,>=0.5.0->nbconvert->notebook>=4.4.1->widgetsnbextension~=3.5.0->ipywidgets) (1.4.3)\n",
      "Requirement already satisfied: async-generator in ./.venv/lib/python3.8/site-packages (from nbclient<0.6.0,>=0.5.0->nbconvert->notebook>=4.4.1->widgetsnbextension~=3.5.0->ipywidgets) (1.10)\n",
      "Requirement already satisfied: packaging in ./.venv/lib/python3.8/site-packages (from bleach->nbconvert->notebook>=4.4.1->widgetsnbextension~=3.5.0->ipywidgets) (20.4)\n",
      "Requirement already satisfied: webencodings in ./.venv/lib/python3.8/site-packages (from bleach->nbconvert->notebook>=4.4.1->widgetsnbextension~=3.5.0->ipywidgets) (0.5.1)\n"
     ]
    }
   ],
   "source": [
    "import sys\n",
    "!{sys.executable} -m pip install ipywidgets lxml matplotlib requests"
   ]
  },
  {
   "cell_type": "code",
   "execution_count": 14,
   "metadata": {},
   "outputs": [],
   "source": [
    "import ipywidgets as widgets\n",
    "\n",
    "dropdown=widgets.Dropdown(\n",
    "  options=['cpe:2.3:o:apple:iphone_os:14.0',\n",
    "           'cpe:2.3:o:apple:iphone_os:13.6',\n",
    "           'cpe:2.3:o:microsoft:windows_10:1803',\n",
    "           'cpe:2.3:o:microsoft:windows_10:1909',\n",
    "           'cpe:2.3:o:microsoft:windows_server_2008:r2',\n",
    "           'cpe:2.3:o:microsoft:windows_server_2016:1803',\n",
    "           'cpe:2.3:a:microsoft:office:2016',\n",
    "           'cpe:2.3:a:microsoft:internet_explorer:11',\n",
    "           'cpe:2.3:a:citrix:receiver',\n",
    "           'cpe:2.3:a:microsoft:silverlight',\n",
    "           'cpe:2.3:a:adobe:acrobat_reader',\n",
    "           'cpe:2.3:a:adobe:acrobat_dc',\n",
    "           'cpe:2.3:a:cisco:anyconnect_vpn_client',\n",
    "           'cpe:2.3:a:google:chrome:74.0.3729.169',\n",
    "           'cpe:2.3:a:oracle:jre:8.0:update_162',\n",
    "           'cpe:2.3:a:oracle:jre:8.0:update_212',\n",
    "           'cpe:2.3:a:symantec:endpoint_protection:12.1',\n",
    "           'cpe:2.3:a:splunk:universal_forwarder'\n",
    "          ],\n",
    "  value='cpe:2.3:o:microsoft:windows_10:1803',\n",
    "  disabled=False,\n",
    ")\n",
    "\n",
    "\n",
    "datepicker=widgets.DatePicker(\n",
    "    description='Pick a Date',\n",
    "    disabled=False\n",
    ")"
   ]
  },
  {
   "cell_type": "code",
   "execution_count": 17,
   "metadata": {
    "scrolled": true
   },
   "outputs": [
    {
     "data": {
      "text/plain": [
       "'Choose a vendor/product'"
      ]
     },
     "metadata": {},
     "output_type": "display_data"
    },
    {
     "data": {
      "application/vnd.jupyter.widget-view+json": {
       "model_id": "e81173489ad14a59bc316fd1da137c83",
       "version_major": 2,
       "version_minor": 0
      },
      "text/plain": [
       "Dropdown(index=1, options=('cpe:2.3:o:apple:iphone_os:14.0', 'cpe:2.3:o:apple:iphone_os:13.6', 'cpe:2.3:o:micr…"
      ]
     },
     "metadata": {},
     "output_type": "display_data"
    },
    {
     "data": {
      "application/vnd.jupyter.widget-view+json": {
       "model_id": "613793c6f4cf42e5ba96bbd1fa805b13",
       "version_major": 2,
       "version_minor": 0
      },
      "text/plain": [
       "DatePicker(value=datetime.date(2020, 1, 1), description='Pick a Date')"
      ]
     },
     "metadata": {},
     "output_type": "display_data"
    },
    {
     "name": "stdout",
     "output_type": "stream",
     "text": [
      "Found 10 CVEs\n"
     ]
    }
   ],
   "source": [
    "from IPython.core.display import display, display_html, HTML\n",
    "import ipywidgets as widgets\n",
    "import requests\n",
    "from datetime import date, timedelta\n",
    "from concurrent.futures import ThreadPoolExecutor\n",
    "import lxml.html\n",
    "import re\n",
    "\n",
    "#date\n",
    "#https://services.nvd.nist.gov/rest/json/cves/1.0?pubStartDate=2020-02-22T00:00:00:000%20UTC\n",
    "#keyword\n",
    "#https://services.nvd.nist.gov/rest/json/cves/1.0?keyword=\n",
    "#date & keyword\n",
    "#https://services.nvd.nist.gov/rest/json/cves/1.0?keyword=microsoft&pubStartDate=2020-02-22T00:00:00:000%20UTC\n",
    "#cve\n",
    "#https://nvd.nist.gov/vuln/detail/\n",
    "\n",
    "\n",
    "def group(lst, key, value=None):\n",
    "    result = defaultdict(list)\n",
    "    for i in lst:\n",
    "        result[key(i) if callable(key) else i[key]].append(value(i) if callable(value) else i[value] if value else i)\n",
    "    return result\n",
    "\n",
    "def scrape_cve(cve_id):\n",
    "    data_ids = [\"vuln-description\", \"vuln-cvss3-panel-score\"]\n",
    "    nvd_cve_url = f\"https://nvd.nist.gov/vuln/detail/{cve_id}\"\n",
    "    #print( nvd_cve_url)\n",
    "    cve_doc = lxml.html.fromstring(requests.get(nvd_cve_url).content)\n",
    "    try:\n",
    "      extracted = {id: cve_doc.xpath(f\"//*[@data-testid='{id}']/text()\")[0] for id in data_ids}\n",
    "      #print((extracted[\"vuln-description\"]).split(\",\")[0])\n",
    "      try:\n",
    "        cvscore=float(re.match(\"(\\d+\\.\\d+).*\", extracted[\"vuln-cvss3-panel-score\"]).group(1))\n",
    "      except:\n",
    "        cvscore=0.0\n",
    "      return {\n",
    "        \"id\": cve_id,\n",
    "        \"url\": nvd_cve_url,\n",
    "        \"description\": extracted[\"vuln-description\"],\n",
    "        \"aka\": (extracted[\"vuln-description\"]).split(\",\")[0],\n",
    "        \"cvss_score\": cvscore\n",
    "      }\n",
    "    except:\n",
    "      data_ids2 = [\"vuln-description\",\"vuln-cvss3-panel-score-na\"]\n",
    "      extracted = {id: cve_doc.xpath(f\"//*[@data-testid='{id}']/text()\") for id in data_ids2}\n",
    "    return {\n",
    "        \"id\": cve_id,\n",
    "        \"url\": nvd_cve_url,\n",
    "        \"description\": extracted[\"vuln-description\"][0],\n",
    "        \"aka\": (extracted[\"vuln-description\"][0]).split(\",\")[0],\n",
    "        \"cvss_score\": 0.0\n",
    "    }\n",
    "\n",
    "cvss_severity_colors = {\n",
    "    \"None\": None,\n",
    "    \"Low\": \"green\",\n",
    "    \"Medium\": \"#FFA53F\",\n",
    "    \"High\": \"#FF4F4F\",\n",
    "    \"Critical\": \"mediumorchid\"  \n",
    "}\n",
    "cvss_severity_matrix = [\n",
    "    (\"None\", 0.0, 0.0),\n",
    "    (\"Low\", 0.1, 3.9),\n",
    "    (\"Medium\", 4.0, 6.9),\n",
    "    (\"High\", 7.0, 8.9),\n",
    "    (\"Critical\", 9.0, 10.0)\n",
    "]\n",
    "\n",
    "def cvss_severity(score):\n",
    "    for severity, from_score, to_score in cvss_severity_matrix:\n",
    "        if int(from_score*10) <= int(score*10) <= int(to_score*10):\n",
    "            return severity\n",
    "        \n",
    "def table(columns, rows):\n",
    "    def table_cell_attrs(column, row=None):\n",
    "        attrs = {}\n",
    "        if \"attrs\" in column:\n",
    "            for k, v in column[\"attrs\"].items():\n",
    "                if callable(v):\n",
    "                    if row:\n",
    "                        attrs[k] = v(row)\n",
    "                else:\n",
    "                     attrs[k] = v    \n",
    "            if attrs:\n",
    "                return \" \" + \" \".join(f'{k}=\"{v}\"' for k, v in attrs.items())\n",
    "        return \"\"\n",
    "    def table_header_cells():\n",
    "        return [f\"<th{table_cell_attrs(column)}>{column['title']}</th>\" for column in columns]\n",
    "    def table_body_cells(row):\n",
    "        return [f\"<td{table_cell_attrs(column,row)}>{column['processor'](row[column['key']]) if 'processor' in column else row[column['key']]}</td>\" for column in columns]\n",
    "    def table_row(cells):\n",
    "        return f\"<tr>{''.join(cells)}</tr>\"\n",
    "    return f\"\"\"<table width=\"100%\">\n",
    "    <thead>{table_row(table_header_cells())}</thead>\n",
    "    <tbody>{''.join(table_row(table_body_cells(row)) for row in rows)}</tbody>\n",
    "</table>\"\"\"\n",
    "\n",
    "\n",
    "date_t = date.today().strftime(\"%Y-%m-%d\")\n",
    "date_minus = (date.today() - timedelta(days=10)).strftime(\"%Y-%m-%d\")\n",
    "#print(\"yyyy-MM-dd'T'HH:mm:ss:SSS z\")\n",
    "#print(date_t)\n",
    "\n",
    "#software=\"microsoft\"\n",
    "display(\"Choose a vendor/product\")\n",
    "display(dropdown)\n",
    "display(datepicker)\n",
    "\n",
    "try:\n",
    "  data = requests.get(\n",
    "      \"https://services.nvd.nist.gov/rest/json/cves/1.0?cpeMatchString={}&pubStartDate={}T00:00:00:000%20UTC&resultsPerPage=200\".format(dropdown.value,datepicker.value),\n",
    "      headers={\n",
    "          'Accept': 'application/json'\n",
    "      }).json()\n",
    "except:\n",
    "  print(\"something went wrong!\")\n",
    "  \n",
    "\n",
    "cve_ids=[]\n",
    "if (data[\"totalResults\"] > 0):\n",
    "  for i in range(data[\"totalResults\"]):\n",
    "    cve_ids.append(data[\"result\"][\"CVE_Items\"][i][\"cve\"][\"CVE_data_meta\"][\"ID\"])\n",
    "  print(\"Found \"+str(data[\"totalResults\"])+\" CVEs\")\n",
    "else:\n",
    "  display('No CVEs found!')"
   ]
  },
  {
   "cell_type": "code",
   "execution_count": 18,
   "metadata": {
    "scrolled": false
   },
   "outputs": [
    {
     "data": {
      "text/html": [
       "<h1>apple:iphone_os:13.6 CVE Summary<h1>"
      ],
      "text/plain": [
       "<IPython.core.display.HTML object>"
      ]
     },
     "metadata": {},
     "output_type": "display_data"
    },
    {
     "name": "stderr",
     "output_type": "stream",
     "text": [
      "Matplotlib created a temporary config/cache directory at /var/folders/18/90plf0ss1453ky0kgn_qzdl40000gn/T/matplotlib-tclmtkz4 because the default path (/Users/apdavies03/.matplotlib) is not a writable directory; it is highly recommended to set the MPLCONFIGDIR environment variable to a writable directory, in particular to speed up the import of Matplotlib and to better support multiprocessing.\n"
     ]
    },
    {
     "data": {
      "image/png": "[encoded data removed]",
      "text/plain": [
       "<Figure size 432x288 with 1 Axes>"
      ]
     },
     "metadata": {},
     "output_type": "display_data"
    },
    {
     "data": {
      "image/png": "[encoded data removed]",
      "text/plain": [
       "<Figure size 432x288 with 1 Axes>"
      ]
     },
     "metadata": {
      "needs_background": "light"
     },
     "output_type": "display_data"
    },
    {
     "data": {
      "text/html": [
       "<table width=\"100%\">\n",
       "    <thead><tr><th width=\"15%\">CVE</th><th width=\"5%\">Severity (CVSSv3)</th><th width=\"20%\">Title</th><th>Description</th><th>URL</th></tr></thead>\n",
       "    <tbody><tr><td width=\"15%\">CVE-2020-9992</td><td width=\"5%\" bgcolor=\"#FF4F4F\">7.8</td><td width=\"20%\">This issue was addressed by encrypting communications over the network to devices running iOS 14</td><td>This issue was addressed by encrypting communications over the network to devices running iOS 14, iPadOS 14, tvOS 14, and watchOS 7. This issue is fixed in iOS 14.0 and iPadOS 14.0, Xcode 12.0. An attacker in a privileged network position may be able to execute arbitrary code on a paired device during a debug session over the network.</td><td>https://nvd.nist.gov/vuln/detail/CVE-2020-9992</td></tr><tr><td width=\"15%\">CVE-2020-9973</td><td width=\"5%\" bgcolor=\"#FF4F4F\">7.8</td><td width=\"20%\">An out-of-bounds read was addressed with improved bounds checking. This issue is fixed in macOS Catalina 10.15.7</td><td>An out-of-bounds read was addressed with improved bounds checking. This issue is fixed in macOS Catalina 10.15.7, Security Update 2020-005 High Sierra, Security Update 2020-005 Mojave, iOS 14.0 and iPadOS 14.0. Processing a maliciously crafted USD file may lead to unexpected application termination or arbitrary code execution.</td><td>https://nvd.nist.gov/vuln/detail/CVE-2020-9973</td></tr><tr><td width=\"15%\">CVE-2020-9958</td><td width=\"5%\" bgcolor=\"#FF4F4F\">7.8</td><td width=\"20%\">An out-of-bounds write issue was addressed with improved bounds checking. This issue is fixed in iOS 14.0 and iPadOS 14.0. An application may be able to cause unexpected system termination or write kernel memory.</td><td>An out-of-bounds write issue was addressed with improved bounds checking. This issue is fixed in iOS 14.0 and iPadOS 14.0. An application may be able to cause unexpected system termination or write kernel memory.</td><td>https://nvd.nist.gov/vuln/detail/CVE-2020-9958</td></tr><tr><td width=\"15%\">CVE-2020-9946</td><td width=\"5%\" bgcolor=\"#FFA53F\">6.8</td><td width=\"20%\">This issue was addressed with improved checks. This issue is fixed in iOS 14.0 and iPadOS 14.0</td><td>This issue was addressed with improved checks. This issue is fixed in iOS 14.0 and iPadOS 14.0, watchOS 7.0. The screen lock may not engage after the specified time period.</td><td>https://nvd.nist.gov/vuln/detail/CVE-2020-9946</td></tr><tr><td width=\"15%\">CVE-2020-9952</td><td width=\"5%\" bgcolor=\"#FFA53F\">6.1</td><td width=\"20%\">An input validation issue was addressed with improved input validation. This issue is fixed in iOS 14.0 and iPadOS 14.0</td><td>An input validation issue was addressed with improved input validation. This issue is fixed in iOS 14.0 and iPadOS 14.0, tvOS 14.0, watchOS 7.0, Safari 14.0, iCloud for Windows 11.4, iCloud for Windows 7.21. Processing maliciously crafted web content may lead to a cross site scripting attack.</td><td>https://nvd.nist.gov/vuln/detail/CVE-2020-9952</td></tr><tr><td width=\"15%\">CVE-2020-9979</td><td width=\"5%\" bgcolor=\"#FFA53F\">5.5</td><td width=\"20%\">A trust issue was addressed by removing a legacy API. This issue is fixed in iOS 14.0 and iPadOS 14.0</td><td>A trust issue was addressed by removing a legacy API. This issue is fixed in iOS 14.0 and iPadOS 14.0, tvOS 14.0. An attacker may be able to misuse a trust relationship to download malicious content.</td><td>https://nvd.nist.gov/vuln/detail/CVE-2020-9979</td></tr><tr><td width=\"15%\">CVE-2020-9976</td><td width=\"5%\" bgcolor=\"#FFA53F\">5.5</td><td width=\"20%\">A logic issue was addressed with improved state management. This issue is fixed in iOS 14.0 and iPadOS 14.0</td><td>A logic issue was addressed with improved state management. This issue is fixed in iOS 14.0 and iPadOS 14.0, tvOS 14.0, watchOS 7.0. A malicious application may be able to leak sensitive user information.</td><td>https://nvd.nist.gov/vuln/detail/CVE-2020-9976</td></tr><tr><td width=\"15%\">CVE-2020-9968</td><td width=\"5%\" bgcolor=\"#FFA53F\">5.5</td><td width=\"20%\">A logic issue was addressed with improved restrictions. This issue is fixed in iOS 14.0 and iPadOS 14.0</td><td>A logic issue was addressed with improved restrictions. This issue is fixed in iOS 14.0 and iPadOS 14.0, macOS Catalina 10.15.7, tvOS 14.0, watchOS 7.0. A malicious application may be able to access restricted files.</td><td>https://nvd.nist.gov/vuln/detail/CVE-2020-9968</td></tr><tr><td width=\"15%\">CVE-2020-9964</td><td width=\"5%\" bgcolor=\"#FFA53F\">5.5</td><td width=\"20%\">A memory initialization issue was addressed with improved memory handling. This issue is fixed in iOS 14.0 and iPadOS 14.0. A local user may be able to read kernel memory.</td><td>A memory initialization issue was addressed with improved memory handling. This issue is fixed in iOS 14.0 and iPadOS 14.0. A local user may be able to read kernel memory.</td><td>https://nvd.nist.gov/vuln/detail/CVE-2020-9964</td></tr><tr><td width=\"15%\">CVE-2020-9959</td><td width=\"5%\" bgcolor=\"green\">2.4</td><td width=\"20%\">A lock screen issue allowed access to messages on a locked device. This issue was addressed with improved state management. This issue is fixed in iOS 14.0 and iPadOS 14.0. A person with physical access to an iOS device may be able to view notification contents from the lockscreen.</td><td>A lock screen issue allowed access to messages on a locked device. This issue was addressed with improved state management. This issue is fixed in iOS 14.0 and iPadOS 14.0. A person with physical access to an iOS device may be able to view notification contents from the lockscreen.</td><td>https://nvd.nist.gov/vuln/detail/CVE-2020-9959</td></tr></tbody>\n",
       "</table>"
      ],
      "text/plain": [
       "<IPython.core.display.HTML object>"
      ]
     },
     "metadata": {},
     "output_type": "display_data"
    }
   ],
   "source": [
    "if (data[\"totalResults\"] > 0):\n",
    "  with ThreadPoolExecutor(max_workers=3) as executor:\n",
    "    cves = sorted(executor.map(scrape_cve, cve_ids), key=lambda x: x[\"cvss_score\"], reverse=True)\n",
    "    \n",
    "  display(HTML(\"<h1>\"+dropdown.value[10:]+\" CVE Summary<h1>\"))\n",
    "  import matplotlib.pyplot as plotter\n",
    "  from collections import defaultdict\n",
    "\n",
    "  if (data[\"totalResults\"] > 0):\n",
    "    grouped_cves = group(cves, lambda x: cvss_severity(x[\"cvss_score\"]))\n",
    "\n",
    "    severities = list([i[0] for i in cvss_severity_matrix if i[0] in grouped_cves])\n",
    "    severity_counts = [len(grouped_cves.get(k,[])) for k in severities]\n",
    "\n",
    "    explode_severities = {\n",
    "      \"None\": 0.1,\n",
    "      \"Low\": 0.1,\n",
    "      \"Medium\": 0.1,\n",
    "      \"High\": 0.1,\n",
    "      \"Critical\": 0.2\n",
    "    }\n",
    "\n",
    "    figureObject, axesObject = plotter.subplots()\n",
    "    pie=axesObject.pie(severity_counts, \n",
    "        explode=[explode_severities[k] for k in severities],\n",
    "        labels=severities,\n",
    "        autopct='%1.2f',\n",
    "        colors=[cvss_severity_colors[k] for k in severities],\n",
    "        startangle=90)\n",
    "    axesObject.axis('equal')\n",
    "    plotter.title('Vulnerability Severity Distribution%')\n",
    "    plotter.show()\n",
    "\n",
    "    figureObject, axesObject = plotter.subplots()\n",
    "    barlist = axesObject.barh(severities,\n",
    "        severity_counts,\n",
    "        0.8,\n",
    "        alpha = 0.7,\n",
    "        color = 'blue',\n",
    "        label = 'Vulns')\n",
    "    for i, s in enumerate(severities):\n",
    "      barlist[i].set_color(cvss_severity_colors[s])\n",
    "    axesObject.set_xlabel('Vuln Count')\n",
    "    plotter.title('No. Vulnerabilities By Severity')\n",
    "    plotter.show() \n",
    "\n",
    "    display(HTML(table(\n",
    "    [\n",
    "        {\n",
    "            \"key\": \"id\", \n",
    "            \"title\": \"CVE\", \n",
    "            \"attrs\": {\"width\": \"15%\"}\n",
    "        },\n",
    "        {\n",
    "            \"key\": \"cvss_score\", \n",
    "            \"title\": \"Severity (CVSSv3)\", \n",
    "            \"attrs\": {\"width\": \"5%\", \"bgcolor\": lambda r: cvss_severity_colors[cvss_severity(r[\"cvss_score\"])]}\n",
    "        },\n",
    "        {\n",
    "            \"key\": \"aka\", \n",
    "            \"title\": \"Title\", \n",
    "            \"attrs\": {\"width\": \"20%\"}\n",
    "        },\n",
    "        {\n",
    "            \"key\": \"description\", \n",
    "            \"title\": \"Description\"\n",
    "        },\n",
    "        {\n",
    "            \"key\": \"url\", \n",
    "            \"title\": \"URL\"\n",
    "        }\n",
    "    ], \n",
    "    cves\n",
    "    )))\n",
    "\n",
    "else:\n",
    "  print(\"\")"
   ]
  },
  {
   "cell_type": "code",
   "execution_count": null,
   "metadata": {},
   "outputs": [],
   "source": []
  }
 ],
 "metadata": {
  "kernelspec": {
   "display_name": "Python 3",
   "language": "python",
   "name": "python3"
  },
  "language_info": {
   "codemirror_mode": {
    "name": "ipython",
    "version": 3
   },
   "file_extension": ".py",
   "mimetype": "text/x-python",
   "name": "python",
   "nbconvert_exporter": "python",
   "pygments_lexer": "ipython3",
   "version": "3.8.6"
  }
 },
 "nbformat": 4,
 "nbformat_minor": 4
}
