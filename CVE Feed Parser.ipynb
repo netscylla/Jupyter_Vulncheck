{
 "cells": [
  {
   "cell_type": "code",
   "execution_count": 203,
   "metadata": {
    "scrolled": true
   },
   "outputs": [
    {
     "data": {
      "text/html": [
       "<script>jQuery(function() {if (jQuery(\"body.notebook_app\").length == 0) { jQuery(\".input_area\").toggle(); jQuery(\".prompt\").toggle();}});</script>"
      ]
     },
     "metadata": {},
     "output_type": "display_data"
    },
    {
     "data": {
      "text/html": [
       "<button onclick=\"jQuery('.input_area').toggle(); jQuery('.prompt').toggle();\">Toggle code</button>"
      ]
     },
     "metadata": {},
     "output_type": "display_data"
    }
   ],
   "source": [
    "from IPython.display import display, display_html\n",
    "from IPython.display import HTML\n",
    "import IPython.core.display as di\n",
    "\n",
    "# This line will hide code by default when the notebook is exported as HTML\n",
    "di.display_html('<script>jQuery(function() {if (jQuery(\"body.notebook_app\").length == 0) { jQuery(\".input_area\").toggle(); jQuery(\".prompt\").toggle();}});</script>', raw=True)\n",
    "\n",
    "# This line will add a button to toggle visibility of code blocks, for use with the HTML export version\n",
    "di.display_html('''<button onclick=\"jQuery('.input_area').toggle(); jQuery('.prompt').toggle();\">Toggle code</button>''', raw=True)"
   ]
  },
  {
   "cell_type": "code",
   "execution_count": null,
   "metadata": {},
   "outputs": [],
   "source": [
    "import sys\n",
    "!{sys.executable} -m pip install ipywidgets lxml"
   ]
  },
  {
   "cell_type": "code",
   "execution_count": 254,
   "metadata": {},
   "outputs": [],
   "source": [
    "\n",
    "\n",
    "dropdown=widgets.Dropdown(\n",
    "  options=['microsoft','cisco','lenovo','intel','amd'],\n",
    "  value='microsoft',\n",
    "  disabled=False,\n",
    ")\n",
    "\n",
    "\n",
    "datepicker=widgets.DatePicker(\n",
    "    description='Pick a Date',\n",
    "    disabled=False\n",
    ")"
   ]
  },
  {
   "cell_type": "code",
   "execution_count": 265,
   "metadata": {},
   "outputs": [
    {
     "data": {
      "text/plain": [
       "'Choose a vendor/product'"
      ]
     },
     "metadata": {},
     "output_type": "display_data"
    },
    {
     "data": {
      "application/vnd.jupyter.widget-view+json": {
       "model_id": "c76e4386abfb42a4906e1e90c350c869",
       "version_major": 2,
       "version_minor": 0
      },
      "text/plain": [
       "Dropdown(index=2, options=('microsoft', 'cisco', 'lenovo', 'intel', 'amd'), value='lenovo')"
      ]
     },
     "metadata": {},
     "output_type": "display_data"
    },
    {
     "data": {
      "application/vnd.jupyter.widget-view+json": {
       "model_id": "2e9d15d700444a26ad33328e2287ed73",
       "version_major": 2,
       "version_minor": 0
      },
      "text/plain": [
       "DatePicker(value=datetime.date(2020, 2, 1), description='Pick a Date')"
      ]
     },
     "metadata": {},
     "output_type": "display_data"
    }
   ],
   "source": [
    "from IPython.core.display import display, display_html, HTML\n",
    "import ipywidgets as widgets\n",
    "import requests\n",
    "from datetime import date, timedelta\n",
    "from concurrent.futures import ThreadPoolExecutor\n",
    "import lxml.html\n",
    "import re\n",
    "\n",
    "#date\n",
    "#https://services.nvd.nist.gov/rest/json/cves/1.0?pubStartDate=2020-02-22T00:00:00:000%20UTC\n",
    "#keyword\n",
    "#https://services.nvd.nist.gov/rest/json/cves/1.0?keyword=\n",
    "#date & keyword\n",
    "#https://services.nvd.nist.gov/rest/json/cves/1.0?keyword=microsoft&pubStartDate=2020-02-22T00:00:00:000%20UTC\n",
    "#cve\n",
    "#https://nvd.nist.gov/vuln/detail/\n",
    "\n",
    "\n",
    "def group(lst, key, value=None):\n",
    "    result = defaultdict(list)\n",
    "    for i in lst:\n",
    "        result[key(i) if callable(key) else i[key]].append(value(i) if callable(value) else i[value] if value else i)\n",
    "    return result\n",
    "\n",
    "def scrape_cve(cve_id):\n",
    "    data_ids = [\"vuln-description\", \"vuln-cvss3-panel-score\"]\n",
    "    nvd_cve_url = f\"https://nvd.nist.gov/vuln/detail/{cve_id}\"\n",
    "    #print( nvd_cve_url)\n",
    "    cve_doc = lxml.html.fromstring(requests.get(nvd_cve_url).content)\n",
    "    try:\n",
    "      extracted = {id: cve_doc.xpath(f\"//*[@data-testid='{id}']/text()\")[0] for id in data_ids}\n",
    "      #print((extracted[\"vuln-description\"]).split(\",\")[0])\n",
    "      try:\n",
    "        cvscore=float(re.match(\"(\\d+\\.\\d+).*\", extracted[\"vuln-cvss3-panel-score\"]).group(1))\n",
    "      except:\n",
    "        cvscore=0.0\n",
    "      return {\n",
    "        \"id\": cve_id,\n",
    "        \"url\": nvd_cve_url,\n",
    "        \"description\": extracted[\"vuln-description\"],\n",
    "        \"aka\": (extracted[\"vuln-description\"]).split(\",\")[0],\n",
    "        \"cvss_score\": cvscore\n",
    "      }\n",
    "    except:\n",
    "      data_ids2 = [\"vuln-description\",\"vuln-cvss3-panel-score-na\"]\n",
    "      extracted = {id: cve_doc.xpath(f\"//*[@data-testid='{id}']/text()\") for id in data_ids2}\n",
    "    return {\n",
    "        \"id\": cve_id,\n",
    "        \"url\": nvd_cve_url,\n",
    "        \"description\": extracted[\"vuln-description\"][0],\n",
    "        \"aka\": (extracted[\"vuln-description\"][0]).split(\",\")[0],\n",
    "        \"cvss_score\": 0.0\n",
    "    }\n",
    "\n",
    "cvss_severity_colors = {\n",
    "    \"None\": None,\n",
    "    \"Low\": \"green\",\n",
    "    \"Medium\": \"#FFA53F\",\n",
    "    \"High\": \"#FF4F4F\",\n",
    "    \"Critical\": \"mediumorchid\"  \n",
    "}\n",
    "cvss_severity_matrix = [\n",
    "    (\"None\", 0.0, 0.0),\n",
    "    (\"Low\", 0.1, 3.9),\n",
    "    (\"Medium\", 4.0, 6.9),\n",
    "    (\"High\", 7.0, 8.9),\n",
    "    (\"Critical\", 9.0, 10.0)\n",
    "]\n",
    "\n",
    "def cvss_severity(score):\n",
    "    for severity, from_score, to_score in cvss_severity_matrix:\n",
    "        if int(from_score*10) <= int(score*10) <= int(to_score*10):\n",
    "            return severity\n",
    "        \n",
    "def table(columns, rows):\n",
    "    def table_cell_attrs(column, row=None):\n",
    "        attrs = {}\n",
    "        if \"attrs\" in column:\n",
    "            for k, v in column[\"attrs\"].items():\n",
    "                if callable(v):\n",
    "                    if row:\n",
    "                        attrs[k] = v(row)\n",
    "                else:\n",
    "                     attrs[k] = v    \n",
    "            if attrs:\n",
    "                return \" \" + \" \".join(f'{k}=\"{v}\"' for k, v in attrs.items())\n",
    "        return \"\"\n",
    "    def table_header_cells():\n",
    "        return [f\"<th{table_cell_attrs(column)}>{column['title']}</th>\" for column in columns]\n",
    "    def table_body_cells(row):\n",
    "        return [f\"<td{table_cell_attrs(column,row)}>{column['processor'](row[column['key']]) if 'processor' in column else row[column['key']]}</td>\" for column in columns]\n",
    "    def table_row(cells):\n",
    "        return f\"<tr>{''.join(cells)}</tr>\"\n",
    "    return f\"\"\"<table width=\"100%\">\n",
    "    <thead>{table_row(table_header_cells())}</thead>\n",
    "    <tbody>{''.join(table_row(table_body_cells(row)) for row in rows)}</tbody>\n",
    "</table>\"\"\"\n",
    "\n",
    "\n",
    "date_t = date.today().strftime(\"%Y-%m-%d\")\n",
    "date_minus = (date.today() - timedelta(days=10)).strftime(\"%Y-%m-%d\")\n",
    "#print(\"yyyy-MM-dd'T'HH:mm:ss:SSS z\")\n",
    "#print(date_t)\n",
    "\n",
    "#software=\"microsoft\"\n",
    "display(\"Choose a vendor/product\")\n",
    "display(dropdown)\n",
    "display(datepicker)\n",
    "\n",
    "try:\n",
    "  data = requests.get(\n",
    "      \"https://services.nvd.nist.gov/rest/json/cves/1.0?keyword={}&pubStartDate={}T00:00:00:000%20UTC&resultsPerPage=100\".format(dropdown.value,datepicker.value),\n",
    "      headers={\n",
    "          'Accept': 'application/json'\n",
    "      }).json()\n",
    "except:\n",
    "  print(\"something went wrong!\")\n",
    "  \n",
    "\n",
    "cve_ids=[]\n",
    "if (data[\"totalResults\"] > 0):\n",
    "  for i in range(data[\"totalResults\"]):\n",
    "    cve_ids.append(data[\"result\"][\"CVE_Items\"][i][\"cve\"][\"CVE_data_meta\"][\"ID\"])\n",
    "else:\n",
    "  display('No CVEs found!')"
   ]
  },
  {
   "cell_type": "code",
   "execution_count": 266,
   "metadata": {
    "scrolled": false
   },
   "outputs": [
    {
     "data": {
      "text/html": [
       "<h1>Lenovo CVE Feed from 2020-02-17</h1>"
      ],
      "text/plain": [
       "<IPython.core.display.HTML object>"
      ]
     },
     "metadata": {},
     "output_type": "display_data"
    },
    {
     "data": {
      "text/html": [
       "<table width=\"100%\">\n",
       "    <thead><tr><th width=\"15%\">CVE</th><th width=\"5%\">Severity (CVSSv3)</th><th width=\"20%\">Title</th><th>Description</th><th>URL</th></tr></thead>\n",
       "    <tbody><tr><td width=\"15%\">CVE-2019-6194</td><td width=\"5%\" bgcolor=\"#FFA53F\">5.5</td><td width=\"20%\">An XML External Entity (XXE) processing vulnerability was reported in Lenovo XClarity Administrator (LXCA) versions prior to 2.6.6 that could allow information disclosure.</td><td>An XML External Entity (XXE) processing vulnerability was reported in Lenovo XClarity Administrator (LXCA) versions prior to 2.6.6 that could allow information disclosure.</td><td>https://nvd.nist.gov/vuln/detail/CVE-2019-6194</td></tr><tr><td width=\"15%\">CVE-2019-19757</td><td width=\"5%\" bgcolor=\"None\">0.0</td><td width=\"20%\">An internal product security audit of Lenovo XClarity Administrator (LXCA) discovered a Document Object Model (DOM) based cross-site scripting vulnerability in versions prior to 2.6.6 that could allow JavaScript code to be executed in the user's web browser if a specially crafted link is visited. The JavaScript code is executed on the user's system</td><td>An internal product security audit of Lenovo XClarity Administrator (LXCA) discovered a Document Object Model (DOM) based cross-site scripting vulnerability in versions prior to 2.6.6 that could allow JavaScript code to be executed in the user's web browser if a specially crafted link is visited. The JavaScript code is executed on the user's system, not executed on LXCA itself.</td><td>https://nvd.nist.gov/vuln/detail/CVE-2019-19757</td></tr><tr><td width=\"15%\">CVE-2019-6193</td><td width=\"5%\" bgcolor=\"None\">0.0</td><td width=\"20%\">An information disclosure vulnerability was reported in Lenovo XClarity Administrator (LXCA) versions prior to 2.6.6 that could allow unauthenticated access to some configuration files which may contain usernames</td><td>An information disclosure vulnerability was reported in Lenovo XClarity Administrator (LXCA) versions prior to 2.6.6 that could allow unauthenticated access to some configuration files which may contain usernames, license keys, IP addresses, and encrypted password hashes.</td><td>https://nvd.nist.gov/vuln/detail/CVE-2019-6193</td></tr><tr><td width=\"15%\">CVE-2019-6195</td><td width=\"5%\" bgcolor=\"None\">0.0</td><td width=\"20%\">An authorization bypass exists in Lenovo XClarity Controller (XCC) versions prior to 3.08 CDI340V</td><td>An authorization bypass exists in Lenovo XClarity Controller (XCC) versions prior to 3.08 CDI340V, 3.01 TEI392O, 1.71 PSI328N where a valid authenticated user with lesser privileges may be granted read-only access to higher-privileged information if 1) “LDAP Authentication Only with Local Authorization” mode is configured and used by XCC, and 2) a lesser privileged user logs into XCC within 1 minute of a higher privileged user logging out. The authorization bypass does not exist when “Local Authentication and Authorization” or “LDAP Authentication and Authorization” modes are configured and used by XCC.</td><td>https://nvd.nist.gov/vuln/detail/CVE-2019-6195</td></tr><tr><td width=\"15%\">CVE-2019-19758</td><td width=\"5%\" bgcolor=\"None\">0.0</td><td width=\"20%\">A vulnerability in the web interface of Lenovo EZ Media & Backup Center</td><td>A vulnerability in the web interface of Lenovo EZ Media & Backup Center, ix2 & ix2-dl version 4.1.406.34763 and prior could allow an unauthenticated, remote attacker to redirect a user to an untrusted web page.</td><td>https://nvd.nist.gov/vuln/detail/CVE-2019-19758</td></tr><tr><td width=\"15%\">CVE-2019-6190</td><td width=\"5%\" bgcolor=\"None\">0.0</td><td width=\"20%\">Lenovo was notified of a potential denial of service vulnerability</td><td>Lenovo was notified of a potential denial of service vulnerability, affecting various versions of BIOS for Lenovo Desktop, Desktop - All in One, and ThinkStation, that could cause PCRs to be cleared intermittently after resuming from sleep (S3) on systems with Intel TXT enabled.</td><td>https://nvd.nist.gov/vuln/detail/CVE-2019-6190</td></tr></tbody>\n",
       "</table>"
      ],
      "text/plain": [
       "<IPython.core.display.HTML object>"
      ]
     },
     "metadata": {},
     "output_type": "display_data"
    }
   ],
   "source": [
    "if (data[\"totalResults\"] > 0):\n",
    "  display(HTML(\"<h1>\" + (dropdown.value[:1]).upper() + (dropdown.value[1:]) + \" CVE Feed from \"+ date_minus+\"</h1>\"))\n",
    "  with ThreadPoolExecutor(max_workers=3) as executor:\n",
    "    cves = sorted(executor.map(scrape_cve, cve_ids), key=lambda x: x[\"cvss_score\"], reverse=True)\n",
    "\n",
    "    display(HTML(table(\n",
    "    [\n",
    "        {\n",
    "            \"key\": \"id\", \n",
    "            \"title\": \"CVE\", \n",
    "            \"attrs\": {\"width\": \"15%\"}\n",
    "        },\n",
    "        {\n",
    "            \"key\": \"cvss_score\", \n",
    "            \"title\": \"Severity (CVSSv3)\", \n",
    "            \"attrs\": {\"width\": \"5%\", \"bgcolor\": lambda r: cvss_severity_colors[cvss_severity(r[\"cvss_score\"])]}\n",
    "        },\n",
    "        {\n",
    "            \"key\": \"aka\", \n",
    "            \"title\": \"Title\", \n",
    "            \"attrs\": {\"width\": \"20%\"}\n",
    "        },\n",
    "        {\n",
    "            \"key\": \"description\", \n",
    "            \"title\": \"Description\"\n",
    "        },\n",
    "        {\n",
    "            \"key\": \"url\", \n",
    "            \"title\": \"URL\"\n",
    "        }\n",
    "    ], \n",
    "    cves\n",
    "  )))\n",
    "else:\n",
    "  print(\"\")"
   ]
  },
  {
   "cell_type": "code",
   "execution_count": 264,
   "metadata": {
    "code_folding": []
   },
   "outputs": [
    {
     "data": {
      "image/png": "[encoded data removed]",
      "text/plain": [
       "<Figure size 432x288 with 1 Axes>"
      ]
     },
     "metadata": {},
     "output_type": "display_data"
    },
    {
     "data": {
      "image/png": "[encoded data removed]",
      "text/plain": [
       "<Figure size 432x288 with 1 Axes>"
      ]
     },
     "metadata": {
      "needs_background": "light"
     },
     "output_type": "display_data"
    }
   ],
   "source": [
    "import matplotlib.pyplot as plotter\n",
    "from collections import defaultdict\n",
    "\n",
    "if (data[\"totalResults\"] > 0):\n",
    "  grouped_cves = group(cves, lambda x: cvss_severity(x[\"cvss_score\"]))\n",
    "\n",
    "  severities = list([i[0] for i in cvss_severity_matrix if i[0] in grouped_cves])\n",
    "  severity_counts = [len(grouped_cves.get(k,[])) for k in severities]\n",
    "\n",
    "  explode_severities = {\n",
    "    \"None\": 0.1,\n",
    "    \"Low\": 0.1,\n",
    "    \"Medium\": 0.1,\n",
    "    \"High\": 0.1,\n",
    "    \"Critical\": 0.2\n",
    "  }\n",
    "\n",
    "  figureObject, axesObject = plotter.subplots()\n",
    "  pie=axesObject.pie(severity_counts, \n",
    "        explode=[explode_severities[k] for k in severities],\n",
    "        labels=severities,\n",
    "        autopct='%1.2f',\n",
    "        colors=[cvss_severity_colors[k] for k in severities],\n",
    "        startangle=90)\n",
    "  axesObject.axis('equal')\n",
    "  plotter.title('Vulnerability Severity Distribution%')\n",
    "  plotter.show()\n",
    "\n",
    "  figureObject, axesObject = plotter.subplots()\n",
    "  barlist = axesObject.barh(severities,\n",
    "        severity_counts,\n",
    "        0.8,\n",
    "        alpha = 0.7,\n",
    "        color = 'blue',\n",
    "        label = 'Vulns')\n",
    "  for i, s in enumerate(severities):\n",
    "    barlist[i].set_color(cvss_severity_colors[s])\n",
    "  axesObject.set_xlabel('Vuln Count')\n",
    "  plotter.title('No. Vulnerabilities By Severity')\n",
    "  plotter.show()\n",
    "else:\n",
    "  print(\"\")"
   ]
  }
 ],
 "metadata": {
  "kernelspec": {
   "display_name": "Python 3",
   "language": "python",
   "name": "python3"
  },
  "language_info": {
   "codemirror_mode": {
    "name": "ipython",
    "version": 3
   },
   "file_extension": ".py",
   "mimetype": "text/x-python",
   "name": "python",
   "nbconvert_exporter": "python",
   "pygments_lexer": "ipython3",
   "version": "3.8.1"
  }
 },
 "nbformat": 4,
 "nbformat_minor": 4
}
