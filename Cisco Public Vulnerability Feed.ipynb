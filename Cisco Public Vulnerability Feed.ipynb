{
 "cells": [
  {
   "cell_type": "code",
   "execution_count": 2,
   "metadata": {},
   "outputs": [
    {
     "data": {
      "text/html": [
       "<script>jQuery(function() {if (jQuery(\"body.notebook_app\").length == 0) { jQuery(\".input_area\").toggle(); jQuery(\".prompt\").toggle();}});</script>"
      ]
     },
     "metadata": {},
     "output_type": "display_data"
    },
    {
     "data": {
      "text/html": [
       "<button onclick=\"jQuery('.input_area').toggle(); jQuery('.prompt').toggle();\">Toggle code</button>"
      ]
     },
     "metadata": {},
     "output_type": "display_data"
    }
   ],
   "source": [
    "from IPython.display import display\n",
    "from IPython.display import HTML\n",
    "import IPython.core.display as di\n",
    "\n",
    "# This line will hide code by default when the notebook is exported as HTML\n",
    "di.display_html('<script>jQuery(function() {if (jQuery(\"body.notebook_app\").length == 0) { jQuery(\".input_area\").toggle(); jQuery(\".prompt\").toggle();}});</script>', raw=True)\n",
    "\n",
    "# This line will add a button to toggle visibility of code blocks, for use with the HTML export version\n",
    "di.display_html('''<button onclick=\"jQuery('.input_area').toggle(); jQuery('.prompt').toggle();\">Toggle code</button>''', raw=True)"
   ]
  },
  {
   "cell_type": "code",
   "execution_count": 1,
   "metadata": {
    "scrolled": false
   },
   "outputs": [
    {
     "data": {
      "text/html": [
       "<h1>Cisco Last 20 Vulnerabilities Feed</h1>"
      ],
      "text/plain": [
       "<IPython.core.display.HTML object>"
      ]
     },
     "metadata": {},
     "output_type": "display_data"
    },
    {
     "data": {
      "text/html": [
       "<table>\n",
       "    <tr>\n",
       "        <th>Identifer</th>\n",
       "        <th>Severity</th>\n",
       "        <th>Title</th>\n",
       "        <th>ciscoBugId</th>\n",
       "    </tr>\n",
       "    <tr>\n",
       "        <td>cisco-sa-20190828-iosxe-rest-auth-bypass</td>\n",
       "        <td>Critical</td>\n",
       "        <td>Cisco REST API Container for IOS XE Software Authentication Bypass Vulnerability</td>\n",
       "        <td>CSCvn93524<br>CSCvo47376</td>\n",
       "    </tr>\n",
       "    <tr>\n",
       "        <td>cisco-sa-20200108-ios-csrf</td>\n",
       "        <td>High</td>\n",
       "        <td>Cisco IOS and Cisco IOS XE Software Web UI Cross-Site Request Forgery Vulnerability</td>\n",
       "        <td>CSCvq66030</td>\n",
       "    </tr>\n",
       "    <tr>\n",
       "        <td>cisco-sa-20190925-ftp</td>\n",
       "        <td>High</td>\n",
       "        <td>Cisco IOS XE Software FTP Application Layer Gateway for NAT, NAT64, and ZBFW Denial of Service Vulnerability</td>\n",
       "        <td>CSCvn02419</td>\n",
       "    </tr>\n",
       "    <tr>\n",
       "        <td>cisco-sa-20190925-webui-cmd-injection</td>\n",
       "        <td>High</td>\n",
       "        <td>Cisco IOS XE Software Web UI Command Injection Vulnerabilities</td>\n",
       "        <td>CSCvo61821<br>CSCvp78858<br>CSCvp95724</td>\n",
       "    </tr>\n",
       "    <tr>\n",
       "        <td>cisco-sa-20190925-sip-dos</td>\n",
       "        <td>High</td>\n",
       "        <td>Cisco IOS and IOS XE Software Session Initiation Protocol Denial of Service Vulnerability</td>\n",
       "        <td>CSCvn00218</td>\n",
       "    </tr>\n",
       "    <tr>\n",
       "        <td>cisco-sa-20190925-sip-alg</td>\n",
       "        <td>High</td>\n",
       "        <td>Cisco IOS XE Software NAT Session Initiation Protocol Application Layer Gateway Denial of Service Vulnerability</td>\n",
       "        <td>CSCvn65912</td>\n",
       "    </tr>\n",
       "    <tr>\n",
       "        <td>cisco-sa-20190925-rawtcp-dos</td>\n",
       "        <td>High</td>\n",
       "        <td>Cisco IOS XE Software Raw Socket Transport Denial of Service Vulnerability</td>\n",
       "        <td>CSCvj91021</td>\n",
       "    </tr>\n",
       "    <tr>\n",
       "        <td>cisco-sa-20190925-iosxe-fsdos</td>\n",
       "        <td>High</td>\n",
       "        <td>Cisco IOS XE Software Filesystem Exhaustion Denial of Service Vulnerability</td>\n",
       "        <td>CSCvf80363</td>\n",
       "    </tr>\n",
       "    <tr>\n",
       "        <td>cisco-sa-20190925-utd</td>\n",
       "        <td>High</td>\n",
       "        <td>Cisco IOS XE Software Unified Threat Defense Denial of Service Vulnerability</td>\n",
       "        <td>CSCvn29244</td>\n",
       "    </tr>\n",
       "    <tr>\n",
       "        <td>cisco-sa-20190925-iosxe-digsig-bypass</td>\n",
       "        <td>High</td>\n",
       "        <td>Cisco IOS XE Software Digital Signature Verification Bypass Vulnerability</td>\n",
       "        <td>CSCvj87117<br>CSCvk12460</td>\n",
       "    </tr>\n",
       "    <tr>\n",
       "        <td>cisco-sa-20190925-identd-dos</td>\n",
       "        <td>High</td>\n",
       "        <td>Cisco IOS and IOS XE Software IP Ident Denial of Service Vulnerability</td>\n",
       "        <td>CSCvm01689</td>\n",
       "    </tr>\n",
       "    <tr>\n",
       "        <td>cisco-sa-20190925-xss</td>\n",
       "        <td>Medium</td>\n",
       "        <td>Cisco IOS XE Software Stored Cross-Site Scripting Vulnerability</td>\n",
       "        <td>CSCvk15284</td>\n",
       "    </tr>\n",
       "    <tr>\n",
       "        <td>cisco-sa-20190925-vman-cmd-injection</td>\n",
       "        <td>Medium</td>\n",
       "        <td>Cisco IOS XE Software Virtualization Manager CLI Command Injection Vulnerability</td>\n",
       "        <td>CSCuw36015</td>\n",
       "    </tr>\n",
       "    <tr>\n",
       "        <td>cisco-sa-20190925-vman</td>\n",
       "        <td>Medium</td>\n",
       "        <td>Cisco NX-OS and IOS XE Software Virtual Service Image Signature Bypass Vulnerability</td>\n",
       "        <td>CSCve53538<br>CSCvg14195<br>CSCve93259</td>\n",
       "    </tr>\n",
       "    <tr>\n",
       "        <td>cisco-sa-20190925-tsec</td>\n",
       "        <td>Medium</td>\n",
       "        <td>Cisco IOS and IOS XE Software Change of Authorization Denial of Service Vulnerability</td>\n",
       "        <td>CSCvg56762<br>CSCvm92998</td>\n",
       "    </tr>\n",
       "    <tr>\n",
       "        <td>cisco-sa-20190925-sbxss</td>\n",
       "        <td>Medium</td>\n",
       "        <td>Cisco IOS and IOS XE Software Stored Banner Cross-Site Scripting Vulnerability</td>\n",
       "        <td>CSCvk25852</td>\n",
       "    </tr>\n",
       "    <tr>\n",
       "        <td>cisco-sa-20190925-isdn-data-leak</td>\n",
       "        <td>Medium</td>\n",
       "        <td>Cisco IOS XE Software ISDN Data Leak Vulnerability</td>\n",
       "        <td>CSCvk42668</td>\n",
       "    </tr>\n",
       "    <tr>\n",
       "        <td>cisco-sa-20190925-iox-gs</td>\n",
       "        <td>Medium</td>\n",
       "        <td>Cisco IOS XE Software IOx Guest Shell Namespace Protection Vulnerability</td>\n",
       "        <td>CSCvn43123</td>\n",
       "    </tr>\n",
       "    <tr>\n",
       "        <td>cisco-sa-20190925-iosxe-ctbypass</td>\n",
       "        <td>Medium</td>\n",
       "        <td>Cisco IOS XE Software Consent Token Bypass Vulnerability</td>\n",
       "        <td>CSCvp34481</td>\n",
       "    </tr>\n",
       "    <tr>\n",
       "        <td>cisco-sa-20190925-iosxe-codeexec</td>\n",
       "        <td>Medium</td>\n",
       "        <td>Cisco IOS XE Software Arbitrary Code Execution Vulnerability</td>\n",
       "        <td>CSCvg18064</td>\n",
       "    </tr>\n",
       "</table>"
      ],
      "text/plain": [
       "<IPython.core.display.HTML object>"
      ]
     },
     "metadata": {},
     "output_type": "display_data"
    }
   ],
   "source": [
    "from urllib.request import urlopen\n",
    "from urllib.request import Request\n",
    "import json\n",
    "import matplotlib.pyplot as plotter\n",
    "from prettytable import PrettyTable\n",
    "\n",
    "x = PrettyTable()\n",
    "#x.field_names=[\"identifier\",\"title\",\"version\",\"firstPublished\",\"lastPublished\",\"workflowstatus\",\"id\",\"name\",\"url\",\"severity\",\"workarounds\",\"cwe\",\"cve\",\"ciscoBugId\",\"status\",\"summary\",\"totalcount\",\"realtedResource\"]\n",
    "x.field_names=[\"Identifer\",\"Severity\",\"Title\",\"ciscoBugId\"]\n",
    "request=urlopen(\"https://tools.cisco.com/security/center/publicationService.x?cves=&identifiers=&last_published_date=&limit=20&offset=0&publicationTypeIDs=1,3&resourceIDs=93036&securityImpactRatings=&sort=-last_published&title=\")\n",
    "cisco_data = request.read()\n",
    "data = json.loads(cisco_data)\n",
    "data = sorted(data, key=lambda k: k.get('severity', 0), reverse=False)\n",
    "entries=len(data)\n",
    "count=0\n",
    "critical=0\n",
    "high=0\n",
    "medium=0\n",
    "while count < entries:\n",
    "#for identifier,title,version,firstPublished,lastPublished,workflowstatus,id,name,url,severity,workarounds,cwe,cve,ciscoBugId,status,summary,totalcount,realtedResource in data:\n",
    "    x.add_row([data[count]['identifier'],data[count]['severity'],data[count]['title'],(data[count]['ciscoBugId']).replace(',','\\n')])\n",
    "    if data[count]['severity'] == 'Critical': critical+=1\n",
    "    if data[count]['severity'] == 'High': high+=1\n",
    "    if data[count]['severity'] == 'Medium': medium+=1\n",
    "    count+=1\n",
    "#print(x)\n",
    "from IPython.core.display import display, HTML\n",
    "display(HTML(\"<h1>Cisco Last 20 Vulnerabilities Feed</h1>\"))\n",
    "display(HTML(x.get_html_string()))"
   ]
  },
  {
   "cell_type": "code",
   "execution_count": 3,
   "metadata": {},
   "outputs": [
    {
     "data": {
      "image/png": "[encoded data removed]",
      "text/plain": [
       "<Figure size 432x288 with 1 Axes>"
      ]
     },
     "metadata": {},
     "output_type": "display_data"
    },
    {
     "data": {
      "image/png": "[encoded data removed]",
      "text/plain": [
       "<Figure size 432x288 with 1 Axes>"
      ]
     },
     "metadata": {
      "needs_background": "light"
     },
     "output_type": "display_data"
    }
   ],
   "source": [
    "pieLabels=['critical','high','medium']\n",
    "severitypie=[critical,high,medium]\n",
    "#print(\"total %d\" %(critical+high+medium))\n",
    "#print(\"critical:%d high:%d medium:%d\" %(critical, high, medium))\n",
    "explodeTuple = (0.2, 0.1, 0.1)\n",
    "figureObject, axesObject = plotter.subplots()\n",
    "pie=axesObject.pie(severitypie, \n",
    "        explode=explodeTuple,\n",
    "        labels=pieLabels,\n",
    "        autopct='%1.2f',\n",
    "        colors=['mediumorchid','#FF4F4F','#FFA53F'],\n",
    "        startangle=90)\n",
    "axesObject.axis('equal')\n",
    "plotter.title('Vulnerability Severity Distribution%')\n",
    "plotter.show()\n",
    "\n",
    "figureObject, axesObject    = plotter.subplots()\n",
    "barlist = axesObject.barh(('medium','high','critical'),\n",
    "        (medium,high,critical),\n",
    "        0.8,\n",
    "        alpha = 0.7,\n",
    "        color = 'blue',\n",
    "        label = 'Vulns')\n",
    "barlist[0].set_color('orange')\n",
    "barlist[1].set_color('red')\n",
    "barlist[2].set_color('purple')\n",
    "axesObject.set_xlabel('Vuln Count')\n",
    "plotter.title('No. Vulnerabilities By Severity')\n",
    "plotter.show()"
   ]
  },
  {
   "cell_type": "code",
   "execution_count": 1,
   "metadata": {},
   "outputs": [
    {
     "data": {
      "text/html": [
       "<h2>Cisco Annual Vulnerabilities Tracker</h2>"
      ],
      "text/plain": [
       "<IPython.core.display.HTML object>"
      ]
     },
     "metadata": {},
     "output_type": "display_data"
    },
    {
     "data": {
      "text/plain": [
       "<function matplotlib.pyplot.show(*args, **kw)>"
      ]
     },
     "execution_count": 1,
     "metadata": {},
     "output_type": "execute_result"
    },
    {
     "data": {
      "image/png": "[encoded data removed]",
      "text/plain": [
       "<Figure size 1008x432 with 1 Axes>"
      ]
     },
     "metadata": {
      "needs_background": "light"
     },
     "output_type": "display_data"
    }
   ],
   "source": [
    "from urllib.request import urlopen\n",
    "from urllib.request import Request\n",
    "import json\n",
    "import matplotlib.pyplot as plt\n",
    "from datetime import date, timedelta\n",
    "from IPython.display import HTML\n",
    "\n",
    "display(HTML(\"<h2>Cisco Annual Vulnerabilities Tracker</h2>\"))\n",
    "dates=[]\n",
    "\n",
    "today = date.today()\n",
    "date_today = today.strftime(\"%Y+%b\")\n",
    "day_today=(int)(today.strftime(\"%d\"))\n",
    "dates.append(date_today)\n",
    "for i in range(12):\n",
    "    d5= today - timedelta(days=(31*i)+day_today)\n",
    "    dates.append(d5.strftime(\"%Y+%b\"))\n",
    "\n",
    "critical_l=[]\n",
    "high_l=[]\n",
    "medium_l=[]\n",
    "month=0\n",
    "for date in dates:\n",
    "    request=urlopen(\"https://tools.cisco.com/security/center/publicationService.x?cves=&identifiers=&last_published_date=\"+date+\"&limit=20&offset=0&publicationTypeIDs=1,3&resourceIDs=93036&securityImpactRatings=&sort=-last_published&title=\")\n",
    "    cisco_data = request.read()\n",
    "    data = json.loads(cisco_data)\n",
    "    data = sorted(data, key=lambda k: k.get('severity', 0), reverse=False)\n",
    "    entries=len(data)\n",
    "    count=0\n",
    "    critical=0\n",
    "    high=0\n",
    "    medium=0\n",
    "    while count < entries:\n",
    "        if data[count]['severity'] == 'Critical': critical+=1\n",
    "        if data[count]['severity'] == 'High': high+=1\n",
    "        if data[count]['severity'] == 'Medium': medium=+1\n",
    "        count+=1\n",
    "    critical_l.append(critical)\n",
    "    high_l.append(high)\n",
    "    medium_l.append(medium)\n",
    "\n",
    "fig=plt.figure(figsize=(14,6))\n",
    "ax=fig.add_subplot(111)\n",
    "plt.plot(dates,critical_l, color=\"purple\",label='critical')\n",
    "plt.plot(dates,high_l, color=\"red\",label='high')\n",
    "plt.plot(dates,medium_l, color=\"orange\",label='medium')\n",
    "plt.xlabel('Last 12 Months')\n",
    "plt.ylabel('No of Vulns')\n",
    "plt.legend(loc=2)\n",
    "plt.show\n",
    "\n"
   ]
  }
 ],
 "metadata": {
  "celltoolbar": "Raw Cell Format",
  "kernelspec": {
   "display_name": "Python 3",
   "language": "python",
   "name": "python3"
  },
  "language_info": {
   "codemirror_mode": {
    "name": "ipython",
    "version": 3
   },
   "file_extension": ".py",
   "mimetype": "text/x-python",
   "name": "python",
   "nbconvert_exporter": "python",
   "pygments_lexer": "ipython3",
   "version": "3.8.1"
  }
 },
 "nbformat": 4,
 "nbformat_minor": 4
}
