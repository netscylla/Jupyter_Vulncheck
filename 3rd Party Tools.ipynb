{
 "cells": [
  {
   "cell_type": "code",
   "execution_count": 1,
   "metadata": {},
   "outputs": [
    {
     "data": {
      "text/html": [
       "<script>jQuery(function() {if (jQuery(\"body.notebook_app\").length == 0) { jQuery(\".input_area\").toggle(); jQuery(\".prompt\").toggle();}});</script>"
      ]
     },
     "metadata": {},
     "output_type": "display_data"
    },
    {
     "data": {
      "text/html": [
       "<button onclick=\"jQuery('.input_area').toggle(); jQuery('.prompt').toggle();\">Toggle code</button>"
      ]
     },
     "metadata": {},
     "output_type": "display_data"
    }
   ],
   "source": [
    "%run Cisco\\ Common.ipynb\n",
    "\n",
    "from IPython.display import display\n",
    "from IPython.display import HTML\n",
    "import IPython.core.display as di\n",
    "\n",
    "# This line will hide code by default when the notebook is exported as HTML\n",
    "di.display_html('<script>jQuery(function() {if (jQuery(\"body.notebook_app\").length == 0) { jQuery(\".input_area\").toggle(); jQuery(\".prompt\").toggle();}});</script>', raw=True)\n",
    "\n",
    "# This line will add a button to toggle visibility of code blocks, for use with the HTML export version\n",
    "di.display_html('''<button onclick=\"jQuery('.input_area').toggle(); jQuery('.prompt').toggle();\">Toggle code</button>''', raw=True)"
   ]
  },
  {
   "cell_type": "code",
   "execution_count": 2,
   "metadata": {},
   "outputs": [
    {
     "data": {
      "text/html": [
       "<h1>Adobe Acrobat Latest Vulnerability</h1>"
      ],
      "text/plain": [
       "<IPython.core.display.HTML object>"
      ]
     },
     "metadata": {},
     "output_type": "display_data"
    },
    {
     "name": "stdout",
     "output_type": "stream",
     "text": [
      "https://helpx.adobe.com/security/products/acrobat/apsb19-55.html\n"
     ]
    },
    {
     "data": {
      "text/html": [
       "<table>\n",
       "<tbody><tr><th><span style=\"font-weight: normal;\"><b>Bulletin ID</b></span></th>\n",
       "<th><b>Date Published</b></th>\n",
       "<th><span style=\"font-weight: normal;\"><b>Priority</b></span></th>\n",
       "</tr><tr><td>APSB19-55</td>\n",
       "<td>December 10, 2019</td>\n",
       "<td>2</td>\n",
       "</tr></tbody></table>\n",
       "</div>\n",
       "<div class=\"header parbase section\">\n",
       "\n",
       "\n",
       "\n",
       "    <a name=\"main-pars_header\"></a>\n",
       "    \n",
       "        \n",
       "\n",
       "        \n",
       "\n",
       "        \n",
       "            \n",
       "            \n",
       "            \n",
       "            \n",
       "            \n",
       "            \n",
       "            <div class=\"header  header-top\">\n",
       "                <h2 id=\"summary\">\n",
       "                    Summary\n",
       "                </h2>\n",
       "                \n",
       "                \n",
       "                    \n",
       "                \n",
       "            </div>\n",
       "            <!-- for Cascading Toc -->\n",
       "            \n",
       "                \n",
       "            \n",
       "        \n",
       "    \n",
       "\n",
       "</div>\n",
       "<div class=\"text parbase section\">\n",
       "\n",
       "    <a name=\"main-pars_text_1039417292_copy\"></a>\n",
       "    \n",
       "        \n",
       "            <div class=\"text\"><p>Adobe has released security updates for Adobe Acrobat and Reader for Windows and macOS. These updates address <a disablelinktracking=\"false\" href=\"https://helpx.adobe.com/security/severity-ratings.html\">critical</a> and  <a href=\"https://helpx.adobe.com/security/severity-ratings.html\" target=\"_blank\" data-disable-query=\"false\" disablelinktracking=\"false\">important</a> vulnerabilities.  Successful exploitation could lead to arbitrary code execution in the context of the current user.    </p>\n",
       "</div>\n",
       "        \n",
       "    \n",
       "    \n",
       "\n",
       "</div>\n",
       "<div class=\"text parbase section\">\n",
       "\n",
       "</div>\n",
       "<div class=\"header parbase section\">\n",
       "\n",
       "\n",
       "\n",
       "    <a name=\"main-pars_header_104783179\"></a>\n",
       "    \n",
       "        \n",
       "\n",
       "        \n",
       "\n",
       "        \n",
       "            \n",
       "            \n",
       "            \n",
       "            \n",
       "            \n",
       "            \n",
       "            <div class=\"header  header-top\">\n",
       "                <h2 id=\"AffectedVersions\">\n",
       "                    Affected Versions\n",
       "                </h2>\n",
       "                \n",
       "                \n",
       "                    \n",
       "                \n",
       "            </div>\n",
       "            <!-- for Cascading Toc -->\n",
       "            \n",
       "                \n",
       "            \n",
       "        \n",
       "    \n",
       "\n",
       "</div>\n",
       "<div class=\"text parbase section\">\n",
       "\n",
       "</div>\n",
       "<div class=\"table parbase section\">\n",
       "\n",
       "\n",
       "\n",
       "\n",
       "\n",
       "    <a name=\"main-pars_table\"></a>\n",
       "    <div class=\"noHeader\"><table width=\"100%\" cellspacing=\"0\" cellpadding=\"1\" border=\"1\">\n",
       "<tbody><tr><th><span style=\"font-weight: normal;\"><a href=\"#table\"></a><a name=\"table\" id=\"table\"></a><b>Product</b></span></th>\n",
       "<th><b>Track</b></th>\n",
       "<th><span style=\"font-weight: normal;\"><b>Affected Versions</b></span></th>\n",
       "<th><span style=\"font-weight: normal;\"><b>Platform</b></span></th>\n",
       "</tr><tr><td>Acrobat DC&nbsp;</td>\n",
       "<td>Continuous&nbsp;<br>\n",
       "<br>\n",
       "</td>\n",
       "<td>2019.021.20056&nbsp;and earlier versions </td>\n",
       "<td>Windows &amp; macOS</td>\n",
       "</tr><tr><td>Acrobat Reader DC</td>\n",
       "<td>Continuous&nbsp;</td>\n",
       "<td>&nbsp;2019.021.20056 and earlier versions&nbsp;</td>\n",
       "<td>Windows &amp; macOS</td>\n",
       "</tr><tr><td>&nbsp;</td>\n",
       "<td>&nbsp;</td>\n",
       "<td>&nbsp;</td>\n",
       "<td>&nbsp;</td>\n",
       "</tr><tr><td>Acrobat 2017</td>\n",
       "<td>Classic 2017</td>\n",
       "<td>2017.011.30152 and earlier versions </td>\n",
       "<td>Windows&nbsp;</td>\n",
       "</tr><tr><td>Acrobat 2017</td>\n",
       "<td>Classic 2017</td>\n",
       "<td>2017.011.30155 and earlier version</td>\n",
       "<td>macOS</td>\n",
       "</tr><tr><td>Acrobat Reader 2017</td>\n",
       "<td>Classic 2017</td>\n",
       "<td>2017.011.30152 and earlier versions</td>\n",
       "<td>Windows &amp; macOS</td>\n",
       "</tr><tr><td>&nbsp;</td>\n",
       "<td>&nbsp;</td>\n",
       "<td>&nbsp;</td>\n",
       "<td>&nbsp;</td>\n",
       "</tr><tr><td>Acrobat 2015&nbsp;</td>\n",
       "<td>Classic 2015</td>\n",
       "<td>2015.006.30505 and earlier versions</td>\n",
       "<td>Windows &amp; macOS</td>\n",
       "</tr><tr><td>Acrobat Reader 2015</td>\n",
       "<td>Classic 2015</td>\n",
       "<td>2015.006.30505 and earlier versions</td>\n",
       "<td>Windows &amp; macOS</td>\n",
       "</tr></tbody></table>\n",
       "</div></div>\n",
       "<div class=\"text parbase section\">\n",
       "\n",
       "</div>\n",
       "<div class=\"header parbase section\">\n",
       "\n",
       "\n",
       "\n",
       "    <a name=\"main-pars_header_604865618\"></a>\n",
       "    \n",
       "        \n",
       "\n",
       "        \n",
       "\n",
       "        \n",
       "            \n",
       "            \n",
       "            \n",
       "            \n",
       "            \n",
       "            \n",
       "            <div class=\"header  header-top\">\n",
       "                <h2 id=\"Solution\">\n",
       "                    Solution\n",
       "                </h2>\n",
       "                \n",
       "                \n",
       "                    \n",
       "                \n",
       "            </div>\n",
       "            <!-- for Cascading Toc -->\n",
       "            \n",
       "                \n",
       "            \n",
       "        \n",
       "    \n",
       "\n",
       "</div>\n",
       "<div class=\"text parbase section\">\n",
       "\n",
       "    <a name=\"main-pars_text_1440911409\"></a>\n",
       "    \n",
       "        \n",
       "            <div class=\"text\"><p>Adobe recommends users update their software installations to the latest versions by following the instructions below.    </p>\n",
       "<p>The latest product versions are available to end users via one of the following methods:    </p>\n",
       "<ul>\n",
       "<li><p>Users can update their product installations manually by choosing Help &gt; Check for Updates.     </p>\n",
       "</li>\n",
       "<li><p>The products will update automatically, without requiring user intervention, when updates are detected.     &nbsp;</p>\n",
       "</li>\n",
       "<li><p>The full Acrobat Reader installer can be downloaded from the <a href=\"http://get.adobe.com/reader\" target=\"_blank\">Acrobat Reader Download Center</a>.     </p>\n",
       "</li>\n",
       "</ul>\n",
       "<p>For IT administrators (managed environments):     </p>\n",
       "<ul>\n",
       "<li><p>Download the enterprise installers from <a href=\"ftp://ftp.adobe.com/pub/adobe/\" target=\"_blank\">ftp://ftp.adobe.com/pub/adobe/</a>, or refer to the specific release note version for links to installers.     </p>\n",
       "</li>\n",
       "<li><p>Install updates via your preferred methodology, such as AIP-GPO, bootstrapper, SCUP/SCCM (Windows), or on macOS, Apple Remote Desktop and SSH.    &nbsp;</p>\n",
       "</li>\n",
       "</ul>\n",
       "<p>   </p>\n",
       "<p>Adobe categorizes these updates with the following <a href=\"https://helpx.adobe.com/security/severity-ratings.html\" target=\"_blank\">priority ratings</a> and recommends users update their installation to the newest version:    </p>\n",
       "</div>\n",
       "        \n",
       "    \n",
       "    \n",
       "\n",
       "</div>\n",
       "<div class=\"table parbase section\">\n",
       "\n",
       "\n",
       "\n",
       "\n",
       "\n",
       "    <a name=\"main-pars_table_69633852\"></a>\n",
       "    <div class=\"noHeader\"><table width=\"100%\" cellspacing=\"0\" cellpadding=\"1\" border=\"1\">\n",
       "<tbody><tr><th><a href=\"#table\"></a><a name=\"table\" id=\"table\"></a><b>Product</b></th>\n",
       "<th>Track</th>\n",
       "<th><b>Updated Versions</b></th>\n",
       "<th><b>Platform</b></th>\n",
       "<th><b>Priority Rating</b></th>\n",
       "<th><b>Availability</b></th>\n",
       "</tr><tr><td>Acrobat DC</td>\n",
       "<td>Continuous</td>\n",
       "<td>2019.021.20058</td>\n",
       "<td>Windows&nbsp;and macOS</td>\n",
       "<td>2</td>\n",
       "<td><p><a href=\"http://www.adobe.com/support/downloads/product.jsp?product=1&amp;platform=Windows\" target=\"_blank\" data-disable-query=\"false\" disablelinktracking=\"false\">Windows</a>    </p>\n",
       "<p><a href=\"http://www.adobe.com/support/downloads/product.jsp?product=1&amp;platform=Mac\" target=\"_blank\" data-disable-query=\"false\" disablelinktracking=\"false\">macOS</a>  </p>\n",
       "</td>\n",
       "</tr><tr><td>Acrobat Reader DC</td>\n",
       "<td>Continuous</td>\n",
       "<td>2019.021.20058<br>\n",
       "</td>\n",
       "<td>Windows&nbsp;and macOS</td>\n",
       "<td>2</td>\n",
       "<td><p><a href=\"http://www.adobe.com/support/downloads/product.jsp?product=1&amp;platform=Windows\" data-disable-query=\"false\">Windows</a></p>\n",
       "<p><br>\n",
       "<a href=\"http://www.adobe.com/support/downloads/product.jsp?product=1&amp;platform=Mac\">macOS</a></p>\n",
       "</td>\n",
       "</tr><tr><td>&nbsp;</td>\n",
       "<td>&nbsp;</td>\n",
       "<td>&nbsp;</td>\n",
       "<td>&nbsp;</td>\n",
       "<td>&nbsp;</td>\n",
       "<td>&nbsp;</td>\n",
       "</tr><tr><td>Acrobat 2017</td>\n",
       "<td>Classic 2017</td>\n",
       "<td>2017.011.30156</td>\n",
       "<td>Windows&nbsp;and macOS</td>\n",
       "<td>2</td>\n",
       "<td><p><a href=\"http://www.adobe.com/support/downloads/product.jsp?product=1&amp;platform=Windows\" data-disable-query=\"false\">Windows</a></p>\n",
       "<p><a href=\"http://www.adobe.com/support/downloads/product.jsp?product=1&amp;platform=Mac\" data-disable-query=\"false\">macOS</a><br>\n",
       "</p>\n",
       "</td>\n",
       "</tr><tr><td>Acrobat Reader 2017</td>\n",
       "<td>Classic 2017</td>\n",
       "<td>2017.011.30156</td>\n",
       "<td>Windows&nbsp;and macOS</td>\n",
       "<td>2</td>\n",
       "<td><p><a href=\"http://www.adobe.com/support/downloads/product.jsp?product=1&amp;platform=Windows\">Windows</a></p>\n",
       "<p><a href=\"http://www.adobe.com/support/downloads/product.jsp?product=1&amp;platform=Mac\">macOS</a><br>\n",
       "</p>\n",
       "</td>\n",
       "</tr><tr><td>&nbsp;</td>\n",
       "<td>&nbsp;</td>\n",
       "<td>&nbsp;</td>\n",
       "<td>&nbsp;</td>\n",
       "<td>&nbsp;</td>\n",
       "<td>&nbsp;</td>\n",
       "</tr><tr><td>Acrobat 2015</td>\n",
       "<td>Classic 2015</td>\n",
       "<td>2015.006.30508</td>\n",
       "<td>Windows&nbsp;and macOS</td>\n",
       "<td>2</td>\n",
       "<td><p><a href=\"http://www.adobe.com/support/downloads/product.jsp?product=1&amp;platform=Windows\">Windows</a></p>\n",
       "<p><a href=\"http://www.adobe.com/support/downloads/product.jsp?product=1&amp;platform=Mac\">macOS</a><br>\n",
       "</p>\n",
       "</td>\n",
       "</tr><tr><td>Acrobat Reader 2015</td>\n",
       "<td>Classic 2015</td>\n",
       "<td>2015.006.30508</td>\n",
       "<td>Windows&nbsp;and macOS</td>\n",
       "<td>2</td>\n",
       "<td><p><a href=\"http://www.adobe.com/support/downloads/product.jsp?product=1&amp;platform=Windows\">Windows</a></p>\n",
       "<p><a href=\"http://www.adobe.com/support/downloads/product.jsp?product=1&amp;platform=Mac\">macOS</a><br>\n",
       "</p>\n",
       "</td>\n",
       "</tr></tbody></table>\n",
       "</div></div>\n",
       "<div class=\"note parbase section\">\n",
       "\n",
       "\n",
       "\n",
       "\n",
       "\n",
       "</div>\n",
       "<div class=\"header parbase section\">\n",
       "\n",
       "\n",
       "\n",
       "    <a name=\"main-pars_header_127936884\"></a>\n",
       "    \n",
       "        \n",
       "\n",
       "        \n",
       "\n",
       "        \n",
       "            \n",
       "            \n",
       "            \n",
       "            \n",
       "            \n",
       "            \n",
       "            <div class=\"header  header-top\">\n",
       "                <h2 id=\"VulnerabilityDetails\">\n",
       "                    Vulnerability Details\n",
       "                </h2>\n",
       "                \n",
       "                \n",
       "                    \n",
       "                \n",
       "            </div>\n",
       "            <!-- for Cascading Toc -->\n",
       "            \n",
       "                \n",
       "            \n",
       "        \n",
       "    \n",
       "\n",
       "</div>\n",
       "<div class=\"table parbase section\">\n",
       "\n",
       "\n",
       "\n",
       "\n",
       "\n",
       "    <a name=\"main-pars_table_606250906\"></a>\n",
       "    <table width=\"100%\" cellspacing=\"0\" cellpadding=\"1\" border=\"1\">\n",
       "<tbody><tr><th><a href=\"#table\"></a><b>Vulnerability Category</b></th>\n",
       "<th><b>Vulnerability Impact</b></th>\n",
       "<th><b>Severity</b></th>\n",
       "<th width=\"25%\"><b>CVE Number</b></th>\n",
       "</tr><tr><td>Out-of-Bounds Read  </td>\n",
       "<td>Information Disclosure  </td>\n",
       "<td>Important   </td>\n",
       "<td><p>CVE-2019-16449<br>\n",
       "</p>\n",
       "<p>CVE-2019-16456</p>\n",
       "<p>CVE-2019-16457</p>\n",
       "<p>CVE-2019-16458</p>\n",
       "<p>CVE-2019-16461</p>\n",
       "<p>CVE-2019-16465</p>\n",
       "</td>\n",
       "</tr><tr><td>Out-of-Bounds Write </td>\n",
       "<td>Arbitrary Code Execution   </td>\n",
       "<td>Critical</td>\n",
       "<td><p>CVE-2019-16450</p>\n",
       "<p>CVE-2019-16454</p>\n",
       "</td>\n",
       "</tr><tr><td>Use After Free   </td>\n",
       "<td>Arbitrary Code Execution     </td>\n",
       "<td>Critical</td>\n",
       "<td><p>CVE-2019-16445</p>\n",
       "<p>CVE-2019-16448</p>\n",
       "<p>CVE-2019-16452</p>\n",
       "<p>CVE-2019-16459</p>\n",
       "<p>CVE-2019-16464</p>\n",
       "</td>\n",
       "</tr><tr><td>Heap Overflow </td>\n",
       "<td>Arbitrary Code Execution     </td>\n",
       "<td>Critical</td>\n",
       "<td>CVE-2019-16451</td>\n",
       "</tr><tr><td>Buffer Error</td>\n",
       "<td>Arbitrary Code Execution     </td>\n",
       "<td>Critical</td>\n",
       "<td>CVE-2019-16462</td>\n",
       "</tr><tr><td>Untrusted Pointer Dereference</td>\n",
       "<td>Arbitrary Code Execution </td>\n",
       "<td>Critical</td>\n",
       "<td><p>CVE-2019-16446</p>\n",
       "<p>CVE-2019-16455</p>\n",
       "<p>CVE-2019-16460</p>\n",
       "<p>CVE-2019-16463</p>\n",
       "</td>\n",
       "</tr><tr><td>Binary Planting (default folder privilege escalation)&nbsp;</td>\n",
       "<td>Privilege Escalation</td>\n",
       "<td>Important </td>\n",
       "<td>CVE-2019-16444</td>\n",
       "</tr><tr><td>Security Bypass</td>\n",
       "<td>Arbitrary Code Execution</td>\n",
       "<td>Critical</td>\n",
       "<td>CVE-2019-16453</td>\n",
       "</tr></tbody></table></div>"
      ],
      "text/plain": [
       "<IPython.core.display.HTML object>"
      ]
     },
     "metadata": {},
     "output_type": "display_data"
    }
   ],
   "source": [
    "from IPython.core.display import display, HTML\n",
    "import re\n",
    "\n",
    "def parse_brief(cell):\n",
    "    ids = cell.xpath(\".//b|.//strong\")\n",
    "    result = {}\n",
    "    if ids:\n",
    "        result[\"id\"] = parse_text(ids[0])\n",
    "    links = cell.xpath(\".//a\")\n",
    "    if links:\n",
    "        result[\"link\"] = links[0].attrib[\"href\"]\n",
    "        result[\"description\"] = parse_text_content(links[0].xpath(\"text()\"))\n",
    "    else:\n",
    "        result[\"description\"] = parse_text(cell)\n",
    "\n",
    "    return result\n",
    "\n",
    "\n",
    "def parse_table_title(table):\n",
    "    return \" \".join(\n",
    "        map(parse_text, table.xpath(\"ancestor::div[@class='table parbase section']/preceding-sibling::div[1]//h2\")))\n",
    "\n",
    "\n",
    "def parse_acrobat_feed(feed):\n",
    "    cell_parsers = {\n",
    "        \"Brief\": parse_brief,\n",
    "        \"Originally posted\": parse_date,\n",
    "        \"Last updated\": parse_date\n",
    "    }\n",
    "    return {\n",
    "        parse_table_title(t): sorted(parse_table(t, cell_parsers), key=lambda r: r[\"Last updated\"], reverse=True)\n",
    "        for t in\n",
    "        feed.xpath(\"//div[@id='main-content']//table\")\n",
    "    }\n",
    "\n",
    "feed = parse_acrobat_feed(get_html(\"https://helpx.adobe.com/security/products/acrobat.html\"))\n",
    "url = next(iter(feed.values()))[0]['Brief']['link']\n",
    "content = requests.get(url).text\n",
    "info_content = re.findall('<table width=\"100%\" cellspacing=\"0\" cellpadding=\"1\" border=\"1\">(.*)</table>', content,re.MULTILINE|re.DOTALL)[0]\n",
    "\n",
    "display(HTML(\"<h1>Adobe Acrobat Latest Vulnerability</h1>\"))\n",
    "print(url)\n",
    "display(HTML(\"<table>\"+info_content+\"</table></div>\"))"
   ]
  },
  {
   "cell_type": "code",
   "execution_count": 3,
   "metadata": {},
   "outputs": [],
   "source": [
    "#AMD\n",
    "#too much js\n",
    "\n"
   ]
  },
  {
   "cell_type": "code",
   "execution_count": 4,
   "metadata": {},
   "outputs": [
    {
     "data": {
      "text/html": [
       "<h1>Cisco AnyConnect Monthly Vulnerability Feed</h1>"
      ],
      "text/plain": [
       "<IPython.core.display.HTML object>"
      ]
     },
     "metadata": {},
     "output_type": "display_data"
    },
    {
     "data": {
      "text/html": [
       "<table>\n",
       "    <tr>\n",
       "        <th>Identifer</th>\n",
       "        <th>Severity</th>\n",
       "        <th>Title</th>\n",
       "        <th>ciscoBugId</th>\n",
       "        <th>Last Published</th>\n",
       "    </tr>\n",
       "    <tr>\n",
       "        <td>cisco-sa-20200108-anyconnect-hijack</td>\n",
       "        <td>Medium</td>\n",
       "        <td>Cisco AnyConnect Secure Mobility Client for Android Service Hijack Vulnerability</td>\n",
       "        <td>CSCvr67149</td>\n",
       "        <td>2020-01-08</td>\n",
       "    </tr>\n",
       "</table>"
      ],
      "text/plain": [
       "<IPython.core.display.HTML object>"
      ]
     },
     "metadata": {},
     "output_type": "display_data"
    }
   ],
   "source": [
    "from IPython.core.display import display, HTML\n",
    "from datetime import date \n",
    "\n",
    "# month = date.today().strftime(\"%Y+%b\") \n",
    "# I commented the one above, since there are no vulnerabilities for 2020+Jan\n",
    "month = \"2020+Jan\"\n",
    "\n",
    "display(HTML(\"<h1>Cisco AnyConnect Monthly Vulnerability Feed</h1>\"))\n",
    "display(HTML(get_cisco_vuln_table(get_cisco_vuln_data(109810, month))))"
   ]
  },
  {
   "cell_type": "code",
   "execution_count": 5,
   "metadata": {},
   "outputs": [
    {
     "data": {
      "text/html": [
       "<table>\n",
       "    <thead><tr><th>Date</th><th>Software</th><th>Urls</th></tr></thead>\n",
       "    <tbody><tr><td>2020-01-28</td><td>Microsoft Edge (Chromium-based)</td><td><a href=\"https://docs.microsoft.com/en-us/DeployEdge/microsoft-edge-relnotes-security\">https://docs.microsoft.com/en-us/DeployEdge/microsoft-edge-relnotes-security</a></td></tr></tbody>\n",
       "</table>"
      ],
      "text/plain": [
       "<IPython.core.display.HTML object>"
      ]
     },
     "metadata": {},
     "output_type": "display_data"
    }
   ],
   "source": [
    "date_today = date.today().strftime(\"%m/%d/%Y\")\n",
    "url = \"https://portal.msrc.microsoft.com/api/security-guidance/en-us/summary?filterText=edge&fromPublishedDate=12%2F11%2F2019&isDescending=true&orderBy=publishedDate&pageNumber=1&pageSize=20&toPublishedDate=\"+date_today\n",
    "\n",
    "data = get_json(url)\n",
    "\n",
    "display(HTML(table(\n",
    "    data['details'],\n",
    "    [\n",
    "        {\n",
    "            \"key\": \"publishedDate\", \n",
    "            \"title\": \"Date\", \n",
    "            \"processor\": lambda x: x[:10]\n",
    "        },\n",
    "        {\n",
    "            \"key\": \"updateSoftwareList\", \n",
    "            \"title\": \"Software\", \n",
    "            \"processor\": lambda x: x[0]\n",
    "        },\n",
    "        {\n",
    "            \"key\": \"articleUrl1\", \n",
    "            \"title\": \"Urls\", \n",
    "            \"processor\": lambda x: f'<a href=\"{x}\">{x}</a>'\n",
    "        },\n",
    "    ]\n",
    ")))"
   ]
  },
  {
   "cell_type": "code",
   "execution_count": 6,
   "metadata": {},
   "outputs": [
    {
     "data": {
      "text/html": [
       "<h1>Google Chrome Latest Version</h1>"
      ],
      "text/plain": [
       "<IPython.core.display.HTML object>"
      ]
     },
     "metadata": {},
     "output_type": "display_data"
    },
    {
     "data": {
      "text/html": [
       "Chrome 79: December 11, 2019 <a href=\"https://storage.googleapis.com/support-kms-prod/4OnCGzJdV68GltoIaVjD23HfvkFnRZmNxHLZ\">Release PDF</a>"
      ],
      "text/plain": [
       "<IPython.core.display.HTML object>"
      ]
     },
     "metadata": {},
     "output_type": "display_data"
    }
   ],
   "source": [
    "from urllib.parse import urljoin\n",
    "\n",
    "url = \"https://support.google.com/chrome/a/answer/7679408/\"\n",
    "\n",
    "row = get_html(url).xpath(\"//div[@class='article-content-container']/*/table//tr[2]/td\")\n",
    "version = row[0].xpath(\"a/text()\")[0]\n",
    "link = urljoin(url, row[1].xpath(\"a/@href\")[0])\n",
    "\n",
    "display(HTML(\"<h1>Google Chrome Latest Version</h1>\"))\n",
    "display(HTML(f'{version} <a href=\"{link}\">Release PDF</a>'))"
   ]
  },
  {
   "cell_type": "code",
   "execution_count": 7,
   "metadata": {},
   "outputs": [
    {
     "data": {
      "text/html": [
       "<table>\n",
       "    <thead><tr><th>URL</th><th>Severity</th><th>Last Date</th></tr></thead>\n",
       "    <tbody><tr><td><a href=\"https://www.intel.com/content/www/us/en/security-center/advisory/intel-sa-00329.html\">INTEL-SA-00329</a></td><td>MEDIUM</td><td>01/27/2020</td></tr></tbody>\n",
       "</table>"
      ],
      "text/plain": [
       "<IPython.core.display.HTML object>"
      ]
     },
     "metadata": {},
     "output_type": "display_data"
    }
   ],
   "source": [
    "from urllib.parse import urljoin\n",
    "from concurrent.futures import ThreadPoolExecutor\n",
    "\n",
    "url = \"https://www.intel.com/content/www/us/en/security-center/default.html\"\n",
    "\n",
    "def parse_advisory(cell):\n",
    "    link = cell.xpath(\"a\")[0]\n",
    "    return {\n",
    "        \"link\": urljoin(url, link.attrib['href']),\n",
    "        \"text\": link.text\n",
    "    }\n",
    "\n",
    "advisories = parse_table(\n",
    "    lxml.html.fromstring(\n",
    "        requests.get(url).content\n",
    "    ).xpath(\"//table\")[0],\n",
    "    parsers = {\"Advisories\": parse_advisory}\n",
    ")\n",
    "\n",
    "def get_advisory_details(url):\n",
    "    return {\n",
    "        \"url\": url,\n",
    "        **{\n",
    "            parse_text(row[0]).rstrip(\":\").strip():parse_text(row[1]) \n",
    "            for row in \n",
    "            get_html(url).xpath(\"//table\")[0].xpath(\".//tr\")\n",
    "        }\n",
    "    }\n",
    "\n",
    "with ThreadPoolExecutor(max_workers=5) as executor:\n",
    "    advisory_details = executor.map(get_advisory_details, (a[\"Advisories\"][\"link\"] for a in advisories[:1]))\n",
    "\n",
    "display(HTML(table(\n",
    "    advisory_details,\n",
    "    [\n",
    "        {\n",
    "            \"key\": None, \n",
    "            \"title\": \"URL\", \n",
    "            \"processor\": lambda r: f'<a href=\"{r[\"url\"]}\">{r[\"Intel ID\"]}</a>'\n",
    "        },\n",
    "        {\n",
    "            \"key\": \"Severity rating\", \n",
    "            \"title\": \"Severity\", \n",
    "        },\n",
    "        {\n",
    "            \"key\": \"Last revised\", \n",
    "            \"title\": \"Last Date\", \n",
    "        },\n",
    "    ]\n",
    ")))"
   ]
  },
  {
   "cell_type": "code",
   "execution_count": 14,
   "metadata": {},
   "outputs": [
    {
     "data": {
      "text/html": [
       "<h1>Java Jan2020 Vulnerabilites</h1>"
      ],
      "text/plain": [
       "<IPython.core.display.HTML object>"
      ]
     },
     "metadata": {},
     "output_type": "display_data"
    },
    {
     "name": "stdout",
     "output_type": "stream",
     "text": [
      "https://www.oracle.com/security-alerts/cpujan2020.html\n"
     ]
    },
    {
     "data": {
      "text/html": [
       "<h2>Affected Versions</h2>"
      ],
      "text/plain": [
       "<IPython.core.display.HTML object>"
      ]
     },
     "metadata": {},
     "output_type": "display_data"
    },
    {
     "name": "stdout",
     "output_type": "stream",
     "text": [
      "11.2.0.4, 12.1.0.2, 12.2.0.1, 18c, 19c\n"
     ]
    },
    {
     "data": {
      "text/html": [
       "<h3>Oracle Database Server Risk Matrix</h3>"
      ],
      "text/plain": [
       "<IPython.core.display.HTML object>"
      ]
     },
     "metadata": {},
     "output_type": "display_data"
    },
    {
     "data": {
      "text/html": [
       "<table>\n",
       "    <thead><tr><th>Protocol</th><th>CVSS Base Score</th><th>Component</th><th>CVSS Scope</th><th>CVSS Confid- entiality</th><th>CVSS Attack Complex</th><th>Remote Exploit without Auth.?</th><th>CVSS Attack Vector</th><th>CVSS Privs Req'd</th><th>CVSS Avail- ability</th><th>Package and/or Privilege Required</th><th>CVE#</th><th>Notes</th><th>CVSS User Interact</th><th>CVSS Inte- grity</th><th>Supported Versions Affected</th></tr></thead>\n",
       "    <tbody><tr><td>OracleNet</td><td>7.7</td><td>Core RDBMS</td><td>Changed</td><td>None</td><td>Low</td><td>No</td><td>Network</td><td>Low</td><td>High</td><td>Create Session</td><td>CVE-2020-2511</td><td></td><td>None</td><td>None</td><td>12.1.0.2, 12.2.0.1, 18c, 19c</td></tr><tr><td>OracleNet</td><td>7.5</td><td>Core RDBMS</td><td>Un- changed</td><td>High</td><td>High</td><td>Yes</td><td>Network</td><td>None</td><td>High</td><td>None</td><td>CVE-2020-2510</td><td></td><td>Required</td><td>High</td><td>11.2.0.4, 12.1.0.2, 12.2.0.1, 18c, 19c</td></tr><tr><td>Multiple</td><td>7.5</td><td>Java VM</td><td>Un- changed</td><td>High</td><td>High</td><td>No</td><td>Network</td><td>Low</td><td>High</td><td>Create Session</td><td>CVE-2020-2518</td><td></td><td>None</td><td>High</td><td>11.2.0.4, 12.1.0.2, 12.2.0.1, 18c, 19c</td></tr><tr><td>HTTP</td><td>7.5</td><td>Workload Manager (Apache Tomcat)</td><td>Un- changed</td><td>None</td><td>Low</td><td>Yes</td><td>Network</td><td>None</td><td>High</td><td>None</td><td>CVE-2019-10072</td><td>See Note 1</td><td>None</td><td>None</td><td>12.2.0.1, 18c, 19c</td></tr><tr><td>OracleNet</td><td>5.9</td><td>Database Gateway for ODBC</td><td>Un- changed</td><td>None</td><td>High</td><td>Yes</td><td>Network</td><td>None</td><td>High</td><td>None</td><td>CVE-2020-2512</td><td></td><td>None</td><td>None</td><td>11.2.0.4, 12.1.0.2, 12.2.0.1, 18c, 19c</td></tr><tr><td>OracleNet</td><td>5.0</td><td>Database Gateway for ODBC</td><td>Un- changed</td><td>Low</td><td>High</td><td>No</td><td>Network</td><td>Low</td><td>Low</td><td>Create Session</td><td>CVE-2020-2515</td><td></td><td>None</td><td>Low</td><td>11.2.0.4, 12.1.0.2, 12.2.0.1, 18c, 19c</td></tr><tr><td>OracleNet</td><td>4.1</td><td>Core RDBMS</td><td>Changed</td><td>Low</td><td>Low</td><td>No</td><td>Network</td><td>High</td><td>None</td><td>Create Index, Create Table</td><td>CVE-2020-2527</td><td></td><td>None</td><td>None</td><td>12.1.0.2, 12.2.0.1, 18c, 19c</td></tr><tr><td>Local Logon</td><td>3.9</td><td>Core RDBMS</td><td>Un- changed</td><td>None</td><td>Low</td><td>No</td><td>Local</td><td>Low</td><td>Low</td><td>Local Logon</td><td>CVE-2020-2731</td><td></td><td>Required</td><td>Low</td><td>12.1.0.2, 12.2.0.1, 18c, 19c</td></tr><tr><td>Local Logon</td><td>3.9</td><td>Oracle Applications DBA</td><td>Un- changed</td><td>None</td><td>Low</td><td>No</td><td>Local</td><td>Low</td><td>Low</td><td>Local Logon</td><td>CVE-2020-2568</td><td></td><td>Required</td><td>Low</td><td>12.1.0.2, 12.2.0.1, 18c, 19c</td></tr><tr><td>Local Logon</td><td>3.9</td><td>Oracle Applications DBA</td><td>Un- changed</td><td>None</td><td>Low</td><td>No</td><td>Local</td><td>Low</td><td>Low</td><td>Local Logon</td><td>CVE-2020-2569</td><td></td><td>Required</td><td>Low</td><td>12.2.0.1, 18c, 19c</td></tr><tr><td>OracleNet</td><td>3.3</td><td>Database Gateway for ODBC</td><td>Un- changed</td><td>None</td><td>High</td><td>No</td><td>Network</td><td>High</td><td>Low</td><td>Create Procedure, Create Database Link</td><td>CVE-2020-2517</td><td></td><td>None</td><td>Low</td><td>12.2.0.1, 18c, 19c</td></tr><tr><td>OracleNet</td><td>2.4</td><td>Core RDBMS</td><td>Un- changed</td><td>None</td><td>Low</td><td>No</td><td>Network</td><td>High</td><td>None</td><td>Create Materialized View, Create Table</td><td>CVE-2020-2516</td><td></td><td>Required</td><td>Low</td><td>12.1.0.2, 12.2.0.1, 18c, 19c</td></tr></tbody>\n",
       "</table>"
      ],
      "text/plain": [
       "<IPython.core.display.HTML object>"
      ]
     },
     "metadata": {},
     "output_type": "display_data"
    },
    {
     "data": {
      "text/html": [
       "<h2>Affected Versions</h2>"
      ],
      "text/plain": [
       "<IPython.core.display.HTML object>"
      ]
     },
     "metadata": {},
     "output_type": "display_data"
    },
    {
     "name": "stdout",
     "output_type": "stream",
     "text": [
      "11.0.5, 13.0.1, 13.0.1; Java SE Embedded: 8u231, 8u231, 8u231; Java SE Embedded: 8u231, Java SE: 11.0.5, Java SE: 7u241, Java SE: 8u231\n"
     ]
    },
    {
     "data": {
      "text/html": [
       "<h3>Oracle Java SE Risk Matrix</h3>"
      ],
      "text/plain": [
       "<IPython.core.display.HTML object>"
      ]
     },
     "metadata": {},
     "output_type": "display_data"
    },
    {
     "data": {
      "text/html": [
       "<table>\n",
       "    <thead><tr><th>Protocol</th><th>CVSS Base Score</th><th>Component</th><th>CVSS Scope</th><th>CVSS Confid- entiality</th><th>CVSS Attack Complex</th><th>Remote Exploit without Auth.?</th><th>Product</th><th>CVSS Attack Vector</th><th>CVSS Privs Req'd</th><th>CVSS Avail- ability</th><th>CVSS Inte- grity</th><th>CVE#</th><th>Notes</th><th>CVSS User Interact</th><th>Supported Versions Affected</th></tr></thead>\n",
       "    <tbody><tr><td>Multiple</td><td>8.1</td><td>Serialization</td><td>Un- changed</td><td>High</td><td>High</td><td>Yes</td><td>Java SE, Java SE Embedded</td><td>Network</td><td>None</td><td>High</td><td>High</td><td>CVE-2020-2604</td><td>See Note 1</td><td>None</td><td>Java SE: 7u241, 8u231, 11.0.5, 13.0.1; Java SE Embedded: 8u231</td></tr><tr><td>Multiple</td><td>7.5</td><td>JavaFX (SQLite)</td><td>Un- changed</td><td>None</td><td>Low</td><td>Yes</td><td>Java SE</td><td>Network</td><td>None</td><td>High</td><td>None</td><td>CVE-2019-16168</td><td>See Note 2</td><td>None</td><td>Java SE: 8u231</td></tr><tr><td>Multiple</td><td>7.5</td><td>JavaFX (libxslt)</td><td>Un- changed</td><td>High</td><td>Low</td><td>Yes</td><td>Java SE</td><td>Network</td><td>None</td><td>None</td><td>None</td><td>CVE-2019-13117</td><td>See Note 2</td><td>None</td><td>Java SE: 8u231</td></tr><tr><td>Multiple</td><td>7.5</td><td>JavaFX (libxslt)</td><td>Un- changed</td><td>High</td><td>Low</td><td>Yes</td><td>Java SE</td><td>Network</td><td>None</td><td>None</td><td>None</td><td>CVE-2019-13118</td><td>See Note 2</td><td>None</td><td>Java SE: 8u231</td></tr><tr><td>Kerberos</td><td>6.8</td><td>Security</td><td>Changed</td><td>High</td><td>High</td><td>Yes</td><td>Java SE, Java SE Embedded</td><td>Network</td><td>None</td><td>None</td><td>None</td><td>CVE-2020-2601</td><td>See Note 1</td><td>None</td><td>Java SE: 7u241, 8u231, 11.0.5, 13.0.1; Java SE Embedded: 8u231</td></tr><tr><td>Multiple</td><td>5.9</td><td>JavaFX</td><td>Un- changed</td><td>None</td><td>High</td><td>Yes</td><td>Java SE</td><td>Network</td><td>None</td><td>None</td><td>High</td><td>CVE-2020-2585</td><td>See Note 1</td><td>None</td><td>Java SE: 8u231</td></tr><tr><td>HTTPS</td><td>4.8</td><td>JSSE</td><td>Un- changed</td><td>Low</td><td>High</td><td>Yes</td><td>Java SE</td><td>Network</td><td>None</td><td>None</td><td>Low</td><td>CVE-2020-2655</td><td>See Note 1</td><td>None</td><td>Java SE: 11.0.5, 13.0.1</td></tr><tr><td>Multiple</td><td>4.8</td><td>Networking</td><td>Un- changed</td><td>Low</td><td>High</td><td>Yes</td><td>Java SE, Java SE Embedded</td><td>Network</td><td>None</td><td>None</td><td>Low</td><td>CVE-2020-2593</td><td>See Note 1</td><td>None</td><td>Java SE: 7u241, 8u231, 11.0.5, 13.0.1; Java SE Embedded: 8u231</td></tr><tr><td>Multiple</td><td>3.7</td><td>Libraries</td><td>Un- changed</td><td>None</td><td>High</td><td>Yes</td><td>Java SE</td><td>Network</td><td>None</td><td>Low</td><td>None</td><td>CVE-2020-2654</td><td>See Note 3</td><td>None</td><td>Java SE: 7u241, 8u231, 11.0.5, 13.0.1</td></tr><tr><td>Kerberos</td><td>3.7</td><td>Security</td><td>Un- changed</td><td>None</td><td>High</td><td>Yes</td><td>Java SE, Java SE Embedded</td><td>Network</td><td>None</td><td>None</td><td>Low</td><td>CVE-2020-2590</td><td>See Note 1</td><td>None</td><td>Java SE: 7u241, 8u231, 11.0.5, 13.0.1; Java SE Embedded: 8u231</td></tr><tr><td>Multiple</td><td>3.7</td><td>Networking</td><td>Un- changed</td><td>None</td><td>High</td><td>Yes</td><td>Java SE, Java SE Embedded</td><td>Network</td><td>None</td><td>Low</td><td>None</td><td>CVE-2020-2659</td><td>See Note 1</td><td>None</td><td>Java SE: 7u241, 8u231; Java SE Embedded: 8u231</td></tr><tr><td>Multiple</td><td>3.7</td><td>Serialization</td><td>Un- changed</td><td>None</td><td>High</td><td>Yes</td><td>Java SE, Java SE Embedded</td><td>Network</td><td>None</td><td>Low</td><td>None</td><td>CVE-2020-2583</td><td>See Note 1</td><td>None</td><td>Java SE: 7u241, 8u231, 11.0.5, 13.0.1; Java SE Embedded: 8u231</td></tr></tbody>\n",
       "</table>"
      ],
      "text/plain": [
       "<IPython.core.display.HTML object>"
      ]
     },
     "metadata": {},
     "output_type": "display_data"
    },
    {
     "data": {
      "text/html": [
       "<h2>Affected Versions</h2>"
      ],
      "text/plain": [
       "<IPython.core.display.HTML object>"
      ]
     },
     "metadata": {},
     "output_type": "display_data"
    },
    {
     "name": "stdout",
     "output_type": "stream",
     "text": [
      "3.12.4 and prior, 4.1.3 and prior, 5.3.13 and prior, 5.6.46 and prior, 5.7.28 and prior, 7.3.27 and prior, 7.4.25 and prior, 7.5.15 and prior, 7.6.12 and prior, 8.0.17 and prior, 8.0.18 and prior\n"
     ]
    },
    {
     "data": {
      "text/html": [
       "<h3>Oracle MySQL Risk Matrix</h3>"
      ],
      "text/plain": [
       "<IPython.core.display.HTML object>"
      ]
     },
     "metadata": {},
     "output_type": "display_data"
    },
    {
     "data": {
      "text/html": [
       "<table>\n",
       "    <thead><tr><th>Protocol</th><th>CVSS Base Score</th><th>Component</th><th>CVSS Scope</th><th>CVSS Confid- entiality</th><th>CVSS Attack Complex</th><th>Remote Exploit without Auth.?</th><th>Product</th><th>CVSS Attack Vector</th><th>CVSS Privs Req'd</th><th>CVSS Avail- ability</th><th>CVSS Inte- grity</th><th>CVE#</th><th>Notes</th><th>CVSS User Interact</th><th>Supported Versions Affected</th></tr></thead>\n",
       "    <tbody><tr><td>MySQL Workbench</td><td>7.5</td><td>MySQL Workbench (SQLite)</td><td>Un- changed</td><td>None</td><td>Low</td><td>Yes</td><td>MySQL Workbench</td><td>Network</td><td>None</td><td>High</td><td>None</td><td>CVE-2019-16168</td><td></td><td>None</td><td>8.0.18 and prior</td></tr><tr><td>TLS</td><td>7.4</td><td>Connector/ODBC (OpenSSL)</td><td>Un- changed</td><td>High</td><td>High</td><td>Yes</td><td>MySQL Connectors</td><td>Network</td><td>None</td><td>None</td><td>High</td><td>CVE-2019-1547</td><td></td><td>None</td><td>5.3.13 and prior, 8.0.18 and prior</td></tr><tr><td>MySQL Protocol</td><td>6.5</td><td>Server: Optimizer</td><td>Un- changed</td><td>None</td><td>Low</td><td>No</td><td>MySQL Server</td><td>Network</td><td>Low</td><td>High</td><td>None</td><td>CVE-2020-2579</td><td></td><td>None</td><td>5.6.46 and prior, 5.7.28 and prior, 8.0.18 and prior</td></tr><tr><td>MySQL Protocol</td><td>6.5</td><td>Server: Optimizer</td><td>Un- changed</td><td>None</td><td>Low</td><td>No</td><td>MySQL Server</td><td>Network</td><td>Low</td><td>High</td><td>None</td><td>CVE-2020-2686</td><td></td><td>None</td><td>8.0.18 and prior</td></tr><tr><td>MySQL Protocol</td><td>6.5</td><td>Server: Parser</td><td>Un- changed</td><td>None</td><td>Low</td><td>No</td><td>MySQL Server</td><td>Network</td><td>Low</td><td>High</td><td>None</td><td>CVE-2020-2627</td><td></td><td>None</td><td>8.0.18 and prior</td></tr><tr><td>MySQL Protocol</td><td>5.9</td><td>C API</td><td>Un- changed</td><td>None</td><td>High</td><td>Yes</td><td>MySQL Client</td><td>Network</td><td>None</td><td>High</td><td>None</td><td>CVE-2020-2570</td><td></td><td>None</td><td>5.7.28 and prior, 8.0.18 and prior</td></tr><tr><td>MySQL Protocol</td><td>5.9</td><td>C API</td><td>Un- changed</td><td>None</td><td>High</td><td>Yes</td><td>MySQL Client</td><td>Network</td><td>None</td><td>High</td><td>None</td><td>CVE-2020-2573</td><td></td><td>None</td><td>5.7.28 and prior, 8.0.18 and prior</td></tr><tr><td>MySQL Protocol</td><td>5.9</td><td>C API</td><td>Un- changed</td><td>None</td><td>High</td><td>Yes</td><td>MySQL Client</td><td>Network</td><td>None</td><td>High</td><td>None</td><td>CVE-2020-2574</td><td></td><td>None</td><td>5.6.46 and prior, 5.7.28 and prior, 8.0.18 and prior</td></tr><tr><td>MySQL Protocol</td><td>4.9</td><td>InnoDB</td><td>Un- changed</td><td>None</td><td>Low</td><td>No</td><td>MySQL Server</td><td>Network</td><td>High</td><td>High</td><td>None</td><td>CVE-2020-2577</td><td></td><td>None</td><td>5.7.28 and prior, 8.0.18 and prior</td></tr><tr><td>MySQL Protocol</td><td>4.9</td><td>InnoDB</td><td>Un- changed</td><td>None</td><td>Low</td><td>No</td><td>MySQL Server</td><td>Network</td><td>High</td><td>High</td><td>None</td><td>CVE-2020-2589</td><td></td><td>None</td><td>5.7.28 and prior, 8.0.17 and prior</td></tr><tr><td>MySQL Protocol</td><td>4.9</td><td>Server: DDL</td><td>Un- changed</td><td>None</td><td>Low</td><td>No</td><td>MySQL Server</td><td>Network</td><td>High</td><td>High</td><td>None</td><td>CVE-2020-2580</td><td></td><td>None</td><td>8.0.17 and prior</td></tr><tr><td>MySQL Protocol</td><td>4.9</td><td>Server: DML</td><td>Un- changed</td><td>None</td><td>Low</td><td>No</td><td>MySQL Server</td><td>Network</td><td>High</td><td>High</td><td>None</td><td>CVE-2020-2588</td><td></td><td>None</td><td>8.0.18 and prior</td></tr><tr><td>MySQL Protocol</td><td>4.9</td><td>Server: Optimizer</td><td>Un- changed</td><td>None</td><td>Low</td><td>No</td><td>MySQL Server</td><td>Network</td><td>High</td><td>High</td><td>None</td><td>CVE-2020-2660</td><td></td><td>None</td><td>5.7.28 and prior, 8.0.18 and prior</td></tr><tr><td>MySQL Protocol</td><td>4.9</td><td>Server: Optimizer</td><td>Un- changed</td><td>None</td><td>Low</td><td>No</td><td>MySQL Server</td><td>Network</td><td>High</td><td>High</td><td>None</td><td>CVE-2020-2679</td><td></td><td>None</td><td>8.0.18 and prior</td></tr><tr><td>TLS</td><td>4.7</td><td>Security (OpenSSL)</td><td>Un- changed</td><td>High</td><td>High</td><td>No</td><td>MySQL Enterprise Backup</td><td>Local</td><td>Low</td><td>None</td><td>None</td><td>CVE-2019-1547</td><td></td><td>None</td><td>3.12.4 and prior, 4.1.3 and prior</td></tr><tr><td>MySQL Protocol</td><td>4.4</td><td>Server: Options</td><td>Un- changed</td><td>High</td><td>High</td><td>No</td><td>MySQL Server</td><td>Network</td><td>High</td><td>None</td><td>None</td><td>CVE-2020-2584</td><td></td><td>None</td><td>5.7.28 and prior, 8.0.18 and prior</td></tr><tr><td>MySQL Protocol</td><td>3.1</td><td>Server: Information Schema</td><td>Un- changed</td><td>Low</td><td>High</td><td>No</td><td>MySQL Server</td><td>Network</td><td>Low</td><td>None</td><td>None</td><td>CVE-2020-2694</td><td></td><td>None</td><td>8.0.18 and prior</td></tr><tr><td>MySQL Protocol</td><td>2.7</td><td>Server: Audit Plugin</td><td>Un- changed</td><td>None</td><td>Low</td><td>No</td><td>MySQL Server</td><td>Network</td><td>High</td><td>None</td><td>Low</td><td>CVE-2020-2572</td><td></td><td>None</td><td>5.7.28 and prior, 8.0.18 and prior</td></tr><tr><td>Multiple</td><td>0.0</td><td>Cluster: General (SQLite)</td><td>Un- changed</td><td>None</td><td>Low</td><td>Yes</td><td>MySQL Cluster</td><td>Network</td><td>None</td><td>None</td><td>None</td><td>CVE-2019-8457</td><td>See Note 1</td><td>Required</td><td>7.3.27 and prior, 7.4.25 and prior, 7.5.15 and prior, 7.6.12 and prior</td></tr></tbody>\n",
       "</table>"
      ],
      "text/plain": [
       "<IPython.core.display.HTML object>"
      ]
     },
     "metadata": {},
     "output_type": "display_data"
    }
   ],
   "source": [
    "from datetime import date\n",
    "\n",
    "# today = date.today().strftime(\"%b%Y\")\n",
    "today = \"Jan2020\"\n",
    "url = f\"https://www.oracle.com/security-alerts/cpu{today.lower()}.html\"\n",
    "\n",
    "doc = get_html(url)\n",
    "\n",
    "oracle_risk_matrices = {\n",
    "    parse_text(i.xpath(\"preceding-sibling::h4[1]\")[0]):\n",
    "    parse_table(i.xpath(\".//table[@class='otable-w2']\")[0]) \n",
    "    for i in \n",
    "    doc.xpath(\"//div[@data-ocomid='otable'][.//table[@class='otable-w2']]\")\n",
    "}\n",
    "\n",
    "def flatten_cvss(matrix):\n",
    "    return [\n",
    "        {\n",
    "            **{k:v for k, v in i.items() if k != \"CVSS VERSION 3.0 RISK (see Risk Matrix Definitions )\"},\n",
    "            **{f\"CVSS {k}\":v for k, v in i[\"CVSS VERSION 3.0 RISK (see Risk Matrix Definitions )\"].items()}\n",
    "        }\n",
    "        for i in \n",
    "        matrix\n",
    "    ]\n",
    "\n",
    "display(HTML(\"<h1>Java \"+today+\" Vulnerabilites</h1>\"))\n",
    "print(url)\n",
    "\n",
    "interesting_risk_matrices = {f\"Oracle {i} Risk Matrix\" for i in [\"Java SE\", \"Database Server\", \"MySQL\"]}\n",
    "\n",
    "for title, risk_matrix in [(k, flatten_cvss(v)) for k, v in oracle_risk_matrices.items() if k in interesting_risk_matrices]:\n",
    "    display(HTML(\"<h2>Affected Versions</h2>\"))\n",
    "    print(\", \".join(sorted(set(chain.from_iterable(map(str.strip, r['Supported Versions Affected'].split(\",\")) for r in risk_matrix)))))\n",
    "    display(HTML(f\"<h3>{title}</h3>\"))\n",
    "    display(HTML(table(risk_matrix)))"
   ]
  },
  {
   "cell_type": "code",
   "execution_count": 9,
   "metadata": {},
   "outputs": [
    {
     "data": {
      "text/html": [
       "<h1>Lenovo Latest Vulnerabilities</h1>"
      ],
      "text/plain": [
       "<IPython.core.display.HTML object>"
      ]
     },
     "metadata": {},
     "output_type": "display_data"
    },
    {
     "data": {
      "text/html": [
       "<table>\n",
       "    <thead><tr><th>Ref</th><th>Title</th><th>Date</th></tr></thead>\n",
       "    <tbody></tbody>\n",
       "</table>"
      ],
      "text/plain": [
       "<IPython.core.display.HTML object>"
      ]
     },
     "metadata": {},
     "output_type": "display_data"
    }
   ],
   "source": [
    "import requests\n",
    "import lxml.etree \n",
    "\n",
    "url = \"https://support.lenovo.com/gb/en/api/v4/search/psrss?language=en&country=gb&brand=EBG,TPG,IPG,MOTO,PHONE,TABLET,SMART\"\n",
    "\n",
    "items = [{f.tag:f.text for f in i} for i in get_html(url).xpath(\"/rss/channel/item\")]\n",
    "\n",
    "display(HTML(\"<h1>Lenovo Latest Vulnerabilities</h1>\"))\n",
    "display(HTML(table(\n",
    "    [i for i in items if \"PS\" in i[\"link\"]][:5],\n",
    "    [\n",
    "        {\n",
    "            \"key\": \"link\", \n",
    "            \"title\": \"Ref\", \n",
    "            \"processor\": lambda x: f'<a href=\\\"{x}\\\">{x.split(\"/\")[-1]}</a>'\n",
    "        },\n",
    "        {\n",
    "            \"key\": \"title\", \n",
    "            \"title\": \"Title\", \n",
    "        },\n",
    "        {\n",
    "            \"key\": \"pubDate\", \n",
    "            \"title\": \"Date\", \n",
    "            \"processor\": lambda x: x[:16]\n",
    "        },\n",
    "    ]\n",
    ")))"
   ]
  }
 ],
 "metadata": {
  "kernelspec": {
   "display_name": "Python 3",
   "language": "python",
   "name": "python3"
  },
  "language_info": {
   "codemirror_mode": {
    "name": "ipython",
    "version": 3
   },
   "file_extension": ".py",
   "mimetype": "text/x-python",
   "name": "python",
   "nbconvert_exporter": "python",
   "pygments_lexer": "ipython3",
   "version": "3.8.1"
  }
 },
 "nbformat": 4,
 "nbformat_minor": 4
}
