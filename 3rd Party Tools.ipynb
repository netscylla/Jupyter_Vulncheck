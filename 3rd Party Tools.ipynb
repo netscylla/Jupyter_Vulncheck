{
 "cells": [
  {
   "cell_type": "code",
   "execution_count": 257,
   "metadata": {
    "scrolled": false
   },
   "outputs": [
    {
     "data": {
      "text/html": [
       "<script>jQuery(function() {if (jQuery(\"body.notebook_app\").length == 0) { jQuery(\".input_area\").toggle(); jQuery(\".prompt\").toggle();}});</script>"
      ]
     },
     "metadata": {},
     "output_type": "display_data"
    },
    {
     "data": {
      "text/html": [
       "<button onclick=\"jQuery('.input_area').toggle(); jQuery('.prompt').toggle();\">Toggle code</button>"
      ]
     },
     "metadata": {},
     "output_type": "display_data"
    }
   ],
   "source": [
    "from IPython.display import display\n",
    "from IPython.display import HTML\n",
    "import IPython.core.display as di\n",
    "\n",
    "# This line will hide code by default when the notebook is exported as HTML\n",
    "di.display_html('<script>jQuery(function() {if (jQuery(\"body.notebook_app\").length == 0) { jQuery(\".input_area\").toggle(); jQuery(\".prompt\").toggle();}});</script>', raw=True)\n",
    "\n",
    "# This line will add a button to toggle visibility of code blocks, for use with the HTML export version\n",
    "di.display_html('''<button onclick=\"jQuery('.input_area').toggle(); jQuery('.prompt').toggle();\">Toggle code</button>''', raw=True)"
   ]
  },
  {
   "cell_type": "code",
   "execution_count": 4,
   "metadata": {
    "scrolled": false
   },
   "outputs": [
    {
     "ename": "MaxRetryError",
     "evalue": "HTTPSConnectionPool(host='helpx.adobe.com', port=443): Max retries exceeded with url: /security/products/acrobat.html (Caused by NewConnectionError('<urllib3.connection.VerifiedHTTPSConnection object at 0x00000288D1FD8550>: Failed to establish a new connection: [Errno 11001] getaddrinfo failed'))",
     "output_type": "error",
     "traceback": [
      "\u001b[1;31m---------------------------------------------------------------------------\u001b[0m",
      "\u001b[1;31mgaierror\u001b[0m                                  Traceback (most recent call last)",
      "\u001b[1;32mc:\\python38\\notebook\\.venv\\lib\\site-packages\\urllib3\\connection.py\u001b[0m in \u001b[0;36m_new_conn\u001b[1;34m(self)\u001b[0m\n\u001b[0;32m    155\u001b[0m         \u001b[1;32mtry\u001b[0m\u001b[1;33m:\u001b[0m\u001b[1;33m\u001b[0m\u001b[1;33m\u001b[0m\u001b[0m\n\u001b[1;32m--> 156\u001b[1;33m             conn = connection.create_connection(\n\u001b[0m\u001b[0;32m    157\u001b[0m                 \u001b[1;33m(\u001b[0m\u001b[0mself\u001b[0m\u001b[1;33m.\u001b[0m\u001b[0m_dns_host\u001b[0m\u001b[1;33m,\u001b[0m \u001b[0mself\u001b[0m\u001b[1;33m.\u001b[0m\u001b[0mport\u001b[0m\u001b[1;33m)\u001b[0m\u001b[1;33m,\u001b[0m \u001b[0mself\u001b[0m\u001b[1;33m.\u001b[0m\u001b[0mtimeout\u001b[0m\u001b[1;33m,\u001b[0m \u001b[1;33m**\u001b[0m\u001b[0mextra_kw\u001b[0m\u001b[1;33m\u001b[0m\u001b[1;33m\u001b[0m\u001b[0m\n",
      "\u001b[1;32mc:\\python38\\notebook\\.venv\\lib\\site-packages\\urllib3\\util\\connection.py\u001b[0m in \u001b[0;36mcreate_connection\u001b[1;34m(address, timeout, source_address, socket_options)\u001b[0m\n\u001b[0;32m     60\u001b[0m \u001b[1;33m\u001b[0m\u001b[0m\n\u001b[1;32m---> 61\u001b[1;33m     \u001b[1;32mfor\u001b[0m \u001b[0mres\u001b[0m \u001b[1;32min\u001b[0m \u001b[0msocket\u001b[0m\u001b[1;33m.\u001b[0m\u001b[0mgetaddrinfo\u001b[0m\u001b[1;33m(\u001b[0m\u001b[0mhost\u001b[0m\u001b[1;33m,\u001b[0m \u001b[0mport\u001b[0m\u001b[1;33m,\u001b[0m \u001b[0mfamily\u001b[0m\u001b[1;33m,\u001b[0m \u001b[0msocket\u001b[0m\u001b[1;33m.\u001b[0m\u001b[0mSOCK_STREAM\u001b[0m\u001b[1;33m)\u001b[0m\u001b[1;33m:\u001b[0m\u001b[1;33m\u001b[0m\u001b[1;33m\u001b[0m\u001b[0m\n\u001b[0m\u001b[0;32m     62\u001b[0m         \u001b[0maf\u001b[0m\u001b[1;33m,\u001b[0m \u001b[0msocktype\u001b[0m\u001b[1;33m,\u001b[0m \u001b[0mproto\u001b[0m\u001b[1;33m,\u001b[0m \u001b[0mcanonname\u001b[0m\u001b[1;33m,\u001b[0m \u001b[0msa\u001b[0m \u001b[1;33m=\u001b[0m \u001b[0mres\u001b[0m\u001b[1;33m\u001b[0m\u001b[1;33m\u001b[0m\u001b[0m\n",
      "\u001b[1;32mC:\\Python38\\lib\\socket.py\u001b[0m in \u001b[0;36mgetaddrinfo\u001b[1;34m(host, port, family, type, proto, flags)\u001b[0m\n\u001b[0;32m    917\u001b[0m     \u001b[0maddrlist\u001b[0m \u001b[1;33m=\u001b[0m \u001b[1;33m[\u001b[0m\u001b[1;33m]\u001b[0m\u001b[1;33m\u001b[0m\u001b[1;33m\u001b[0m\u001b[0m\n\u001b[1;32m--> 918\u001b[1;33m     \u001b[1;32mfor\u001b[0m \u001b[0mres\u001b[0m \u001b[1;32min\u001b[0m \u001b[0m_socket\u001b[0m\u001b[1;33m.\u001b[0m\u001b[0mgetaddrinfo\u001b[0m\u001b[1;33m(\u001b[0m\u001b[0mhost\u001b[0m\u001b[1;33m,\u001b[0m \u001b[0mport\u001b[0m\u001b[1;33m,\u001b[0m \u001b[0mfamily\u001b[0m\u001b[1;33m,\u001b[0m \u001b[0mtype\u001b[0m\u001b[1;33m,\u001b[0m \u001b[0mproto\u001b[0m\u001b[1;33m,\u001b[0m \u001b[0mflags\u001b[0m\u001b[1;33m)\u001b[0m\u001b[1;33m:\u001b[0m\u001b[1;33m\u001b[0m\u001b[1;33m\u001b[0m\u001b[0m\n\u001b[0m\u001b[0;32m    919\u001b[0m         \u001b[0maf\u001b[0m\u001b[1;33m,\u001b[0m \u001b[0msocktype\u001b[0m\u001b[1;33m,\u001b[0m \u001b[0mproto\u001b[0m\u001b[1;33m,\u001b[0m \u001b[0mcanonname\u001b[0m\u001b[1;33m,\u001b[0m \u001b[0msa\u001b[0m \u001b[1;33m=\u001b[0m \u001b[0mres\u001b[0m\u001b[1;33m\u001b[0m\u001b[1;33m\u001b[0m\u001b[0m\n",
      "\u001b[1;31mgaierror\u001b[0m: [Errno 11001] getaddrinfo failed",
      "\nDuring handling of the above exception, another exception occurred:\n",
      "\u001b[1;31mNewConnectionError\u001b[0m                        Traceback (most recent call last)",
      "\u001b[1;32mc:\\python38\\notebook\\.venv\\lib\\site-packages\\urllib3\\connectionpool.py\u001b[0m in \u001b[0;36murlopen\u001b[1;34m(self, method, url, body, headers, retries, redirect, assert_same_host, timeout, pool_timeout, release_conn, chunked, body_pos, **response_kw)\u001b[0m\n\u001b[0;32m    664\u001b[0m             \u001b[1;31m# Make the request on the httplib connection object.\u001b[0m\u001b[1;33m\u001b[0m\u001b[1;33m\u001b[0m\u001b[1;33m\u001b[0m\u001b[0m\n\u001b[1;32m--> 665\u001b[1;33m             httplib_response = self._make_request(\n\u001b[0m\u001b[0;32m    666\u001b[0m                 \u001b[0mconn\u001b[0m\u001b[1;33m,\u001b[0m\u001b[1;33m\u001b[0m\u001b[1;33m\u001b[0m\u001b[0m\n",
      "\u001b[1;32mc:\\python38\\notebook\\.venv\\lib\\site-packages\\urllib3\\connectionpool.py\u001b[0m in \u001b[0;36m_make_request\u001b[1;34m(self, conn, method, url, timeout, chunked, **httplib_request_kw)\u001b[0m\n\u001b[0;32m    375\u001b[0m         \u001b[1;32mtry\u001b[0m\u001b[1;33m:\u001b[0m\u001b[1;33m\u001b[0m\u001b[1;33m\u001b[0m\u001b[0m\n\u001b[1;32m--> 376\u001b[1;33m             \u001b[0mself\u001b[0m\u001b[1;33m.\u001b[0m\u001b[0m_validate_conn\u001b[0m\u001b[1;33m(\u001b[0m\u001b[0mconn\u001b[0m\u001b[1;33m)\u001b[0m\u001b[1;33m\u001b[0m\u001b[1;33m\u001b[0m\u001b[0m\n\u001b[0m\u001b[0;32m    377\u001b[0m         \u001b[1;32mexcept\u001b[0m \u001b[1;33m(\u001b[0m\u001b[0mSocketTimeout\u001b[0m\u001b[1;33m,\u001b[0m \u001b[0mBaseSSLError\u001b[0m\u001b[1;33m)\u001b[0m \u001b[1;32mas\u001b[0m \u001b[0me\u001b[0m\u001b[1;33m:\u001b[0m\u001b[1;33m\u001b[0m\u001b[1;33m\u001b[0m\u001b[0m\n",
      "\u001b[1;32mc:\\python38\\notebook\\.venv\\lib\\site-packages\\urllib3\\connectionpool.py\u001b[0m in \u001b[0;36m_validate_conn\u001b[1;34m(self, conn)\u001b[0m\n\u001b[0;32m    993\u001b[0m         \u001b[1;32mif\u001b[0m \u001b[1;32mnot\u001b[0m \u001b[0mgetattr\u001b[0m\u001b[1;33m(\u001b[0m\u001b[0mconn\u001b[0m\u001b[1;33m,\u001b[0m \u001b[1;34m\"sock\"\u001b[0m\u001b[1;33m,\u001b[0m \u001b[1;32mNone\u001b[0m\u001b[1;33m)\u001b[0m\u001b[1;33m:\u001b[0m  \u001b[1;31m# AppEngine might not have  `.sock`\u001b[0m\u001b[1;33m\u001b[0m\u001b[1;33m\u001b[0m\u001b[0m\n\u001b[1;32m--> 994\u001b[1;33m             \u001b[0mconn\u001b[0m\u001b[1;33m.\u001b[0m\u001b[0mconnect\u001b[0m\u001b[1;33m(\u001b[0m\u001b[1;33m)\u001b[0m\u001b[1;33m\u001b[0m\u001b[1;33m\u001b[0m\u001b[0m\n\u001b[0m\u001b[0;32m    995\u001b[0m \u001b[1;33m\u001b[0m\u001b[0m\n",
      "\u001b[1;32mc:\\python38\\notebook\\.venv\\lib\\site-packages\\urllib3\\connection.py\u001b[0m in \u001b[0;36mconnect\u001b[1;34m(self)\u001b[0m\n\u001b[0;32m    333\u001b[0m         \u001b[1;31m# Add certificate verification\u001b[0m\u001b[1;33m\u001b[0m\u001b[1;33m\u001b[0m\u001b[1;33m\u001b[0m\u001b[0m\n\u001b[1;32m--> 334\u001b[1;33m         \u001b[0mconn\u001b[0m \u001b[1;33m=\u001b[0m \u001b[0mself\u001b[0m\u001b[1;33m.\u001b[0m\u001b[0m_new_conn\u001b[0m\u001b[1;33m(\u001b[0m\u001b[1;33m)\u001b[0m\u001b[1;33m\u001b[0m\u001b[1;33m\u001b[0m\u001b[0m\n\u001b[0m\u001b[0;32m    335\u001b[0m         \u001b[0mhostname\u001b[0m \u001b[1;33m=\u001b[0m \u001b[0mself\u001b[0m\u001b[1;33m.\u001b[0m\u001b[0mhost\u001b[0m\u001b[1;33m\u001b[0m\u001b[1;33m\u001b[0m\u001b[0m\n",
      "\u001b[1;32mc:\\python38\\notebook\\.venv\\lib\\site-packages\\urllib3\\connection.py\u001b[0m in \u001b[0;36m_new_conn\u001b[1;34m(self)\u001b[0m\n\u001b[0;32m    167\u001b[0m         \u001b[1;32mexcept\u001b[0m \u001b[0mSocketError\u001b[0m \u001b[1;32mas\u001b[0m \u001b[0me\u001b[0m\u001b[1;33m:\u001b[0m\u001b[1;33m\u001b[0m\u001b[1;33m\u001b[0m\u001b[0m\n\u001b[1;32m--> 168\u001b[1;33m             raise NewConnectionError(\n\u001b[0m\u001b[0;32m    169\u001b[0m                 \u001b[0mself\u001b[0m\u001b[1;33m,\u001b[0m \u001b[1;34m\"Failed to establish a new connection: %s\"\u001b[0m \u001b[1;33m%\u001b[0m \u001b[0me\u001b[0m\u001b[1;33m\u001b[0m\u001b[1;33m\u001b[0m\u001b[0m\n",
      "\u001b[1;31mNewConnectionError\u001b[0m: <urllib3.connection.VerifiedHTTPSConnection object at 0x00000288D1FD8550>: Failed to establish a new connection: [Errno 11001] getaddrinfo failed",
      "\nDuring handling of the above exception, another exception occurred:\n",
      "\u001b[1;31mMaxRetryError\u001b[0m                             Traceback (most recent call last)",
      "\u001b[1;32m<ipython-input-4-4ba75929affb>\u001b[0m in \u001b[0;36m<module>\u001b[1;34m\u001b[0m\n\u001b[0;32m     11\u001b[0m \u001b[0murl\u001b[0m\u001b[1;33m=\u001b[0m\u001b[1;34m\"https://helpx.adobe.com/security/products/acrobat.html\"\u001b[0m\u001b[1;33m\u001b[0m\u001b[1;33m\u001b[0m\u001b[0m\n\u001b[0;32m     12\u001b[0m \u001b[1;33m\u001b[0m\u001b[0m\n\u001b[1;32m---> 13\u001b[1;33m \u001b[0mr\u001b[0m \u001b[1;33m=\u001b[0m \u001b[0mhttp\u001b[0m\u001b[1;33m.\u001b[0m\u001b[0mrequest\u001b[0m\u001b[1;33m(\u001b[0m\u001b[1;34m'GET'\u001b[0m\u001b[1;33m,\u001b[0m\u001b[0murl\u001b[0m\u001b[1;33m)\u001b[0m\u001b[1;33m\u001b[0m\u001b[1;33m\u001b[0m\u001b[0m\n\u001b[0m\u001b[0;32m     14\u001b[0m \u001b[0ma\u001b[0m\u001b[1;33m=\u001b[0m\u001b[0mre\u001b[0m\u001b[1;33m.\u001b[0m\u001b[0mfindall\u001b[0m\u001b[1;33m(\u001b[0m\u001b[1;34m'<a disablelinktracking=\\\"false\\\" href=\\\"(.*)\\\" data-disable-query'\u001b[0m\u001b[1;33m,\u001b[0m\u001b[0mr\u001b[0m\u001b[1;33m.\u001b[0m\u001b[0mdata\u001b[0m\u001b[1;33m.\u001b[0m\u001b[0mdecode\u001b[0m\u001b[1;33m(\u001b[0m\u001b[1;34m'utf-8'\u001b[0m\u001b[1;33m)\u001b[0m\u001b[1;33m)\u001b[0m\u001b[1;33m\u001b[0m\u001b[1;33m\u001b[0m\u001b[0m\n\u001b[0;32m     15\u001b[0m \u001b[1;33m\u001b[0m\u001b[0m\n",
      "\u001b[1;32mc:\\python38\\notebook\\.venv\\lib\\site-packages\\urllib3\\request.py\u001b[0m in \u001b[0;36mrequest\u001b[1;34m(self, method, url, fields, headers, **urlopen_kw)\u001b[0m\n\u001b[0;32m     73\u001b[0m \u001b[1;33m\u001b[0m\u001b[0m\n\u001b[0;32m     74\u001b[0m         \u001b[1;32mif\u001b[0m \u001b[0mmethod\u001b[0m \u001b[1;32min\u001b[0m \u001b[0mself\u001b[0m\u001b[1;33m.\u001b[0m\u001b[0m_encode_url_methods\u001b[0m\u001b[1;33m:\u001b[0m\u001b[1;33m\u001b[0m\u001b[1;33m\u001b[0m\u001b[0m\n\u001b[1;32m---> 75\u001b[1;33m             return self.request_encode_url(\n\u001b[0m\u001b[0;32m     76\u001b[0m                 \u001b[0mmethod\u001b[0m\u001b[1;33m,\u001b[0m \u001b[0murl\u001b[0m\u001b[1;33m,\u001b[0m \u001b[0mfields\u001b[0m\u001b[1;33m=\u001b[0m\u001b[0mfields\u001b[0m\u001b[1;33m,\u001b[0m \u001b[0mheaders\u001b[0m\u001b[1;33m=\u001b[0m\u001b[0mheaders\u001b[0m\u001b[1;33m,\u001b[0m \u001b[1;33m**\u001b[0m\u001b[0murlopen_kw\u001b[0m\u001b[1;33m\u001b[0m\u001b[1;33m\u001b[0m\u001b[0m\n\u001b[0;32m     77\u001b[0m             )\n",
      "\u001b[1;32mc:\\python38\\notebook\\.venv\\lib\\site-packages\\urllib3\\request.py\u001b[0m in \u001b[0;36mrequest_encode_url\u001b[1;34m(self, method, url, fields, headers, **urlopen_kw)\u001b[0m\n\u001b[0;32m     95\u001b[0m             \u001b[0murl\u001b[0m \u001b[1;33m+=\u001b[0m \u001b[1;34m\"?\"\u001b[0m \u001b[1;33m+\u001b[0m \u001b[0murlencode\u001b[0m\u001b[1;33m(\u001b[0m\u001b[0mfields\u001b[0m\u001b[1;33m)\u001b[0m\u001b[1;33m\u001b[0m\u001b[1;33m\u001b[0m\u001b[0m\n\u001b[0;32m     96\u001b[0m \u001b[1;33m\u001b[0m\u001b[0m\n\u001b[1;32m---> 97\u001b[1;33m         \u001b[1;32mreturn\u001b[0m \u001b[0mself\u001b[0m\u001b[1;33m.\u001b[0m\u001b[0murlopen\u001b[0m\u001b[1;33m(\u001b[0m\u001b[0mmethod\u001b[0m\u001b[1;33m,\u001b[0m \u001b[0murl\u001b[0m\u001b[1;33m,\u001b[0m \u001b[1;33m**\u001b[0m\u001b[0mextra_kw\u001b[0m\u001b[1;33m)\u001b[0m\u001b[1;33m\u001b[0m\u001b[1;33m\u001b[0m\u001b[0m\n\u001b[0m\u001b[0;32m     98\u001b[0m \u001b[1;33m\u001b[0m\u001b[0m\n\u001b[0;32m     99\u001b[0m     def request_encode_body(\n",
      "\u001b[1;32mc:\\python38\\notebook\\.venv\\lib\\site-packages\\urllib3\\poolmanager.py\u001b[0m in \u001b[0;36murlopen\u001b[1;34m(self, method, url, redirect, **kw)\u001b[0m\n\u001b[0;32m    328\u001b[0m             \u001b[0mresponse\u001b[0m \u001b[1;33m=\u001b[0m \u001b[0mconn\u001b[0m\u001b[1;33m.\u001b[0m\u001b[0murlopen\u001b[0m\u001b[1;33m(\u001b[0m\u001b[0mmethod\u001b[0m\u001b[1;33m,\u001b[0m \u001b[0murl\u001b[0m\u001b[1;33m,\u001b[0m \u001b[1;33m**\u001b[0m\u001b[0mkw\u001b[0m\u001b[1;33m)\u001b[0m\u001b[1;33m\u001b[0m\u001b[1;33m\u001b[0m\u001b[0m\n\u001b[0;32m    329\u001b[0m         \u001b[1;32melse\u001b[0m\u001b[1;33m:\u001b[0m\u001b[1;33m\u001b[0m\u001b[1;33m\u001b[0m\u001b[0m\n\u001b[1;32m--> 330\u001b[1;33m             \u001b[0mresponse\u001b[0m \u001b[1;33m=\u001b[0m \u001b[0mconn\u001b[0m\u001b[1;33m.\u001b[0m\u001b[0murlopen\u001b[0m\u001b[1;33m(\u001b[0m\u001b[0mmethod\u001b[0m\u001b[1;33m,\u001b[0m \u001b[0mu\u001b[0m\u001b[1;33m.\u001b[0m\u001b[0mrequest_uri\u001b[0m\u001b[1;33m,\u001b[0m \u001b[1;33m**\u001b[0m\u001b[0mkw\u001b[0m\u001b[1;33m)\u001b[0m\u001b[1;33m\u001b[0m\u001b[1;33m\u001b[0m\u001b[0m\n\u001b[0m\u001b[0;32m    331\u001b[0m \u001b[1;33m\u001b[0m\u001b[0m\n\u001b[0;32m    332\u001b[0m         \u001b[0mredirect_location\u001b[0m \u001b[1;33m=\u001b[0m \u001b[0mredirect\u001b[0m \u001b[1;32mand\u001b[0m \u001b[0mresponse\u001b[0m\u001b[1;33m.\u001b[0m\u001b[0mget_redirect_location\u001b[0m\u001b[1;33m(\u001b[0m\u001b[1;33m)\u001b[0m\u001b[1;33m\u001b[0m\u001b[1;33m\u001b[0m\u001b[0m\n",
      "\u001b[1;32mc:\\python38\\notebook\\.venv\\lib\\site-packages\\urllib3\\connectionpool.py\u001b[0m in \u001b[0;36murlopen\u001b[1;34m(self, method, url, body, headers, retries, redirect, assert_same_host, timeout, pool_timeout, release_conn, chunked, body_pos, **response_kw)\u001b[0m\n\u001b[0;32m    745\u001b[0m                 \u001b[1;34m\"Retrying (%r) after connection broken by '%r': %s\"\u001b[0m\u001b[1;33m,\u001b[0m \u001b[0mretries\u001b[0m\u001b[1;33m,\u001b[0m \u001b[0merr\u001b[0m\u001b[1;33m,\u001b[0m \u001b[0murl\u001b[0m\u001b[1;33m\u001b[0m\u001b[1;33m\u001b[0m\u001b[0m\n\u001b[0;32m    746\u001b[0m             )\n\u001b[1;32m--> 747\u001b[1;33m             return self.urlopen(\n\u001b[0m\u001b[0;32m    748\u001b[0m                 \u001b[0mmethod\u001b[0m\u001b[1;33m,\u001b[0m\u001b[1;33m\u001b[0m\u001b[1;33m\u001b[0m\u001b[0m\n\u001b[0;32m    749\u001b[0m                 \u001b[0murl\u001b[0m\u001b[1;33m,\u001b[0m\u001b[1;33m\u001b[0m\u001b[1;33m\u001b[0m\u001b[0m\n",
      "\u001b[1;32mc:\\python38\\notebook\\.venv\\lib\\site-packages\\urllib3\\connectionpool.py\u001b[0m in \u001b[0;36murlopen\u001b[1;34m(self, method, url, body, headers, retries, redirect, assert_same_host, timeout, pool_timeout, release_conn, chunked, body_pos, **response_kw)\u001b[0m\n\u001b[0;32m    745\u001b[0m                 \u001b[1;34m\"Retrying (%r) after connection broken by '%r': %s\"\u001b[0m\u001b[1;33m,\u001b[0m \u001b[0mretries\u001b[0m\u001b[1;33m,\u001b[0m \u001b[0merr\u001b[0m\u001b[1;33m,\u001b[0m \u001b[0murl\u001b[0m\u001b[1;33m\u001b[0m\u001b[1;33m\u001b[0m\u001b[0m\n\u001b[0;32m    746\u001b[0m             )\n\u001b[1;32m--> 747\u001b[1;33m             return self.urlopen(\n\u001b[0m\u001b[0;32m    748\u001b[0m                 \u001b[0mmethod\u001b[0m\u001b[1;33m,\u001b[0m\u001b[1;33m\u001b[0m\u001b[1;33m\u001b[0m\u001b[0m\n\u001b[0;32m    749\u001b[0m                 \u001b[0murl\u001b[0m\u001b[1;33m,\u001b[0m\u001b[1;33m\u001b[0m\u001b[1;33m\u001b[0m\u001b[0m\n",
      "\u001b[1;32mc:\\python38\\notebook\\.venv\\lib\\site-packages\\urllib3\\connectionpool.py\u001b[0m in \u001b[0;36murlopen\u001b[1;34m(self, method, url, body, headers, retries, redirect, assert_same_host, timeout, pool_timeout, release_conn, chunked, body_pos, **response_kw)\u001b[0m\n\u001b[0;32m    745\u001b[0m                 \u001b[1;34m\"Retrying (%r) after connection broken by '%r': %s\"\u001b[0m\u001b[1;33m,\u001b[0m \u001b[0mretries\u001b[0m\u001b[1;33m,\u001b[0m \u001b[0merr\u001b[0m\u001b[1;33m,\u001b[0m \u001b[0murl\u001b[0m\u001b[1;33m\u001b[0m\u001b[1;33m\u001b[0m\u001b[0m\n\u001b[0;32m    746\u001b[0m             )\n\u001b[1;32m--> 747\u001b[1;33m             return self.urlopen(\n\u001b[0m\u001b[0;32m    748\u001b[0m                 \u001b[0mmethod\u001b[0m\u001b[1;33m,\u001b[0m\u001b[1;33m\u001b[0m\u001b[1;33m\u001b[0m\u001b[0m\n\u001b[0;32m    749\u001b[0m                 \u001b[0murl\u001b[0m\u001b[1;33m,\u001b[0m\u001b[1;33m\u001b[0m\u001b[1;33m\u001b[0m\u001b[0m\n",
      "\u001b[1;32mc:\\python38\\notebook\\.venv\\lib\\site-packages\\urllib3\\connectionpool.py\u001b[0m in \u001b[0;36murlopen\u001b[1;34m(self, method, url, body, headers, retries, redirect, assert_same_host, timeout, pool_timeout, release_conn, chunked, body_pos, **response_kw)\u001b[0m\n\u001b[0;32m    717\u001b[0m                 \u001b[0me\u001b[0m \u001b[1;33m=\u001b[0m \u001b[0mProtocolError\u001b[0m\u001b[1;33m(\u001b[0m\u001b[1;34m\"Connection aborted.\"\u001b[0m\u001b[1;33m,\u001b[0m \u001b[0me\u001b[0m\u001b[1;33m)\u001b[0m\u001b[1;33m\u001b[0m\u001b[1;33m\u001b[0m\u001b[0m\n\u001b[0;32m    718\u001b[0m \u001b[1;33m\u001b[0m\u001b[0m\n\u001b[1;32m--> 719\u001b[1;33m             retries = retries.increment(\n\u001b[0m\u001b[0;32m    720\u001b[0m                 \u001b[0mmethod\u001b[0m\u001b[1;33m,\u001b[0m \u001b[0murl\u001b[0m\u001b[1;33m,\u001b[0m \u001b[0merror\u001b[0m\u001b[1;33m=\u001b[0m\u001b[0me\u001b[0m\u001b[1;33m,\u001b[0m \u001b[0m_pool\u001b[0m\u001b[1;33m=\u001b[0m\u001b[0mself\u001b[0m\u001b[1;33m,\u001b[0m \u001b[0m_stacktrace\u001b[0m\u001b[1;33m=\u001b[0m\u001b[0msys\u001b[0m\u001b[1;33m.\u001b[0m\u001b[0mexc_info\u001b[0m\u001b[1;33m(\u001b[0m\u001b[1;33m)\u001b[0m\u001b[1;33m[\u001b[0m\u001b[1;36m2\u001b[0m\u001b[1;33m]\u001b[0m\u001b[1;33m\u001b[0m\u001b[1;33m\u001b[0m\u001b[0m\n\u001b[0;32m    721\u001b[0m             )\n",
      "\u001b[1;32mc:\\python38\\notebook\\.venv\\lib\\site-packages\\urllib3\\util\\retry.py\u001b[0m in \u001b[0;36mincrement\u001b[1;34m(self, method, url, response, error, _pool, _stacktrace)\u001b[0m\n\u001b[0;32m    434\u001b[0m \u001b[1;33m\u001b[0m\u001b[0m\n\u001b[0;32m    435\u001b[0m         \u001b[1;32mif\u001b[0m \u001b[0mnew_retry\u001b[0m\u001b[1;33m.\u001b[0m\u001b[0mis_exhausted\u001b[0m\u001b[1;33m(\u001b[0m\u001b[1;33m)\u001b[0m\u001b[1;33m:\u001b[0m\u001b[1;33m\u001b[0m\u001b[1;33m\u001b[0m\u001b[0m\n\u001b[1;32m--> 436\u001b[1;33m             \u001b[1;32mraise\u001b[0m \u001b[0mMaxRetryError\u001b[0m\u001b[1;33m(\u001b[0m\u001b[0m_pool\u001b[0m\u001b[1;33m,\u001b[0m \u001b[0murl\u001b[0m\u001b[1;33m,\u001b[0m \u001b[0merror\u001b[0m \u001b[1;32mor\u001b[0m \u001b[0mResponseError\u001b[0m\u001b[1;33m(\u001b[0m\u001b[0mcause\u001b[0m\u001b[1;33m)\u001b[0m\u001b[1;33m)\u001b[0m\u001b[1;33m\u001b[0m\u001b[1;33m\u001b[0m\u001b[0m\n\u001b[0m\u001b[0;32m    437\u001b[0m \u001b[1;33m\u001b[0m\u001b[0m\n\u001b[0;32m    438\u001b[0m         \u001b[0mlog\u001b[0m\u001b[1;33m.\u001b[0m\u001b[0mdebug\u001b[0m\u001b[1;33m(\u001b[0m\u001b[1;34m\"Incremented Retry for (url='%s'): %r\"\u001b[0m\u001b[1;33m,\u001b[0m \u001b[0murl\u001b[0m\u001b[1;33m,\u001b[0m \u001b[0mnew_retry\u001b[0m\u001b[1;33m)\u001b[0m\u001b[1;33m\u001b[0m\u001b[1;33m\u001b[0m\u001b[0m\n",
      "\u001b[1;31mMaxRetryError\u001b[0m: HTTPSConnectionPool(host='helpx.adobe.com', port=443): Max retries exceeded with url: /security/products/acrobat.html (Caused by NewConnectionError('<urllib3.connection.VerifiedHTTPSConnection object at 0x00000288D1FD8550>: Failed to establish a new connection: [Errno 11001] getaddrinfo failed'))"
     ]
    }
   ],
   "source": [
    "from urllib.request import urlopen\n",
    "from urllib.request import Request\n",
    "import urllib3\n",
    "import json\n",
    "from IPython.core.display import display, HTML\n",
    "import re\n",
    "from bs4 import BeautifulSoup\n",
    "\n",
    "http = urllib3.PoolManager()\n",
    "\n",
    "url=\"https://helpx.adobe.com/security/products/acrobat.html\"\n",
    "\n",
    "r = http.request('GET',url)\n",
    "a=re.findall('<a disablelinktracking=\\\"false\\\" href=\\\"(.*)\\\" data-disable-query',r.data.decode('utf-8'))\n",
    "\n",
    "r = http.request('GET',a[0])  \n",
    "a=re.findall('<table width=\"100%\" cellspacing=\"0\" cellpadding=\"1\" border=\"1\">(.*)</table>',r.data.decode('utf-8'),re.MULTILINE|re.DOTALL)\n",
    "\n",
    "display(HTML(\"<h1>Adobe Acrobat Latest Vulnerability</h1>\"))\n",
    "print(url)\n",
    "soup = BeautifulSoup(a[0],\"html.parser\")\n",
    "\n",
    "soup.find('div').decompose()\n",
    "#display(HTML(\"<table>\"+a[0]+\"</table></div>\"))\n",
    "display(HTML(\"<table>\"+str(soup)+\"</table></div>\"))"
   ]
  },
  {
   "cell_type": "code",
   "execution_count": null,
   "metadata": {},
   "outputs": [],
   "source": [
    "#AMD\n",
    "#too much js\n",
    "\n"
   ]
  },
  {
   "cell_type": "code",
   "execution_count": 365,
   "metadata": {},
   "outputs": [
    {
     "data": {
      "text/html": [
       "<h1>Cisco AnyConnect Monthly Vulnerability Feed</h1>"
      ],
      "text/plain": [
       "<IPython.core.display.HTML object>"
      ]
     },
     "metadata": {},
     "output_type": "display_data"
    },
    {
     "data": {
      "text/html": [
       "<table><tr><th>Identifer</th><th>Severity</th><th>Title</th><th>ciscoBugId</th><th>Last Published</th></tr><tr><td>cisco-sa-20200108-anyconnect-hijack</td><td>Medium</td><td>Cisco AnyConnect Secure Mobility Client for Android Service Hijack Vulnerability</td><td>CSCvr67149</td><td>2020-01-08</td></tr></table>"
      ],
      "text/plain": [
       "<IPython.core.display.HTML object>"
      ]
     },
     "metadata": {},
     "output_type": "display_data"
    }
   ],
   "source": [
    "from datetime import date\n",
    "from IPython.core.display import display, HTML\n",
    "\n",
    "today = date.today()\n",
    "date_today = today.strftime(\"%Y+%b\")\n",
    "\n",
    "request=urlopen(\"https://tools.cisco.com/security/center/publicationService.x?cves=&identifiers=&last_published_date=\"+date_today+\"&limit=20&offset=0&publicationTypeIDs=1,3&resourceIDs=109810&securityImpactRatings=&sort=-last_published&title=\")\n",
    "cisco_data = request.read()\n",
    "data = json.loads(cisco_data)\n",
    "data = sorted(data, key=lambda k: k.get('severity', 0), reverse=False)\n",
    "entries=len(data)\n",
    "count=0\n",
    "critical=0\n",
    "high=0\n",
    "medium=0\n",
    "\n",
    "table=\"<table><tr><th>Identifer</th><th>Severity</th><th>Title</th><th>ciscoBugId</th><th>Last Published</th></tr>\"\n",
    "\n",
    "while count < entries:\n",
    "#for identifier,title,version,firstPublished,lastPublished,workflowstatus,id,name,url,severity,workarounds,cwe,cve,ciscoBugId,status,summary,totalcount,realtedResource in data:\n",
    "    table+=\"<tr><td>\"+data[count]['identifier']+\"</td><td>\"+data[count]['severity']+\"</td><td>\"+data[count]['title']+\"</td><td>\"+(data[count]['ciscoBugId']).replace(',','\\n')+\"</td><td>\"+data[count]['lastPublished'][:-18]+\"</td></tr>\"\n",
    "    if data[count]['severity'] == 'Critical': critical+=1\n",
    "    if data[count]['severity'] == 'High': high+=1\n",
    "    if data[count]['severity'] == 'Medium': medium+=1\n",
    "    count+=1\n",
    "#print(x)\n",
    "\n",
    "display(HTML(\"<h1>Cisco AnyConnect Monthly Vulnerability Feed</h1>\"))\n",
    "display(HTML(table+\"</table>\"))"
   ]
  },
  {
   "cell_type": "code",
   "execution_count": 419,
   "metadata": {},
   "outputs": [
    {
     "data": {
      "text/html": [
       "<table><tr><th>Date</th><th>Software</th><th>Urls</th></tr><tr><td>2020-01-28</td><td>Microsoft Edge (Chromium-based)</td><td><a href=\"https://review.docs.microsoft.com/en-us/DeployEdge/microsoft-edge-security-updates\">https://review.docs.microsoft.com/en-us/DeployEdge/microsoft-edge-security-updates</td></tr></table>"
      ],
      "text/plain": [
       "<IPython.core.display.HTML object>"
      ]
     },
     "metadata": {},
     "output_type": "display_data"
    },
    {
     "name": "stdout",
     "output_type": "stream",
     "text": [
      "[{\"Name\":\"filter\",\"Message\":\"\"}]\n"
     ]
    }
   ],
   "source": [
    "import urllib3\n",
    "import urllib.parse\n",
    "\n",
    "today = date.today()\n",
    "date_today = today.strftime(\"%m/%d/%Y\")\n",
    "r = http.request('GET',\"https://portal.msrc.microsoft.com/api/security-guidance/en-us/summary?filterText=edge&fromPublishedDate=12%2F11%2F2019&isDescending=true&orderBy=publishedDate&pageNumber=1&pageSize=20&toPublishedDate=\"+date_today)\n",
    "#print(r.data.decode('utf-8'))                     \n",
    "data=json.loads(r.data.decode('utf-8'))\n",
    "\n",
    "count=data[\"count\"]\n",
    "\n",
    "table=\"<table><tr><th>Date</th><th>Software</th><th>Urls</th></tr>\"\n",
    "for i in range(count):\n",
    "  table+='<tr><td>'+data[\"details\"][i][\"publishedDate\"][:10]+'</td><td>'+data[\"details\"][i][\"updateSoftwareList\"][0]+'</td><td><a href=\"'+data[\"details\"][i][\"articleUrl1\"]+'\">'+data[\"details\"][i][\"articleUrl1\"]+'</td></tr>'\n",
    "table+=\"</table>\"\n",
    "\n",
    "display(HTML(table))\n"
   ]
  },
  {
   "cell_type": "code",
   "execution_count": 181,
   "metadata": {},
   "outputs": [
    {
     "data": {
      "text/html": [
       "<h1>Google Chrome Latest Version</h1>"
      ],
      "text/plain": [
       "<IPython.core.display.HTML object>"
      ]
     },
     "metadata": {},
     "output_type": "display_data"
    },
    {
     "data": {
      "text/html": [
       "Chrome 79: December 11, 2019 <a href=\"https://storage.googleapis.com/support-kms-prod/4OnCGzJdV68GltoIaVjD23HfvkFnRZmNxHLZ\">Release PDF</a>"
      ],
      "text/plain": [
       "<IPython.core.display.HTML object>"
      ]
     },
     "metadata": {},
     "output_type": "display_data"
    }
   ],
   "source": [
    "http = urllib3.PoolManager()\n",
    "url=\"https://support.google.com/chrome/a/answer/7679408/\"\n",
    "r = http.request('GET',url)\n",
    "\n",
    "a=re.findall('<td><a href=\\\"\\#\\d+\\\">(.*)</a>',r.data.decode('utf-8'))\n",
    "b=re.findall('<td><a href=\\\"//storage(.*)\\\" target',r.data.decode('utf-8'))\n",
    "\n",
    "display(HTML(\"<h1>Google Chrome Latest Version</h1>\"))\n",
    "display(HTML(a[0]+\" <a href=\\\"https://storage\"+b[0]+\"\\\">Release PDF</a>\"))"
   ]
  },
  {
   "cell_type": "code",
   "execution_count": 294,
   "metadata": {},
   "outputs": [
    {
     "data": {
      "text/html": [
       "<h1>Intel Latest Vulnerabilities</h1>"
      ],
      "text/plain": [
       "<IPython.core.display.HTML object>"
      ]
     },
     "metadata": {},
     "output_type": "display_data"
    },
    {
     "data": {
      "text/html": [
       "<table><tr><th>URL</th><th>Title</th><th>Severity</th><th>Last Date</th></tr><tr><td><a href=\"https://www.intel.com/content/www/us/en/security-center/advisory/intel-sa-00325.html\">INTEL-SA-00325</a></td><td>Intel® VTune™ Amplifier for Windows* Advisory</td><td>3-HIGH</td><td>2020-01-07</td></tr><tr><td><a href=\"https://www.intel.com/content/www/us/en/security-center/advisory/intel-sa-00323.html\">INTEL-SA-00323</a></td><td>Intel® NUC® Firmware Advisory</td><td>3-HIGH</td><td>2019-12-05</td></tr><tr><td><a href=\"https://www.intel.com/content/www/us/en/security-center/advisory/intel-sa-00329.html\">INTEL-SA-00329</a></td><td>Intel® Processors Data Leakage Advisory</td><td>2-MEDIUM</td><td>2020-01-23</td></tr><tr><td><a href=\"https://www.intel.com/content/www/us/en/security-center/advisory/intel-sa-00314.html\">INTEL-SA-00314</a></td><td>Intel® Processor Graphics Advisory</td><td>2-MEDIUM</td><td>2020-01-13</td></tr><tr><td><a href=\"https://www.intel.com/content/www/us/en/security-center/advisory/intel-sa-00308.html\">INTEL-SA-00308</a></td><td>Intel® RWC 3 for Windows* Advisory</td><td>2-MEDIUM</td><td>2020-01-15</td></tr><tr><td><a href=\"https://www.intel.com/content/www/us/en/security-center/advisory/intel-sa-00306.html\">INTEL-SA-00306</a></td><td>Intel® Chipset Device Software Advisory</td><td>2-MEDIUM</td><td>2020-01-07</td></tr><tr><td><a href=\"https://www.intel.com/content/www/us/en/security-center/advisory/intel-sa-00300.html\">INTEL-SA-00300</a></td><td>Intel® SNMP Subagent Stand-Alone Advisory for Windows*</td><td>2-MEDIUM</td><td>2020-01-07</td></tr><tr><td><a href=\"https://www.intel.com/content/www/us/en/security-center/advisory/intel-sa-00324.html\">INTEL-SA-00324</a></td><td>Intel® RST Advisory</td><td>2-MEDIUM</td><td>2019-12-11</td></tr><tr><td><a href=\"https://www.intel.com/content/www/us/en/security-center/advisory/intel-sa-00317.html\">INTEL-SA-00317</a></td><td>Unexpected Page Fault in Virtualized Environment Advisory</td><td>2-MEDIUM</td><td>2019-12-09</td></tr><tr><td><a href=\"https://www.intel.com/content/www/us/en/security-center/advisory/intel-sa-00332.html\">INTEL-SA-00332</a></td><td>Intel® DAAL Advisory</td><td>1-LOW</td><td>2020-01-07</td></tr></table>"
      ],
      "text/plain": [
       "<IPython.core.display.HTML object>"
      ]
     },
     "metadata": {},
     "output_type": "display_data"
    }
   ],
   "source": [
    "\n",
    "http = urllib3.PoolManager()\n",
    "url=\"https://www.intel.com/content/www/us/en/security-center/default.html\"\n",
    "r = http.request('GET',url)\n",
    "\n",
    "a=re.findall('<a href=(.*)\\\"',r.data.decode('utf-8'))\n",
    "display(HTML(\"<h1>Intel Latest Vulnerabilities</h1>\"))\n",
    "count=0\n",
    "urls=[]\n",
    "for b in range(len(a)):\n",
    "  if \"intel-sa\" in a[b]:\n",
    "    urls.append(\"https://www.intel.com\"+a[b][1:])\n",
    "    count+=1\n",
    "    if count == 10: \n",
    "        break\n",
    "        \n",
    "table=\"<table><tr><th>URL</th><th>Title</th><th>Severity</th><th>Last Date</th></tr>\"\n",
    "matrix=[]\n",
    "for url in (urls):\n",
    "  r = http.request('GET',url)\n",
    "  a=re.findall('<title>(.*)</title>',r.data.decode('utf-8')) \n",
    "  b=re.findall('<meta name=\"lastModifieddate\" content=\"(.*)\\\"',r.data.decode('utf-8')) \n",
    "  c=re.findall('<h2 class=\" headline-font\">(.*)</h2>',r.data.decode('utf-8')) \n",
    "  d=re.findall('<td>([C|H|M|L].*[H|L|W|M])</td>',r.data.decode('utf-8'),re.MULTILINE) \n",
    "  d[0]=d[0].replace(\"HIGH\",\"3-HIGH\")\n",
    "  d[0]=d[0].replace(\"MEDIUM\",\"2-MEDIUM\")\n",
    "  d[0]=d[0].replace(\"LOW\",\"1-LOW\")\n",
    "  d[0]=d[0].replace(\"CRITICAL\",\"4-CRITICAL\")\n",
    "  matrix.append([a[0],b[0],c[0],d[0],url])\n",
    "  #print(r.data.decode('utf-8')) \n",
    "smatrix=sorted(matrix, key=lambda x: (x[3]),reverse=True)\n",
    "for i in smatrix:\n",
    "  table+=\"<tr><td><a href=\\\"\"+i[4]+\"\\\">\"+i[0]+\"</a></td><td>\"+i[2]+\"</td><td>\"+i[3]+\"</td><td>\"+i[1][:10]+\"</td></tr>\"\n",
    "  \n",
    "display(HTML(table+\"</table>\"))"
   ]
  },
  {
   "cell_type": "code",
   "execution_count": 110,
   "metadata": {},
   "outputs": [
    {
     "data": {
      "text/html": [
       "<h1>Java Jan2020 Vulnerabilites</h1>"
      ],
      "text/plain": [
       "<IPython.core.display.HTML object>"
      ]
     },
     "metadata": {},
     "output_type": "display_data"
    },
    {
     "name": "stdout",
     "output_type": "stream",
     "text": [
      "https://www.oracle.com/security-alerts/cpujan2020.html\n"
     ]
    },
    {
     "data": {
      "text/html": [
       "<h2>Affected Versions</h2>"
      ],
      "text/plain": [
       "<IPython.core.display.HTML object>"
      ]
     },
     "metadata": {},
     "output_type": "display_data"
    },
    {
     "data": {
      "text/html": [
       "Oracle Java SE, versions 7u241, 8u231, 11.0.5, 13.0.1"
      ],
      "text/plain": [
       "<IPython.core.display.HTML object>"
      ]
     },
     "metadata": {},
     "output_type": "display_data"
    },
    {
     "data": {
      "text/html": [
       "<h4>Oracle Java SE Risk Matrix</h4>\r\n",
       "<!-- a -->\r\n",
       "\r\n",
       "<p>This Critical Patch Update contains 12 new security patches for Oracle Java SE.&nbsp; All of these vulnerabilities may be remotely exploitable without authentication, i.e., may be exploited over a network without requiring user credentials.&nbsp; The English text form of this Risk Matrix can be found <a href=\"/security-alerts/cpujan2020verbose.html#JAVA\">here.</a></p>\r\n",
       "<!-- b --> <!-- c --> <!-- START Oracle Java SE RISK MATRIX -->\r\n",
       "\r\n",
       "<div class=\"otable otable-sticky otable-tech\" data-ocomid=\"otable\">\r\n",
       "<div class=\"otable-w1\">\r\n",
       "<table class=\"otable-w2\">\r\n",
       "\t<thead>\r\n",
       "\t\t<tr>\r\n",
       "\t\t\t<th class=\"otable-col-sticky\" rowspan=\"2\">CVE#</th>\r\n",
       "\t\t\t<th class=\"otable-col-head\" rowspan=\"2\">Product</th>\r\n",
       "\t\t\t<th class=\"otable-col-head\" rowspan=\"2\">Component</th>\r\n",
       "\t\t\t<th class=\"otable-col-head\" rowspan=\"2\">Protocol</th>\r\n",
       "\t\t\t<th class=\"otable-col-head\" rowspan=\"2\">Remote<br />\r\n",
       "\t\t\tExploit<br />\r\n",
       "\t\t\twithout<br />\r\n",
       "\t\t\tAuth.?</th>\r\n",
       "\t\t\t<th colspan=\"9\">CVSS VERSION 3.0 RISK (see <a href=\"/security-alerts/advisorymatrixglossary.html\" target=\"_blank\">Risk Matrix Definitions</a>)</th>\r\n",
       "\t\t\t<th class=\"otable-col-head\" rowspan=\"2\">Supported Versions Affected</th>\r\n",
       "\t\t\t<th class=\"otable-col-head\" rowspan=\"2\">Notes</th>\r\n",
       "\t\t</tr>\r\n",
       "\t\t<tr>\r\n",
       "\t\t\t<th class=\"otable-col-head\">Base<br />\r\n",
       "\t\t\tScore</th>\r\n",
       "\t\t\t<th class=\"otable-col-head\">Attack<br />\r\n",
       "\t\t\tVector</th>\r\n",
       "\t\t\t<th class=\"otable-col-head\">Attack<br />\r\n",
       "\t\t\tComplex</th>\r\n",
       "\t\t\t<th class=\"otable-col-head\">Privs<br />\r\n",
       "\t\t\tReq&#39;d</th>\r\n",
       "\t\t\t<th class=\"otable-col-head\">User<br />\r\n",
       "\t\t\tInteract</th>\r\n",
       "\t\t\t<th class=\"otable-col-head\">Scope</th>\r\n",
       "\t\t\t<th class=\"otable-col-head\">Confid-<br />\r\n",
       "\t\t\tentiality</th>\r\n",
       "\t\t\t<th class=\"otable-col-head\">Inte-<br />\r\n",
       "\t\t\tgrity</th>\r\n",
       "\t\t\t<th class=\"otable-col-head\">Avail-<br />\r\n",
       "\t\t\tability</th>\r\n",
       "\t\t</tr>\r\n",
       "\t</thead>\r\n",
       "\t<tbody>\r\n",
       "\t\t<tr>\r\n",
       "\t\t\t<th class=\"otable-col-sticky\">CVE-2020-2604</th>\r\n",
       "\t\t\t<td>Java SE, Java SE Embedded</td>\r\n",
       "\t\t\t<td>Serialization</td>\r\n",
       "\t\t\t<td>Multiple</td>\r\n",
       "\t\t\t<td>Yes</td>\r\n",
       "\t\t\t<td>8.1</td>\r\n",
       "\t\t\t<td>Network</td>\r\n",
       "\t\t\t<td>High</td>\r\n",
       "\t\t\t<td>None</td>\r\n",
       "\t\t\t<td>None</td>\r\n",
       "\t\t\t<td>Un-<br />\r\n",
       "\t\t\tchanged</td>\r\n",
       "\t\t\t<td>High</td>\r\n",
       "\t\t\t<td>High</td>\r\n",
       "\t\t\t<td>High</td>\r\n",
       "\t\t\t<td>Java SE: 7u241, 8u231, 11.0.5, 13.0.1; Java SE Embedded: 8u231</td>\r\n",
       "\t\t\t<td>See Note&nbsp;1</td>\r\n",
       "\t\t</tr>\r\n",
       "\t\t<tr>\r\n",
       "\t\t\t<th class=\"otable-col-sticky\">CVE-2019-16168</th>\r\n",
       "\t\t\t<td>Java SE</td>\r\n",
       "\t\t\t<td>JavaFX (SQLite)</td>\r\n",
       "\t\t\t<td>Multiple</td>\r\n",
       "\t\t\t<td>Yes</td>\r\n",
       "\t\t\t<td>7.5</td>\r\n",
       "\t\t\t<td>Network</td>\r\n",
       "\t\t\t<td>Low</td>\r\n",
       "\t\t\t<td>None</td>\r\n",
       "\t\t\t<td>None</td>\r\n",
       "\t\t\t<td>Un-<br />\r\n",
       "\t\t\tchanged</td>\r\n",
       "\t\t\t<td>None</td>\r\n",
       "\t\t\t<td>None</td>\r\n",
       "\t\t\t<td>High</td>\r\n",
       "\t\t\t<td>Java SE: 8u231</td>\r\n",
       "\t\t\t<td>See Note&nbsp;2</td>\r\n",
       "\t\t</tr>\r\n",
       "\t\t<tr>\r\n",
       "\t\t\t<th class=\"otable-col-sticky\">CVE-2019-13117</th>\r\n",
       "\t\t\t<td>Java SE</td>\r\n",
       "\t\t\t<td>JavaFX (libxslt)</td>\r\n",
       "\t\t\t<td>Multiple</td>\r\n",
       "\t\t\t<td>Yes</td>\r\n",
       "\t\t\t<td>7.5</td>\r\n",
       "\t\t\t<td>Network</td>\r\n",
       "\t\t\t<td>Low</td>\r\n",
       "\t\t\t<td>None</td>\r\n",
       "\t\t\t<td>None</td>\r\n",
       "\t\t\t<td>Un-<br />\r\n",
       "\t\t\tchanged</td>\r\n",
       "\t\t\t<td>High</td>\r\n",
       "\t\t\t<td>None</td>\r\n",
       "\t\t\t<td>None</td>\r\n",
       "\t\t\t<td>Java SE: 8u231</td>\r\n",
       "\t\t\t<td>See Note&nbsp;2</td>\r\n",
       "\t\t</tr>\r\n",
       "\t\t<tr>\r\n",
       "\t\t\t<th class=\"otable-col-sticky\">CVE-2019-13118</th>\r\n",
       "\t\t\t<td>Java SE</td>\r\n",
       "\t\t\t<td>JavaFX (libxslt)</td>\r\n",
       "\t\t\t<td>Multiple</td>\r\n",
       "\t\t\t<td>Yes</td>\r\n",
       "\t\t\t<td>7.5</td>\r\n",
       "\t\t\t<td>Network</td>\r\n",
       "\t\t\t<td>Low</td>\r\n",
       "\t\t\t<td>None</td>\r\n",
       "\t\t\t<td>None</td>\r\n",
       "\t\t\t<td>Un-<br />\r\n",
       "\t\t\tchanged</td>\r\n",
       "\t\t\t<td>High</td>\r\n",
       "\t\t\t<td>None</td>\r\n",
       "\t\t\t<td>None</td>\r\n",
       "\t\t\t<td>Java SE: 8u231</td>\r\n",
       "\t\t\t<td>See Note&nbsp;2</td>\r\n",
       "\t\t</tr>\r\n",
       "\t\t<tr>\r\n",
       "\t\t\t<th class=\"otable-col-sticky\">CVE-2020-2601</th>\r\n",
       "\t\t\t<td>Java SE, Java SE Embedded</td>\r\n",
       "\t\t\t<td>Security</td>\r\n",
       "\t\t\t<td>Kerberos</td>\r\n",
       "\t\t\t<td>Yes</td>\r\n",
       "\t\t\t<td>6.8</td>\r\n",
       "\t\t\t<td>Network</td>\r\n",
       "\t\t\t<td>High</td>\r\n",
       "\t\t\t<td>None</td>\r\n",
       "\t\t\t<td>None</td>\r\n",
       "\t\t\t<td>Changed</td>\r\n",
       "\t\t\t<td>High</td>\r\n",
       "\t\t\t<td>None</td>\r\n",
       "\t\t\t<td>None</td>\r\n",
       "\t\t\t<td>Java SE: 7u241, 8u231, 11.0.5, 13.0.1; Java SE Embedded: 8u231</td>\r\n",
       "\t\t\t<td>See Note&nbsp;1</td>\r\n",
       "\t\t</tr>\r\n",
       "\t\t<tr>\r\n",
       "\t\t\t<th class=\"otable-col-sticky\">CVE-2020-2585</th>\r\n",
       "\t\t\t<td>Java SE</td>\r\n",
       "\t\t\t<td>JavaFX</td>\r\n",
       "\t\t\t<td>Multiple</td>\r\n",
       "\t\t\t<td>Yes</td>\r\n",
       "\t\t\t<td>5.9</td>\r\n",
       "\t\t\t<td>Network</td>\r\n",
       "\t\t\t<td>High</td>\r\n",
       "\t\t\t<td>None</td>\r\n",
       "\t\t\t<td>None</td>\r\n",
       "\t\t\t<td>Un-<br />\r\n",
       "\t\t\tchanged</td>\r\n",
       "\t\t\t<td>None</td>\r\n",
       "\t\t\t<td>High</td>\r\n",
       "\t\t\t<td>None</td>\r\n",
       "\t\t\t<td>Java SE: 8u231</td>\r\n",
       "\t\t\t<td>See Note&nbsp;1</td>\r\n",
       "\t\t</tr>\r\n",
       "\t\t<tr>\r\n",
       "\t\t\t<th class=\"otable-col-sticky\">CVE-2020-2655</th>\r\n",
       "\t\t\t<td>Java SE</td>\r\n",
       "\t\t\t<td>JSSE</td>\r\n",
       "\t\t\t<td>HTTPS</td>\r\n",
       "\t\t\t<td>Yes</td>\r\n",
       "\t\t\t<td>4.8</td>\r\n",
       "\t\t\t<td>Network</td>\r\n",
       "\t\t\t<td>High</td>\r\n",
       "\t\t\t<td>None</td>\r\n",
       "\t\t\t<td>None</td>\r\n",
       "\t\t\t<td>Un-<br />\r\n",
       "\t\t\tchanged</td>\r\n",
       "\t\t\t<td>Low</td>\r\n",
       "\t\t\t<td>Low</td>\r\n",
       "\t\t\t<td>None</td>\r\n",
       "\t\t\t<td>Java SE: 11.0.5, 13.0.1</td>\r\n",
       "\t\t\t<td>See Note&nbsp;1</td>\r\n",
       "\t\t</tr>\r\n",
       "\t\t<tr>\r\n",
       "\t\t\t<th class=\"otable-col-sticky\">CVE-2020-2593</th>\r\n",
       "\t\t\t<td>Java SE, Java SE Embedded</td>\r\n",
       "\t\t\t<td>Networking</td>\r\n",
       "\t\t\t<td>Multiple</td>\r\n",
       "\t\t\t<td>Yes</td>\r\n",
       "\t\t\t<td>4.8</td>\r\n",
       "\t\t\t<td>Network</td>\r\n",
       "\t\t\t<td>High</td>\r\n",
       "\t\t\t<td>None</td>\r\n",
       "\t\t\t<td>None</td>\r\n",
       "\t\t\t<td>Un-<br />\r\n",
       "\t\t\tchanged</td>\r\n",
       "\t\t\t<td>Low</td>\r\n",
       "\t\t\t<td>Low</td>\r\n",
       "\t\t\t<td>None</td>\r\n",
       "\t\t\t<td>Java SE: 7u241, 8u231, 11.0.5, 13.0.1; Java SE Embedded: 8u231</td>\r\n",
       "\t\t\t<td>See Note&nbsp;1</td>\r\n",
       "\t\t</tr>\r\n",
       "\t\t<tr>\r\n",
       "\t\t\t<th class=\"otable-col-sticky\">CVE-2020-2654</th>\r\n",
       "\t\t\t<td>Java SE</td>\r\n",
       "\t\t\t<td>Libraries</td>\r\n",
       "\t\t\t<td>Multiple</td>\r\n",
       "\t\t\t<td>Yes</td>\r\n",
       "\t\t\t<td>3.7</td>\r\n",
       "\t\t\t<td>Network</td>\r\n",
       "\t\t\t<td>High</td>\r\n",
       "\t\t\t<td>None</td>\r\n",
       "\t\t\t<td>None</td>\r\n",
       "\t\t\t<td>Un-<br />\r\n",
       "\t\t\tchanged</td>\r\n",
       "\t\t\t<td>None</td>\r\n",
       "\t\t\t<td>None</td>\r\n",
       "\t\t\t<td>Low</td>\r\n",
       "\t\t\t<td>Java SE: 7u241, 8u231, 11.0.5, 13.0.1</td>\r\n",
       "\t\t\t<td>See Note&nbsp;3</td>\r\n",
       "\t\t</tr>\r\n",
       "\t\t<tr>\r\n",
       "\t\t\t<th class=\"otable-col-sticky\">CVE-2020-2590</th>\r\n",
       "\t\t\t<td>Java SE, Java SE Embedded</td>\r\n",
       "\t\t\t<td>Security</td>\r\n",
       "\t\t\t<td>Kerberos</td>\r\n",
       "\t\t\t<td>Yes</td>\r\n",
       "\t\t\t<td>3.7</td>\r\n",
       "\t\t\t<td>Network</td>\r\n",
       "\t\t\t<td>High</td>\r\n",
       "\t\t\t<td>None</td>\r\n",
       "\t\t\t<td>None</td>\r\n",
       "\t\t\t<td>Un-<br />\r\n",
       "\t\t\tchanged</td>\r\n",
       "\t\t\t<td>None</td>\r\n",
       "\t\t\t<td>Low</td>\r\n",
       "\t\t\t<td>None</td>\r\n",
       "\t\t\t<td>Java SE: 7u241, 8u231, 11.0.5, 13.0.1; Java SE Embedded: 8u231</td>\r\n",
       "\t\t\t<td>See Note&nbsp;1</td>\r\n",
       "\t\t</tr>\r\n",
       "\t\t<tr>\r\n",
       "\t\t\t<th class=\"otable-col-sticky\">CVE-2020-2659</th>\r\n",
       "\t\t\t<td>Java SE, Java SE Embedded</td>\r\n",
       "\t\t\t<td>Networking</td>\r\n",
       "\t\t\t<td>Multiple</td>\r\n",
       "\t\t\t<td>Yes</td>\r\n",
       "\t\t\t<td>3.7</td>\r\n",
       "\t\t\t<td>Network</td>\r\n",
       "\t\t\t<td>High</td>\r\n",
       "\t\t\t<td>None</td>\r\n",
       "\t\t\t<td>None</td>\r\n",
       "\t\t\t<td>Un-<br />\r\n",
       "\t\t\tchanged</td>\r\n",
       "\t\t\t<td>None</td>\r\n",
       "\t\t\t<td>None</td>\r\n",
       "\t\t\t<td>Low</td>\r\n",
       "\t\t\t<td>Java SE: 7u241, 8u231; Java SE Embedded: 8u231</td>\r\n",
       "\t\t\t<td>See Note&nbsp;1</td>\r\n",
       "\t\t</tr>\r\n",
       "\t\t<tr>\r\n",
       "\t\t\t<th class=\"otable-col-sticky\">CVE-2020-2583</th>\r\n",
       "\t\t\t<td>Java SE, Java SE Embedded</td>\r\n",
       "\t\t\t<td>Serialization</td>\r\n",
       "\t\t\t<td>Multiple</td>\r\n",
       "\t\t\t<td>Yes</td>\r\n",
       "\t\t\t<td>3.7</td>\r\n",
       "\t\t\t<td>Network</td>\r\n",
       "\t\t\t<td>High</td>\r\n",
       "\t\t\t<td>None</td>\r\n",
       "\t\t\t<td>None</td>\r\n",
       "\t\t\t<td>Un-<br />\r\n",
       "\t\t\tchanged</td>\r\n",
       "\t\t\t<td>None</td>\r\n",
       "\t\t\t<td>None</td>\r\n",
       "\t\t\t<td>Low</td>\r\n",
       "\t\t\t<td>Java SE: 7u241, 8u231, 11.0.5, 13.0.1; Java SE Embedded: 8u231</td>\r\n",
       "\t\t\t<td>See Note&nbsp;1</td>\r\n",
       "\t\t</tr>\r\n",
       "\t</tbody>\r\n",
       "</table>\r\n",
       "</div>\r\n",
       "</div>\r\n",
       "<strong>Notes:</strong>\r\n",
       "\r\n",
       "<ol class=\"decimal\">\r\n",
       "\t<li>This vulnerability applies to Java deployments, typically in clients running sandboxed Java Web Start applications or sandboxed Java applets (in Java SE 8), that load and run untrusted code (e.g., code that comes from the internet) and rely on the Java sandbox for security. This vulnerability can also be exploited by using APIs in the specified Component, e.g., through a web service which supplies data to the APIs.</li>\r\n",
       "\t<li>This vulnerability applies to Java deployments, typically in clients running sandboxed Java Web Start applications or sandboxed Java applets (in Java SE 8), that load and run untrusted code (e.g., code that comes from the internet) and rely on the Java sandbox for security. This vulnerability does not apply to Java deployments, typically in servers, that load and run only trusted code (e.g., code installed by an administrator).</li>\r\n",
       "\t<li>This vulnerability can only be exploited by supplying data to APIs in the specified Component without using Untrusted Java Web Start applications or Untrusted Java applets, such as through a web service.</li>\r\n",
       "</ol>\r\n"
      ],
      "text/plain": [
       "<IPython.core.display.HTML object>"
      ]
     },
     "metadata": {},
     "output_type": "display_data"
    }
   ],
   "source": [
    "from datetime import date\n",
    "\n",
    "today = date.today()\n",
    "bdate_today = today.strftime(\"%b%Y\")\n",
    "date_today = (today.strftime(\"%b%Y\")).lower()\n",
    "\n",
    "http = urllib3.PoolManager()\n",
    "url=\"https://www.oracle.com/security-alerts/cpu\"+date_today+\".html\"\n",
    "r = http.request('GET',url)\n",
    "\n",
    "a=re.findall('Oracle Java SE,(.*)</a>',r.data.decode('utf-8'))\n",
    "b=re.findall('id=\\\"AppendixJAVA\\\"(.*)<!-- END Oracle Java SE RISK MATRIX -->',r.data.decode('utf-8'),re.DOTALL)\n",
    "\n",
    "display(HTML(\"<h1>Java \"+bdate_today+\" Vulnerabilites</h1>\"))\n",
    "print(url)\n",
    "display(HTML(\"<h2>Affected Versions</h2>\"))\n",
    "display(HTML(\"Oracle Java SE,\"+a[0]))\n",
    "display(HTML(\"<h4>\"+b[0][1:]))"
   ]
  },
  {
   "cell_type": "code",
   "execution_count": 5,
   "metadata": {},
   "outputs": [
    {
     "data": {
      "text/html": [
       "<h1>Lenovo Latest Vulnerabilities</h1>"
      ],
      "text/plain": [
       "<IPython.core.display.HTML object>"
      ]
     },
     "metadata": {},
     "output_type": "display_data"
    },
    {
     "data": {
      "text/html": [
       "<table><tr><th>Ref</th><th>Title</th><th>Date</th></tr><tr><td><a href=\"http://support.lenovo.com/product_security/PS500303\">PS500303</a></td><td>Intel Processors Side Channel Data Leakage Vulnerabilities</td><td>Tue, 28 Jan 2020</td></tr><tr><td><a href=\"http://support.lenovo.com/product_security/PS500302\">PS500302</a></td><td>Intel Processor Graphics Vulnerability</td><td>Fri, 10 Jan 2020</td></tr><tr><td><a href=\"http://support.lenovo.com/product_security/PS500301\">PS500301</a></td><td>NVIDIA GeForce Experience Update</td><td>Thu, 09 Jan 2020</td></tr><tr><td><a href=\"http://support.lenovo.com/product_security/PS500300\">PS500300</a></td><td>Intel Chipset Device Software INF Utility Advisory</td><td>Thu, 09 Jan 2020</td></tr><tr><td><a href=\"http://support.lenovo.com/product_security/PS500295\">PS500295</a></td><td>Unexpected Page Fault in Virtualized Environment Advisory</td><td>Tue, 03 Dec 2019</td></tr></table>"
      ],
      "text/plain": [
       "<IPython.core.display.HTML object>"
      ]
     },
     "metadata": {},
     "output_type": "display_data"
    }
   ],
   "source": [
    "http = urllib3.PoolManager()\n",
    "url=\"https://support.lenovo.com/gb/en/api/v4/search/psrss?language=en&country=gb&brand=EBG,TPG,IPG,MOTO,PHONE,TABLET,SMART\"\n",
    "r = http.request('GET',url)\n",
    "\n",
    "a=re.findall('<link>http://support.lenovo.com/product_security/(\\w+\\d+)</link>',r.data.decode('utf-8'))\n",
    "b=re.findall('<description><!\\[CDATA\\[([\\w\\s]+)\\]\\]\\></description><link>',r.data.decode('utf-8'))\n",
    "c=re.findall('<pubDate>(\\w+, \\d+ \\w+ \\d+ \\d+:\\d+:\\d+ \\w+)</pubDate>',r.data.decode('utf-8'))\n",
    "\n",
    "count=0\n",
    "urls=[]\n",
    "table=\"<table><tr><th>Ref</th><th>Title</th><th>Date</th></tr>\"\n",
    "for d in range(len(a)):\n",
    "  #print(b[c])\n",
    "  if \"PS\" in a[d]:\n",
    "    table+=(\"<tr><td><a href=\\\"http://support.lenovo.com/product_security/\"+a[d]+\"\\\">\"+a[d]+\"</a></td><td>\"+b[d+1]+\"</td><td>\"+c[d][:16]+\"</td></tr>\")\n",
    "    #print(table)\n",
    "    count+=1\n",
    "    if count == 5: \n",
    "        break\n",
    "\n",
    "display(HTML(\"<h1>Lenovo Latest Vulnerabilities</h1>\"))\n",
    "display(HTML(table+\"</table>\"))"
   ]
  }
 ],
 "metadata": {
  "kernelspec": {
   "display_name": "Python 3",
   "language": "python",
   "name": "python3"
  },
  "language_info": {
   "codemirror_mode": {
    "name": "ipython",
    "version": 3
   },
   "file_extension": ".py",
   "mimetype": "text/x-python",
   "name": "python",
   "nbconvert_exporter": "python",
   "pygments_lexer": "ipython3",
   "version": "3.8.1"
  }
 },
 "nbformat": 4,
 "nbformat_minor": 4
}
