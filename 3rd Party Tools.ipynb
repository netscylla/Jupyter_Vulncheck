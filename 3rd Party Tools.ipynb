{
 "cells": [
  {
   "cell_type": "code",
   "execution_count": 257,
   "metadata": {
    "scrolled": false
   },
   "outputs": [
    {
     "data": {
      "text/html": [
       "<script>jQuery(function() {if (jQuery(\"body.notebook_app\").length == 0) { jQuery(\".input_area\").toggle(); jQuery(\".prompt\").toggle();}});</script>"
      ]
     },
     "metadata": {},
     "output_type": "display_data"
    },
    {
     "data": {
      "text/html": [
       "<button onclick=\"jQuery('.input_area').toggle(); jQuery('.prompt').toggle();\">Toggle code</button>"
      ]
     },
     "metadata": {},
     "output_type": "display_data"
    }
   ],
   "source": [
    "from IPython.display import display\n",
    "from IPython.display import HTML\n",
    "import IPython.core.display as di\n",
    "\n",
    "# This line will hide code by default when the notebook is exported as HTML\n",
    "di.display_html('<script>jQuery(function() {if (jQuery(\"body.notebook_app\").length == 0) { jQuery(\".input_area\").toggle(); jQuery(\".prompt\").toggle();}});</script>', raw=True)\n",
    "\n",
    "# This line will add a button to toggle visibility of code blocks, for use with the HTML export version\n",
    "di.display_html('''<button onclick=\"jQuery('.input_area').toggle(); jQuery('.prompt').toggle();\">Toggle code</button>''', raw=True)"
   ]
  },
  {
   "cell_type": "code",
   "execution_count": 1,
   "metadata": {
    "scrolled": false
   },
   "outputs": [
    {
     "data": {
      "text/html": [
       "<h1>Adobe Acrobat Latest Vulnerability</h1>"
      ],
      "text/plain": [
       "<IPython.core.display.HTML object>"
      ]
     },
     "metadata": {},
     "output_type": "display_data"
    },
    {
     "name": "stdout",
     "output_type": "stream",
     "text": [
      "https://helpx.adobe.com/security/products/acrobat.html\n"
     ]
    },
    {
     "data": {
      "text/html": [
       "<table>\n",
       "<tbody><tr><th><span style=\"font-weight: normal;\"><b>Bulletin ID</b></span></th>\n",
       "<th><b>Date Published</b></th>\n",
       "<th><span style=\"font-weight: normal;\"><b>Priority</b></span></th>\n",
       "</tr><tr><td>APSB19-55</td>\n",
       "<td>December 10, 2019</td>\n",
       "<td>2</td>\n",
       "</tr></tbody>\n",
       "\n",
       "\n",
       "<div class=\"text parbase section\">\n",
       "<a name=\"main-pars_text_1039417292_copy\"></a>\n",
       "<div class=\"text\"><p>Adobe has released security updates for Adobe Acrobat and Reader for Windows and macOS. These updates address <a disablelinktracking=\"false\" href=\"https://helpx.adobe.com/security/severity-ratings.html\">critical</a> and  <a data-disable-query=\"false\" disablelinktracking=\"false\" href=\"https://helpx.adobe.com/security/severity-ratings.html\" target=\"_blank\">important</a> vulnerabilities.  Successful exploitation could lead to arbitrary code execution in the context of the current user.    </p>\n",
       "</div>\n",
       "</div>\n",
       "<div class=\"text parbase section\">\n",
       "</div>\n",
       "<div class=\"header parbase section\">\n",
       "<a name=\"main-pars_header_104783179\"></a>\n",
       "<div class=\"header header-top\">\n",
       "<h2 id=\"AffectedVersions\">\n",
       "                    Affected Versions\n",
       "                </h2>\n",
       "</div>\n",
       "<!-- for Cascading Toc -->\n",
       "</div>\n",
       "<div class=\"text parbase section\">\n",
       "</div>\n",
       "<div class=\"table parbase section\">\n",
       "<a name=\"main-pars_table\"></a>\n",
       "<div class=\"noHeader\"><table border=\"1\" cellpadding=\"1\" cellspacing=\"0\" width=\"100%\">\n",
       "<tbody><tr><th><span style=\"font-weight: normal;\"><a href=\"#table\"></a><a id=\"table\" name=\"table\"></a><b>Product</b></span></th>\n",
       "<th><b>Track</b></th>\n",
       "<th><span style=\"font-weight: normal;\"><b>Affected Versions</b></span></th>\n",
       "<th><span style=\"font-weight: normal;\"><b>Platform</b></span></th>\n",
       "</tr><tr><td>Acrobat DC </td>\n",
       "<td>Continuous <br/>\n",
       "<br/>\n",
       "</td>\n",
       "<td>2019.021.20056 and earlier versions </td>\n",
       "<td>Windows &amp; macOS</td>\n",
       "</tr><tr><td>Acrobat Reader DC</td>\n",
       "<td>Continuous </td>\n",
       "<td> 2019.021.20056 and earlier versions </td>\n",
       "<td>Windows &amp; macOS</td>\n",
       "</tr><tr><td> </td>\n",
       "<td> </td>\n",
       "<td> </td>\n",
       "<td> </td>\n",
       "</tr><tr><td>Acrobat 2017</td>\n",
       "<td>Classic 2017</td>\n",
       "<td>2017.011.30152 and earlier versions </td>\n",
       "<td>Windows </td>\n",
       "</tr><tr><td>Acrobat 2017</td>\n",
       "<td>Classic 2017</td>\n",
       "<td>2017.011.30155 and earlier version</td>\n",
       "<td>macOS</td>\n",
       "</tr><tr><td>Acrobat Reader 2017</td>\n",
       "<td>Classic 2017</td>\n",
       "<td>2017.011.30152 and earlier versions</td>\n",
       "<td>Windows &amp; macOS</td>\n",
       "</tr><tr><td> </td>\n",
       "<td> </td>\n",
       "<td> </td>\n",
       "<td> </td>\n",
       "</tr><tr><td>Acrobat 2015 </td>\n",
       "<td>Classic 2015</td>\n",
       "<td>2015.006.30505 and earlier versions</td>\n",
       "<td>Windows &amp; macOS</td>\n",
       "</tr><tr><td>Acrobat Reader 2015</td>\n",
       "<td>Classic 2015</td>\n",
       "<td>2015.006.30505 and earlier versions</td>\n",
       "<td>Windows &amp; macOS</td>\n",
       "</tr></tbody></table>\n",
       "</div></div>\n",
       "<div class=\"text parbase section\">\n",
       "</div>\n",
       "<div class=\"header parbase section\">\n",
       "<a name=\"main-pars_header_604865618\"></a>\n",
       "<div class=\"header header-top\">\n",
       "<h2 id=\"Solution\">\n",
       "                    Solution\n",
       "                </h2>\n",
       "</div>\n",
       "<!-- for Cascading Toc -->\n",
       "</div>\n",
       "<div class=\"text parbase section\">\n",
       "<a name=\"main-pars_text_1440911409\"></a>\n",
       "<div class=\"text\"><p>Adobe recommends users update their software installations to the latest versions by following the instructions below.    </p>\n",
       "<p>The latest product versions are available to end users via one of the following methods:    </p>\n",
       "<ul>\n",
       "<li><p>Users can update their product installations manually by choosing Help &gt; Check for Updates.     </p>\n",
       "</li>\n",
       "<li><p>The products will update automatically, without requiring user intervention, when updates are detected.      </p>\n",
       "</li>\n",
       "<li><p>The full Acrobat Reader installer can be downloaded from the <a href=\"http://get.adobe.com/reader\" target=\"_blank\">Acrobat Reader Download Center</a>.     </p>\n",
       "</li>\n",
       "</ul>\n",
       "<p>For IT administrators (managed environments):     </p>\n",
       "<ul>\n",
       "<li><p>Download the enterprise installers from <a href=\"ftp://ftp.adobe.com/pub/adobe/\" target=\"_blank\">ftp://ftp.adobe.com/pub/adobe/</a>, or refer to the specific release note version for links to installers.     </p>\n",
       "</li>\n",
       "<li><p>Install updates via your preferred methodology, such as AIP-GPO, bootstrapper, SCUP/SCCM (Windows), or on macOS, Apple Remote Desktop and SSH.     </p>\n",
       "</li>\n",
       "</ul>\n",
       "<p>   </p>\n",
       "<p>Adobe categorizes these updates with the following <a href=\"https://helpx.adobe.com/security/severity-ratings.html\" target=\"_blank\">priority ratings</a> and recommends users update their installation to the newest version:    </p>\n",
       "</div>\n",
       "</div>\n",
       "<div class=\"table parbase section\">\n",
       "<a name=\"main-pars_table_69633852\"></a>\n",
       "<div class=\"noHeader\"><table border=\"1\" cellpadding=\"1\" cellspacing=\"0\" width=\"100%\">\n",
       "<tbody><tr><th><a href=\"#table\"></a><a id=\"table\" name=\"table\"></a><b>Product</b></th>\n",
       "<th>Track</th>\n",
       "<th><b>Updated Versions</b></th>\n",
       "<th><b>Platform</b></th>\n",
       "<th><b>Priority Rating</b></th>\n",
       "<th><b>Availability</b></th>\n",
       "</tr><tr><td>Acrobat DC</td>\n",
       "<td>Continuous</td>\n",
       "<td>2019.021.20058</td>\n",
       "<td>Windows and macOS</td>\n",
       "<td>2</td>\n",
       "<td><p><a data-disable-query=\"false\" disablelinktracking=\"false\" href=\"http://www.adobe.com/support/downloads/product.jsp?product=1&amp;platform=Windows\" target=\"_blank\">Windows</a>    </p>\n",
       "<p><a data-disable-query=\"false\" disablelinktracking=\"false\" href=\"http://www.adobe.com/support/downloads/product.jsp?product=1&amp;platform=Mac\" target=\"_blank\">macOS</a>  </p>\n",
       "</td>\n",
       "</tr><tr><td>Acrobat Reader DC</td>\n",
       "<td>Continuous</td>\n",
       "<td>2019.021.20058<br/>\n",
       "</td>\n",
       "<td>Windows and macOS</td>\n",
       "<td>2</td>\n",
       "<td><p><a data-disable-query=\"false\" href=\"http://www.adobe.com/support/downloads/product.jsp?product=1&amp;platform=Windows\">Windows</a></p>\n",
       "<p><br/>\n",
       "<a href=\"http://www.adobe.com/support/downloads/product.jsp?product=1&amp;platform=Mac\">macOS</a></p>\n",
       "</td>\n",
       "</tr><tr><td> </td>\n",
       "<td> </td>\n",
       "<td> </td>\n",
       "<td> </td>\n",
       "<td> </td>\n",
       "<td> </td>\n",
       "</tr><tr><td>Acrobat 2017</td>\n",
       "<td>Classic 2017</td>\n",
       "<td>2017.011.30156</td>\n",
       "<td>Windows and macOS</td>\n",
       "<td>2</td>\n",
       "<td><p><a data-disable-query=\"false\" href=\"http://www.adobe.com/support/downloads/product.jsp?product=1&amp;platform=Windows\">Windows</a></p>\n",
       "<p><a data-disable-query=\"false\" href=\"http://www.adobe.com/support/downloads/product.jsp?product=1&amp;platform=Mac\">macOS</a><br/>\n",
       "</p>\n",
       "</td>\n",
       "</tr><tr><td>Acrobat Reader 2017</td>\n",
       "<td>Classic 2017</td>\n",
       "<td>2017.011.30156</td>\n",
       "<td>Windows and macOS</td>\n",
       "<td>2</td>\n",
       "<td><p><a href=\"http://www.adobe.com/support/downloads/product.jsp?product=1&amp;platform=Windows\">Windows</a></p>\n",
       "<p><a href=\"http://www.adobe.com/support/downloads/product.jsp?product=1&amp;platform=Mac\">macOS</a><br/>\n",
       "</p>\n",
       "</td>\n",
       "</tr><tr><td> </td>\n",
       "<td> </td>\n",
       "<td> </td>\n",
       "<td> </td>\n",
       "<td> </td>\n",
       "<td> </td>\n",
       "</tr><tr><td>Acrobat 2015</td>\n",
       "<td>Classic 2015</td>\n",
       "<td>2015.006.30508</td>\n",
       "<td>Windows and macOS</td>\n",
       "<td>2</td>\n",
       "<td><p><a href=\"http://www.adobe.com/support/downloads/product.jsp?product=1&amp;platform=Windows\">Windows</a></p>\n",
       "<p><a href=\"http://www.adobe.com/support/downloads/product.jsp?product=1&amp;platform=Mac\">macOS</a><br/>\n",
       "</p>\n",
       "</td>\n",
       "</tr><tr><td>Acrobat Reader 2015</td>\n",
       "<td>Classic 2015</td>\n",
       "<td>2015.006.30508</td>\n",
       "<td>Windows and macOS</td>\n",
       "<td>2</td>\n",
       "<td><p><a href=\"http://www.adobe.com/support/downloads/product.jsp?product=1&amp;platform=Windows\">Windows</a></p>\n",
       "<p><a href=\"http://www.adobe.com/support/downloads/product.jsp?product=1&amp;platform=Mac\">macOS</a><br/>\n",
       "</p>\n",
       "</td>\n",
       "</tr></tbody></table>\n",
       "</div></div>\n",
       "<div class=\"note parbase section\">\n",
       "</div>\n",
       "<div class=\"header parbase section\">\n",
       "<a name=\"main-pars_header_127936884\"></a>\n",
       "<div class=\"header header-top\">\n",
       "<h2 id=\"VulnerabilityDetails\">\n",
       "                    Vulnerability Details\n",
       "                </h2>\n",
       "</div>\n",
       "<!-- for Cascading Toc -->\n",
       "</div>\n",
       "<div class=\"table parbase section\">\n",
       "<a name=\"main-pars_table_606250906\"></a>\n",
       "<table border=\"1\" cellpadding=\"1\" cellspacing=\"0\" width=\"100%\">\n",
       "<tbody><tr><th><a href=\"#table\"></a><b>Vulnerability Category</b></th>\n",
       "<th><b>Vulnerability Impact</b></th>\n",
       "<th><b>Severity</b></th>\n",
       "<th width=\"25%\"><b>CVE Number</b></th>\n",
       "</tr><tr><td>Out-of-Bounds Read  </td>\n",
       "<td>Information Disclosure  </td>\n",
       "<td>Important   </td>\n",
       "<td><p>CVE-2019-16449<br/>\n",
       "</p>\n",
       "<p>CVE-2019-16456</p>\n",
       "<p>CVE-2019-16457</p>\n",
       "<p>CVE-2019-16458</p>\n",
       "<p>CVE-2019-16461</p>\n",
       "<p>CVE-2019-16465</p>\n",
       "</td>\n",
       "</tr><tr><td>Out-of-Bounds Write </td>\n",
       "<td>Arbitrary Code Execution   </td>\n",
       "<td>Critical</td>\n",
       "<td><p>CVE-2019-16450</p>\n",
       "<p>CVE-2019-16454</p>\n",
       "</td>\n",
       "</tr><tr><td>Use After Free   </td>\n",
       "<td>Arbitrary Code Execution     </td>\n",
       "<td>Critical</td>\n",
       "<td><p>CVE-2019-16445</p>\n",
       "<p>CVE-2019-16448</p>\n",
       "<p>CVE-2019-16452</p>\n",
       "<p>CVE-2019-16459</p>\n",
       "<p>CVE-2019-16464</p>\n",
       "</td>\n",
       "</tr><tr><td>Heap Overflow </td>\n",
       "<td>Arbitrary Code Execution     </td>\n",
       "<td>Critical</td>\n",
       "<td>CVE-2019-16451</td>\n",
       "</tr><tr><td>Buffer Error</td>\n",
       "<td>Arbitrary Code Execution     </td>\n",
       "<td>Critical</td>\n",
       "<td>CVE-2019-16462</td>\n",
       "</tr><tr><td>Untrusted Pointer Dereference</td>\n",
       "<td>Arbitrary Code Execution </td>\n",
       "<td>Critical</td>\n",
       "<td><p>CVE-2019-16446</p>\n",
       "<p>CVE-2019-16455</p>\n",
       "<p>CVE-2019-16460</p>\n",
       "<p>CVE-2019-16463</p>\n",
       "</td>\n",
       "</tr><tr><td>Binary Planting (default folder privilege escalation) </td>\n",
       "<td>Privilege Escalation</td>\n",
       "<td>Important </td>\n",
       "<td>CVE-2019-16444</td>\n",
       "</tr><tr><td>Security Bypass</td>\n",
       "<td>Arbitrary Code Execution</td>\n",
       "<td>Critical</td>\n",
       "<td>CVE-2019-16453</td>\n",
       "</tr></tbody></table></div></table></div>"
      ],
      "text/plain": [
       "<IPython.core.display.HTML object>"
      ]
     },
     "metadata": {},
     "output_type": "display_data"
    }
   ],
   "source": [
    "from urllib.request import urlopen\n",
    "from urllib.request import Request\n",
    "import urllib3\n",
    "import json\n",
    "from IPython.core.display import display, HTML\n",
    "import re\n",
    "from bs4 import BeautifulSoup\n",
    "\n",
    "http = urllib3.PoolManager()\n",
    "\n",
    "url=\"https://helpx.adobe.com/security/products/acrobat.html\"\n",
    "\n",
    "r = http.request('GET',url)\n",
    "a=re.findall('<a disablelinktracking=\\\"false\\\" href=\\\"(.*)\\\" data-disable-query',r.data.decode('utf-8'))\n",
    "\n",
    "r = http.request('GET',a[0])  \n",
    "a=re.findall('<table width=\"100%\" cellspacing=\"0\" cellpadding=\"1\" border=\"1\">(.*)</table>',r.data.decode('utf-8'),re.MULTILINE|re.DOTALL)\n",
    "\n",
    "display(HTML(\"<h1>Adobe Acrobat Latest Vulnerability</h1>\"))\n",
    "print(url)\n",
    "soup = BeautifulSoup(a[0],\"html.parser\")\n",
    "\n",
    "soup.find('div').decompose()\n",
    "#display(HTML(\"<table>\"+a[0]+\"</table></div>\"))\n",
    "display(HTML(\"<table>\"+str(soup)+\"</table></div>\"))"
   ]
  },
  {
   "cell_type": "code",
   "execution_count": null,
   "metadata": {},
   "outputs": [],
   "source": [
    "#AMD\n",
    "#too much js\n",
    "\n"
   ]
  },
  {
   "cell_type": "code",
   "execution_count": null,
   "metadata": {},
   "outputs": [],
   "source": [
    "from datetime import date\n",
    "from IPython.core.display import display, HTML\n",
    "\n",
    "today = date.today()\n",
    "date_today = today.strftime(\"%Y+%b\")\n",
    "\n",
    "request=urlopen(\"https://tools.cisco.com/security/center/publicationService.x?cves=&identifiers=&last_published_date=\"+date_today+\"&limit=20&offset=0&publicationTypeIDs=1,3&resourceIDs=109810&securityImpactRatings=&sort=-last_published&title=\")\n",
    "cisco_data = request.read()\n",
    "data = json.loads(cisco_data)\n",
    "data = sorted(data, key=lambda k: k.get('severity', 0), reverse=False)\n",
    "entries=len(data)\n",
    "count=0\n",
    "critical=0\n",
    "high=0\n",
    "medium=0\n",
    "\n",
    "table=\"<table><tr><th>Identifer</th><th>Severity</th><th>Title</th><th>ciscoBugId</th><th>Last Published</th></tr>\"\n",
    "\n",
    "while count < entries:\n",
    "#for identifier,title,version,firstPublished,lastPublished,workflowstatus,id,name,url,severity,workarounds,cwe,cve,ciscoBugId,status,summary,totalcount,realtedResource in data:\n",
    "    table+=\"<tr><td>\"+data[count]['identifier']+\"</td><td>\"+data[count]['severity']+\"</td><td>\"+data[count]['title']+\"</td><td>\"+(data[count]['ciscoBugId']).replace(',','\\n')+\"</td><td>\"+data[count]['lastPublished'][:-18]+\"</td></tr>\"\n",
    "    if data[count]['severity'] == 'Critical': critical+=1\n",
    "    if data[count]['severity'] == 'High': high+=1\n",
    "    if data[count]['severity'] == 'Medium': medium+=1\n",
    "    count+=1\n",
    "#print(x)\n",
    "\n",
    "display(HTML(\"<h1>Cisco AnyConnect Monthly Vulnerability Feed</h1>\"))\n",
    "display(HTML(table+\"</table>\"))"
   ]
  },
  {
   "cell_type": "code",
   "execution_count": 419,
   "metadata": {},
   "outputs": [
    {
     "data": {
      "text/html": [
       "<table><tr><th>Date</th><th>Software</th><th>Urls</th></tr><tr><td>2020-01-28</td><td>Microsoft Edge (Chromium-based)</td><td><a href=\"https://review.docs.microsoft.com/en-us/DeployEdge/microsoft-edge-security-updates\">https://review.docs.microsoft.com/en-us/DeployEdge/microsoft-edge-security-updates</td></tr></table>"
      ],
      "text/plain": [
       "<IPython.core.display.HTML object>"
      ]
     },
     "metadata": {},
     "output_type": "display_data"
    },
    {
     "name": "stdout",
     "output_type": "stream",
     "text": [
      "[{\"Name\":\"filter\",\"Message\":\"\"}]\n"
     ]
    }
   ],
   "source": [
    "import urllib3\n",
    "import urllib.parse\n",
    "\n",
    "today = date.today()\n",
    "date_today = today.strftime(\"%m/%d/%Y\")\n",
    "r = http.request('GET',\"https://portal.msrc.microsoft.com/api/security-guidance/en-us/summary?filterText=edge&fromPublishedDate=12%2F11%2F2019&isDescending=true&orderBy=publishedDate&pageNumber=1&pageSize=20&toPublishedDate=\"+date_today)\n",
    "#print(r.data.decode('utf-8'))                     \n",
    "data=json.loads(r.data.decode('utf-8'))\n",
    "\n",
    "count=data[\"count\"]\n",
    "\n",
    "table=\"<table><tr><th>Date</th><th>Software</th><th>Urls</th></tr>\"\n",
    "for i in range(count):\n",
    "  table+='<tr><td>'+data[\"details\"][i][\"publishedDate\"][:10]+'</td><td>'+data[\"details\"][i][\"updateSoftwareList\"][0]+'</td><td><a href=\"'+data[\"details\"][i][\"articleUrl1\"]+'\">'+data[\"details\"][i][\"articleUrl1\"]+'</td></tr>'\n",
    "table+=\"</table>\"\n",
    "\n",
    "display(HTML(table))\n"
   ]
  },
  {
   "cell_type": "code",
   "execution_count": 181,
   "metadata": {},
   "outputs": [
    {
     "data": {
      "text/html": [
       "<h1>Google Chrome Latest Version</h1>"
      ],
      "text/plain": [
       "<IPython.core.display.HTML object>"
      ]
     },
     "metadata": {},
     "output_type": "display_data"
    },
    {
     "data": {
      "text/html": [
       "Chrome 79: December 11, 2019 <a href=\"https://storage.googleapis.com/support-kms-prod/4OnCGzJdV68GltoIaVjD23HfvkFnRZmNxHLZ\">Release PDF</a>"
      ],
      "text/plain": [
       "<IPython.core.display.HTML object>"
      ]
     },
     "metadata": {},
     "output_type": "display_data"
    }
   ],
   "source": [
    "http = urllib3.PoolManager()\n",
    "url=\"https://support.google.com/chrome/a/answer/7679408/\"\n",
    "r = http.request('GET',url)\n",
    "\n",
    "a=re.findall('<td><a href=\\\"\\#\\d+\\\">(.*)</a>',r.data.decode('utf-8'))\n",
    "b=re.findall('<td><a href=\\\"//storage(.*)\\\" target',r.data.decode('utf-8'))\n",
    "\n",
    "display(HTML(\"<h1>Google Chrome Latest Version</h1>\"))\n",
    "display(HTML(a[0]+\" <a href=\\\"https://storage\"+b[0]+\"\\\">Release PDF</a>\"))"
   ]
  },
  {
   "cell_type": "code",
   "execution_count": 294,
   "metadata": {},
   "outputs": [
    {
     "data": {
      "text/html": [
       "<h1>Intel Latest Vulnerabilities</h1>"
      ],
      "text/plain": [
       "<IPython.core.display.HTML object>"
      ]
     },
     "metadata": {},
     "output_type": "display_data"
    },
    {
     "data": {
      "text/html": [
       "<table><tr><th>URL</th><th>Title</th><th>Severity</th><th>Last Date</th></tr><tr><td><a href=\"https://www.intel.com/content/www/us/en/security-center/advisory/intel-sa-00325.html\">INTEL-SA-00325</a></td><td>Intel® VTune™ Amplifier for Windows* Advisory</td><td>3-HIGH</td><td>2020-01-07</td></tr><tr><td><a href=\"https://www.intel.com/content/www/us/en/security-center/advisory/intel-sa-00323.html\">INTEL-SA-00323</a></td><td>Intel® NUC® Firmware Advisory</td><td>3-HIGH</td><td>2019-12-05</td></tr><tr><td><a href=\"https://www.intel.com/content/www/us/en/security-center/advisory/intel-sa-00329.html\">INTEL-SA-00329</a></td><td>Intel® Processors Data Leakage Advisory</td><td>2-MEDIUM</td><td>2020-01-23</td></tr><tr><td><a href=\"https://www.intel.com/content/www/us/en/security-center/advisory/intel-sa-00314.html\">INTEL-SA-00314</a></td><td>Intel® Processor Graphics Advisory</td><td>2-MEDIUM</td><td>2020-01-13</td></tr><tr><td><a href=\"https://www.intel.com/content/www/us/en/security-center/advisory/intel-sa-00308.html\">INTEL-SA-00308</a></td><td>Intel® RWC 3 for Windows* Advisory</td><td>2-MEDIUM</td><td>2020-01-15</td></tr><tr><td><a href=\"https://www.intel.com/content/www/us/en/security-center/advisory/intel-sa-00306.html\">INTEL-SA-00306</a></td><td>Intel® Chipset Device Software Advisory</td><td>2-MEDIUM</td><td>2020-01-07</td></tr><tr><td><a href=\"https://www.intel.com/content/www/us/en/security-center/advisory/intel-sa-00300.html\">INTEL-SA-00300</a></td><td>Intel® SNMP Subagent Stand-Alone Advisory for Windows*</td><td>2-MEDIUM</td><td>2020-01-07</td></tr><tr><td><a href=\"https://www.intel.com/content/www/us/en/security-center/advisory/intel-sa-00324.html\">INTEL-SA-00324</a></td><td>Intel® RST Advisory</td><td>2-MEDIUM</td><td>2019-12-11</td></tr><tr><td><a href=\"https://www.intel.com/content/www/us/en/security-center/advisory/intel-sa-00317.html\">INTEL-SA-00317</a></td><td>Unexpected Page Fault in Virtualized Environment Advisory</td><td>2-MEDIUM</td><td>2019-12-09</td></tr><tr><td><a href=\"https://www.intel.com/content/www/us/en/security-center/advisory/intel-sa-00332.html\">INTEL-SA-00332</a></td><td>Intel® DAAL Advisory</td><td>1-LOW</td><td>2020-01-07</td></tr></table>"
      ],
      "text/plain": [
       "<IPython.core.display.HTML object>"
      ]
     },
     "metadata": {},
     "output_type": "display_data"
    }
   ],
   "source": [
    "\n",
    "http = urllib3.PoolManager()\n",
    "url=\"https://www.intel.com/content/www/us/en/security-center/default.html\"\n",
    "r = http.request('GET',url)\n",
    "\n",
    "a=re.findall('<a href=(.*)\\\"',r.data.decode('utf-8'))\n",
    "display(HTML(\"<h1>Intel Latest Vulnerabilities</h1>\"))\n",
    "count=0\n",
    "urls=[]\n",
    "for b in range(len(a)):\n",
    "  if \"intel-sa\" in a[b]:\n",
    "    urls.append(\"https://www.intel.com\"+a[b][1:])\n",
    "    count+=1\n",
    "    if count == 10: \n",
    "        break\n",
    "        \n",
    "table=\"<table><tr><th>URL</th><th>Title</th><th>Severity</th><th>Last Date</th></tr>\"\n",
    "matrix=[]\n",
    "for url in (urls):\n",
    "  r = http.request('GET',url)\n",
    "  a=re.findall('<title>(.*)</title>',r.data.decode('utf-8')) \n",
    "  b=re.findall('<meta name=\"lastModifieddate\" content=\"(.*)\\\"',r.data.decode('utf-8')) \n",
    "  c=re.findall('<h2 class=\" headline-font\">(.*)</h2>',r.data.decode('utf-8')) \n",
    "  d=re.findall('<td>([C|H|M|L].*[H|L|W|M])</td>',r.data.decode('utf-8'),re.MULTILINE) \n",
    "  d[0]=d[0].replace(\"HIGH\",\"3-HIGH\")\n",
    "  d[0]=d[0].replace(\"MEDIUM\",\"2-MEDIUM\")\n",
    "  d[0]=d[0].replace(\"LOW\",\"1-LOW\")\n",
    "  d[0]=d[0].replace(\"CRITICAL\",\"4-CRITICAL\")\n",
    "  matrix.append([a[0],b[0],c[0],d[0],url])\n",
    "  #print(r.data.decode('utf-8')) \n",
    "smatrix=sorted(matrix, key=lambda x: (x[3]),reverse=True)\n",
    "for i in smatrix:\n",
    "  table+=\"<tr><td><a href=\\\"\"+i[4]+\"\\\">\"+i[0]+\"</a></td><td>\"+i[2]+\"</td><td>\"+i[3]+\"</td><td>\"+i[1][:10]+\"</td></tr>\"\n",
    "  \n",
    "display(HTML(table+\"</table>\"))"
   ]
  },
  {
   "cell_type": "code",
   "execution_count": 9,
   "metadata": {
    "scrolled": false
   },
   "outputs": [
    {
     "data": {
      "text/html": [
       "<h1>Java jan20 Vulnerabilites</h1>"
      ],
      "text/plain": [
       "<IPython.core.display.HTML object>"
      ]
     },
     "metadata": {},
     "output_type": "display_data"
    },
    {
     "name": "stdout",
     "output_type": "stream",
     "text": [
      "https://www.oracle.com/security-alerts/cpujan20.html\n"
     ]
    },
    {
     "data": {
      "text/html": [
       "<h2>Affected Versions</h2>"
      ],
      "text/plain": [
       "<IPython.core.display.HTML object>"
      ]
     },
     "metadata": {},
     "output_type": "display_data"
    },
    {
     "ename": "IndexError",
     "evalue": "list index out of range",
     "output_type": "error",
     "traceback": [
      "\u001b[1;31m---------------------------------------------------------------------------\u001b[0m",
      "\u001b[1;31mIndexError\u001b[0m                                Traceback (most recent call last)",
      "\u001b[1;32m<ipython-input-9-6d13d36692a6>\u001b[0m in \u001b[0;36m<module>\u001b[1;34m\u001b[0m\n\u001b[0;32m     24\u001b[0m \u001b[0mprint\u001b[0m\u001b[1;33m(\u001b[0m\u001b[0murl\u001b[0m\u001b[1;33m)\u001b[0m\u001b[1;33m\u001b[0m\u001b[1;33m\u001b[0m\u001b[0m\n\u001b[0;32m     25\u001b[0m \u001b[0mdisplay\u001b[0m\u001b[1;33m(\u001b[0m\u001b[0mHTML\u001b[0m\u001b[1;33m(\u001b[0m\u001b[1;34m\"<h2>Affected Versions</h2>\"\u001b[0m\u001b[1;33m)\u001b[0m\u001b[1;33m)\u001b[0m\u001b[1;33m\u001b[0m\u001b[1;33m\u001b[0m\u001b[0m\n\u001b[1;32m---> 26\u001b[1;33m \u001b[0mdisplay\u001b[0m\u001b[1;33m(\u001b[0m\u001b[0mHTML\u001b[0m\u001b[1;33m(\u001b[0m\u001b[1;34m\"<h3>Oracle Java SE,\"\u001b[0m\u001b[1;33m+\u001b[0m\u001b[0ma\u001b[0m\u001b[1;33m[\u001b[0m\u001b[1;36m0\u001b[0m\u001b[1;33m]\u001b[0m\u001b[1;33m+\u001b[0m\u001b[1;34m\"</h3>\"\u001b[0m\u001b[1;33m)\u001b[0m\u001b[1;33m)\u001b[0m\u001b[1;33m\u001b[0m\u001b[1;33m\u001b[0m\u001b[0m\n\u001b[0m\u001b[0;32m     27\u001b[0m \u001b[0mdisplay\u001b[0m\u001b[1;33m(\u001b[0m\u001b[0mHTML\u001b[0m\u001b[1;33m(\u001b[0m\u001b[1;34m\"<h4>\"\u001b[0m\u001b[1;33m+\u001b[0m\u001b[0mb\u001b[0m\u001b[1;33m[\u001b[0m\u001b[1;36m0\u001b[0m\u001b[1;33m]\u001b[0m\u001b[1;33m[\u001b[0m\u001b[1;36m1\u001b[0m\u001b[1;33m:\u001b[0m\u001b[1;33m]\u001b[0m\u001b[1;33m)\u001b[0m\u001b[1;33m)\u001b[0m\u001b[1;33m\u001b[0m\u001b[1;33m\u001b[0m\u001b[0m\n\u001b[0;32m     28\u001b[0m \u001b[1;33m\u001b[0m\u001b[0m\n",
      "\u001b[1;31mIndexError\u001b[0m: list index out of range"
     ]
    }
   ],
   "source": [
    "from datetime import date, timedelta\n",
    "\n",
    "today = date.today()\n",
    "date_today = (today.strftime(\"%b%Y\")).lower()\n",
    "date_minus = (date.today() - timedelta(days=30)).strftime(\"%b%Y\").lower()\n",
    "\n",
    "http = urllib3.PoolManager()\n",
    "try:\n",
    "  url=\"https://www.oracle.com/security-alerts/cpu\"+date_today+\".html\"\n",
    "  r = http.request('GET',url)\n",
    "  #print(r.status)\n",
    "  if (r.status == 404):\n",
    "    raise Exception('rolling back a month')\n",
    "  bdate_today=date_today\n",
    "except:\n",
    "  url=\"https://www.oracle.com/security-alerts/cpu\"+date_minus+\".html\"\n",
    "  r = http.request('GET',url)\n",
    "  bdate_today=date_minus\n",
    "\n",
    "a=re.findall('Oracle Java SE,(.*)</a>',r.data.decode('utf-8'))\n",
    "b=re.findall('id=\\\"AppendixJAVA\\\"(.*)<!-- END Oracle Java SE RISK MATRIX -->',r.data.decode('utf-8'),re.DOTALL)\n",
    "\n",
    "display(HTML(\"<h1>Java \"+bdate_today+\" Vulnerabilites</h1>\"))\n",
    "print(url)\n",
    "display(HTML(\"<h2>Affected Versions</h2>\"))\n",
    "display(HTML(\"<h3>Oracle Java SE,\"+a[0]+\"</h3>\"))\n",
    "display(HTML(\"<h4>\"+b[0][1:]))\n",
    "\n",
    "a=re.findall('Oracle Database Server,(.*)</a>',r.data.decode('utf-8'))\n",
    "b=re.findall('id=\\\"AppendixDB\\\"(.*)<!-- END Oracle Database Server RISK MATRIX -->',r.data.decode('utf-8'),re.DOTALL)\n",
    "\n",
    "display(HTML(\"<h3>Oracle Database Server,\"+a[0]+\"</h3>\"))\n",
    "display(HTML(\"<h4>\"+b[0][1:]))\n",
    "\n",
    "a=re.findall('MySQL Server,(.*)</a>',r.data.decode('utf-8'))\n",
    "b=re.findall('id=\\\"AppendixMSQL\\\"(.*)<!-- END Oracle MySQL RISK MATRIX -->',r.data.decode('utf-8'),re.DOTALL)\n",
    "\n",
    "display(HTML(\"<h3>MySQL Server,\"+a[0]+\"</h3>\"))\n",
    "display(HTML(\"<h4>\"+b[0][1:]))"
   ]
  },
  {
   "cell_type": "code",
   "execution_count": 5,
   "metadata": {},
   "outputs": [
    {
     "data": {
      "text/html": [
       "<h1>Lenovo Latest Vulnerabilities</h1>"
      ],
      "text/plain": [
       "<IPython.core.display.HTML object>"
      ]
     },
     "metadata": {},
     "output_type": "display_data"
    },
    {
     "data": {
      "text/html": [
       "<table><tr><th>Ref</th><th>Title</th><th>Date</th></tr><tr><td><a href=\"http://support.lenovo.com/product_security/PS500303\">PS500303</a></td><td>Intel Processors Side Channel Data Leakage Vulnerabilities</td><td>Tue, 28 Jan 2020</td></tr><tr><td><a href=\"http://support.lenovo.com/product_security/PS500302\">PS500302</a></td><td>Intel Processor Graphics Vulnerability</td><td>Fri, 10 Jan 2020</td></tr><tr><td><a href=\"http://support.lenovo.com/product_security/PS500301\">PS500301</a></td><td>NVIDIA GeForce Experience Update</td><td>Thu, 09 Jan 2020</td></tr><tr><td><a href=\"http://support.lenovo.com/product_security/PS500300\">PS500300</a></td><td>Intel Chipset Device Software INF Utility Advisory</td><td>Thu, 09 Jan 2020</td></tr><tr><td><a href=\"http://support.lenovo.com/product_security/PS500295\">PS500295</a></td><td>Unexpected Page Fault in Virtualized Environment Advisory</td><td>Tue, 03 Dec 2019</td></tr></table>"
      ],
      "text/plain": [
       "<IPython.core.display.HTML object>"
      ]
     },
     "metadata": {},
     "output_type": "display_data"
    }
   ],
   "source": [
    "http = urllib3.PoolManager()\n",
    "url=\"https://support.lenovo.com/gb/en/api/v4/search/psrss?language=en&country=gb&brand=EBG,TPG,IPG,MOTO,PHONE,TABLET,SMART\"\n",
    "r = http.request('GET',url)\n",
    "\n",
    "a=re.findall('<link>http://support.lenovo.com/product_security/(\\w+\\d+)</link>',r.data.decode('utf-8'))\n",
    "b=re.findall('<description><!\\[CDATA\\[([\\w\\s]+)\\]\\]\\></description><link>',r.data.decode('utf-8'))\n",
    "c=re.findall('<pubDate>(\\w+, \\d+ \\w+ \\d+ \\d+:\\d+:\\d+ \\w+)</pubDate>',r.data.decode('utf-8'))\n",
    "\n",
    "count=0\n",
    "urls=[]\n",
    "table=\"<table><tr><th>Ref</th><th>Title</th><th>Date</th></tr>\"\n",
    "for d in range(len(a)):\n",
    "  #print(b[c])\n",
    "  if \"PS\" in a[d]:\n",
    "    table+=(\"<tr><td><a href=\\\"http://support.lenovo.com/product_security/\"+a[d]+\"\\\">\"+a[d]+\"</a></td><td>\"+b[d+1]+\"</td><td>\"+c[d][:16]+\"</td></tr>\")\n",
    "    #print(table)\n",
    "    count+=1\n",
    "    if count == 5: \n",
    "        break\n",
    "\n",
    "display(HTML(\"<h1>Lenovo Latest Vulnerabilities</h1>\"))\n",
    "display(HTML(table+\"</table>\"))"
   ]
  }
 ],
 "metadata": {
  "kernelspec": {
   "display_name": "Python 3",
   "language": "python",
   "name": "python3"
  },
  "language_info": {
   "codemirror_mode": {
    "name": "ipython",
    "version": 3
   },
   "file_extension": ".py",
   "mimetype": "text/x-python",
   "name": "python",
   "nbconvert_exporter": "python",
   "pygments_lexer": "ipython3",
   "version": "3.8.1"
  }
 },
 "nbformat": 4,
 "nbformat_minor": 4
}
