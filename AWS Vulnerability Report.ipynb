{
 "cells": [
  {
   "cell_type": "code",
   "execution_count": 59,
   "metadata": {},
   "outputs": [
    {
     "data": {
      "text/html": [
       "<script>jQuery(function() {if (jQuery(\"body.notebook_app\").length == 0) { jQuery(\".input_area\").toggle(); jQuery(\".prompt\").toggle();}});</script>"
      ]
     },
     "metadata": {},
     "output_type": "display_data"
    },
    {
     "data": {
      "text/html": [
       "<button onclick=\"jQuery('.input_area').toggle(); jQuery('.prompt').toggle();\">Toggle code</button>"
      ]
     },
     "metadata": {},
     "output_type": "display_data"
    }
   ],
   "source": [
    "from IPython.display import display\n",
    "from IPython.display import HTML\n",
    "import IPython.core.display as di\n",
    "\n",
    "# This line will hide code by default when the notebook is exported as HTML\n",
    "di.display_html('<script>jQuery(function() {if (jQuery(\"body.notebook_app\").length == 0) { jQuery(\".input_area\").toggle(); jQuery(\".prompt\").toggle();}});</script>', raw=True)\n",
    "\n",
    "# This line will add a button to toggle visibility of code blocks, for use with the HTML export version\n",
    "di.display_html('''<button onclick=\"jQuery('.input_area').toggle(); jQuery('.prompt').toggle();\">Toggle code</button>''', raw=True)"
   ]
  },
  {
   "cell_type": "code",
   "execution_count": 7,
   "metadata": {},
   "outputs": [
    {
     "data": {
      "text/html": [
       "<h1>AWS 2019 Vulnerability Feed</h1>"
      ],
      "text/plain": [
       "<IPython.core.display.HTML object>"
      ]
     },
     "metadata": {},
     "output_type": "display_data"
    },
    {
     "data": {
      "text/html": [
       "<table><tr><th>ID</th><th>Date</th><th>Title</th><th>URL</th><tr><tr><td>AWS-2019-007</td><td>15-Aug-19</td><td>Kubernetes Security Issue (CVE-2019-11249)</td><td><a href=\"https://aws.amazon.com/security/security-bulletins/AWS-2019-007/\">https://aws.amazon.com/security/security-bulletins/AWS-2019-007/</a></td></tr><tr><td>AWS-2019-006</td><td>2-Jul-19</td><td>Kubernetes Security Issue (CVE-2019-11246) </td><td><a href=\"https://aws.amazon.com/security/security-bulletins/AWS-2019-006/\">https://aws.amazon.com/security/security-bulletins/AWS-2019-006/</a></td></tr><tr><td>AWS-2019-005</td><td>17-Jun-19</td><td>Linux Kernel TCP SACK Denial of Service Issues</td><td><a href=\"https://aws.amazon.com/security/security-bulletins/AWS-2019-005/\">https://aws.amazon.com/security/security-bulletins/AWS-2019-005/</a></td></tr><tr><td>AWS-2019-004</td><td>14-May-19</td><td>Intel Quarterly Security Release 2019.1 (CVE-2018-12126, CVE-2018-12127, CVE-2018-12130)</td><td><a href=\"https://aws.amazon.com/security/security-bulletins/AWS-2019-004/\">https://aws.amazon.com/security/security-bulletins/AWS-2019-004/</a></td></tr><tr><td>AWS-2019-003</td><td>28-Mar-19</td><td>Kubernetes Security Issues (CVE-2019-1002101 and CVE-2019-9946)</td><td><a href=\"https://aws.amazon.com/security/security-bulletins/AWS-2019-003/\">https://aws.amazon.com/security/security-bulletins/AWS-2019-003/</a></td></tr><tr><td>AWS-2019-002</td><td>11-Feb-19</td><td>Container Security Issue (CVE-2019-5736)</td><td><a href=\"https://aws.amazon.com/security/security-bulletins/AWS-2019-002/\">https://aws.amazon.com/security/security-bulletins/AWS-2019-002/</a></td></tr><tr><td>AWS-2019-001</td><td>4-Jan-19</td><td>Kubernetes Security Issues (CVE-2018-18264 and kubectl proxy)</td><td><a href=\"https://aws.amazon.com/security/security-bulletins/AWS-2019-001/\">https://aws.amazon.com/security/security-bulletins/AWS-2019-001/</a></td></tr></table>"
      ],
      "text/plain": [
       "<IPython.core.display.HTML object>"
      ]
     },
     "metadata": {},
     "output_type": "display_data"
    }
   ],
   "source": [
    "#https://aws.amazon.com/api/dirs/items/search?item.directoryId=security-bulletins&sort_by=item.additionalFields.bulletinDateSort&sort_order=desc&size=12&item.locale=en_US&tags.id=security-bulletins#year#2019\n",
    "from urllib.request import urlopen\n",
    "from urllib.request import Request\n",
    "import urllib3\n",
    "import json\n",
    "from prettytable import PrettyTable\n",
    "\n",
    "http = urllib3.PoolManager()\n",
    "\n",
    "url=\"https://aws.amazon.com/api/dirs/items/search?item.directoryId=security-bulletins&sort_by=item.additionalFields.bulletinDateSort&sort_order=desc&size=12&item.locale=en_US&tags.id=security-bulletins%23year%232019\"\n",
    "r = http.request(\n",
    "      'GET',\n",
    "      url,\n",
    "      headers={\n",
    "          'authority':'aws.amazon.com',\n",
    "          'referer':'https://aws.amazon.com/security/security-bulletins/?nc=sn&loc=6&card-body.sort-by=item.additionalFields.bulletinDateSort&card-body.sort-order=desc&awsf.bulletins-year=year%232019'\n",
    "      }\n",
    "      )\n",
    "data=json.loads(r.data.decode('utf-8'))\n",
    "\n",
    "table=\"<table><tr><th>ID</th><th>Date</th><th>Title</th><th>URL</th><tr>\"\n",
    "\n",
    "d_items=data[\"metadata\"][\"count\"]\n",
    "for i in range(d_items):\n",
    "  name=data[\"items\"][i][\"item\"][\"name\"]\n",
    "  date=data[\"items\"][i][\"item\"][\"additionalFields\"][\"bulletinDate\"]\n",
    "  subject=data[\"items\"][i][\"item\"][\"additionalFields\"][\"bulletinSubject\"]\n",
    "  url=\"<a href=\\\"\"+data[\"items\"][i][\"item\"][\"additionalFields\"][\"bulletinSubjectUrl\"]+\"\\\">\"+data[\"items\"][i][\"item\"][\"additionalFields\"][\"bulletinSubjectUrl\"]+\"</a>\"\n",
    "  table+=\"<tr><td>\"+name+\"</td><td>\"+date+\"</td><td>\"+subject+\"</td><td>\"+url+\"</td></tr>\"\n",
    "from IPython.core.display import display, HTML\n",
    "display(HTML(\"<h1>AWS 2019 Vulnerability Feed</h1>\"))\n",
    "display(HTML(table+\"</table>\"))"
   ]
  }
 ],
 "metadata": {
  "kernelspec": {
   "display_name": "Python 3",
   "language": "python",
   "name": "python3"
  },
  "language_info": {
   "codemirror_mode": {
    "name": "ipython",
    "version": 3
   },
   "file_extension": ".py",
   "mimetype": "text/x-python",
   "name": "python",
   "nbconvert_exporter": "python",
   "pygments_lexer": "ipython3",
   "version": "3.8.1"
  }
 },
 "nbformat": 4,
 "nbformat_minor": 4
}
