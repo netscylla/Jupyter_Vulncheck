{
 "cells": [
  {
   "cell_type": "code",
   "execution_count": 1,
   "metadata": {},
   "outputs": [
    {
     "data": {
      "text/html": [
       "<script>jQuery(function() {if (jQuery(\"body.notebook_app\").length == 0) { jQuery(\".input_area\").toggle(); jQuery(\".prompt\").toggle();}});</script>"
      ]
     },
     "metadata": {},
     "output_type": "display_data"
    },
    {
     "data": {
      "text/html": [
       "<button onclick=\"jQuery('.input_area').toggle(); jQuery('.prompt').toggle();\">Toggle code</button>"
      ]
     },
     "metadata": {},
     "output_type": "display_data"
    }
   ],
   "source": [
    "from IPython.display import display, display_html\n",
    "from IPython.display import HTML\n",
    "import IPython.core.display as di\n",
    "\n",
    "# This line will hide code by default when the notebook is exported as HTML\n",
    "di.display_html('<script>jQuery(function() {if (jQuery(\"body.notebook_app\").length == 0) { jQuery(\".input_area\").toggle(); jQuery(\".prompt\").toggle();}});</script>', raw=True)\n",
    "\n",
    "# This line will add a button to toggle visibility of code blocks, for use with the HTML export version\n",
    "di.display_html('''<button onclick=\"jQuery('.input_area').toggle(); jQuery('.prompt').toggle();\">Toggle code</button>''', raw=True)"
   ]
  },
  {
   "cell_type": "code",
   "execution_count": 91,
   "metadata": {},
   "outputs": [],
   "source": [
    "def group(lst, key, value=None):\n",
    "    result = defaultdict(list)\n",
    "    for i in lst:\n",
    "        result[key(i) if callable(key) else i[key]].append(value(i) if callable(value) else i[value] if value else i)\n",
    "    return result\n",
    "\n",
    "def scrape_cve(cve_id):\n",
    "    data_ids = [\"vuln-description\", \"vuln-cvss3-panel-score\"]\n",
    "    nvd_cve_url = f\"https://nvd.nist.gov/vuln/detail/{cve_id}\"\n",
    "    #print( nvd_cve_url)\n",
    "    cve_doc = lxml.html.fromstring(requests.get(nvd_cve_url).content)\n",
    "    try:\n",
    "      extracted = {id: cve_doc.xpath(f\"//*[@data-testid='{id}']/text()\")[0] for id in data_ids}\n",
    "      return {\n",
    "        \"id\": cve_id,\n",
    "        \"urls\": [nvd_cve_url, microsoft_cve_url_prefix+cve_id],\n",
    "        \"description\": extracted[\"vuln-description\"],\n",
    "        \"aka\": re.findall(\", aka '(.*)'\", extracted[\"vuln-description\"])[0],\n",
    "        \"cvss_score\": float(re.match(\"(\\d+\\.\\d+).*\", extracted[1]).group(1))\n",
    "      }\n",
    "    except:\n",
    "      data_ids2 = [\"vuln-description\"]\n",
    "      extracted = {id: cve_doc.xpath(f\"//*[@data-testid='{id}']/text()\") for id in data_ids2}\n",
    "    return {\n",
    "        \"id\": cve_id,\n",
    "        \"urls\": [nvd_cve_url, microsoft_cve_url_prefix+cve_id],\n",
    "        \"description\": extracted[\"vuln-description\"],\n",
    "        \"aka\": \"something went wrong!\",\n",
    "        \"cvss_score\": float(\"0.0\")\n",
    "    }\n",
    "\n",
    "cvss_severity_colors = {\n",
    "    \"None\": None,\n",
    "    \"Low\": \"green\",\n",
    "    \"Medium\": \"#FFA53F\",\n",
    "    \"High\": \"#FF4F4F\",\n",
    "    \"Critical\": \"mediumorchid\"  \n",
    "}\n",
    "cvss_severity_matrix = [\n",
    "    (\"None\", 0.0, 0.0),\n",
    "    (\"Low\", 0.1, 3.9),\n",
    "    (\"Medium\", 4.0, 6.9),\n",
    "    (\"High\", 7.0, 8.9),\n",
    "    (\"Critical\", 9.0, 10.0)\n",
    "]\n",
    "\n",
    "def cvss_severity(score):\n",
    "    for severity, from_score, to_score in cvss_severity_matrix:\n",
    "        if int(from_score*10) <= int(score*10) <= int(to_score*10):\n",
    "            return severity\n",
    "        \n",
    "def table(columns, rows):\n",
    "    def table_cell_attrs(column, row=None):\n",
    "        attrs = {}\n",
    "        if \"attrs\" in column:\n",
    "            for k, v in column[\"attrs\"].items():\n",
    "                if callable(v):\n",
    "                    if row:\n",
    "                        attrs[k] = v(row)\n",
    "                else:\n",
    "                     attrs[k] = v    \n",
    "            if attrs:\n",
    "                return \" \" + \" \".join(f'{k}=\"{v}\"' for k, v in attrs.items())\n",
    "        return \"\"\n",
    "    def table_header_cells():\n",
    "        return [f\"<th{table_cell_attrs(column)}>{column['title']}</th>\" for column in columns]\n",
    "    def table_body_cells(row):\n",
    "        return [f\"<td{table_cell_attrs(column,row)}>{column['processor'](row[column['key']]) if 'processor' in column else row[column['key']]}</td>\" for column in columns]\n",
    "    def table_row(cells):\n",
    "        return f\"<tr>{''.join(cells)}</tr>\"\n",
    "    return f\"\"\"<table width=\"100%\">\n",
    "    <thead>{table_row(table_header_cells())}</thead>\n",
    "    <tbody>{''.join(table_row(table_body_cells(row)) for row in rows)}</tbody>\n",
    "</table>\"\"\""
   ]
  },
  {
   "cell_type": "code",
   "execution_count": 9,
   "metadata": {
    "tags": [
     "hide_input"
    ]
   },
   "outputs": [
    {
     "data": {
      "text/html": [
       "<h1>February 2020 Security Updates</h1>"
      ],
      "text/plain": [
       "<IPython.core.display.HTML object>"
      ]
     },
     "metadata": {},
     "output_type": "display_data"
    },
    {
     "data": {
      "text/html": [
       "<p>The February security release consists of security updates for the following software:</p>\n",
       "<ul>\n",
       "<li>Microsoft Windows</li>\n",
       "<li>Microsoft Edge (EdgeHTML-based)</li>\n",
       "<li>Microsoft Edge (Chromium-based)</li>\n",
       "<li>ChakraCore</li>\n",
       "<li>Internet Explorer</li>\n",
       "<li>Microsoft Exchange Server</li>\n",
       "<li>Microsoft SQL Server</li>\n",
       "<li>Microsoft Office and Microsoft Office Services and Web Apps</li>\n",
       "<li>Windows Malicious Software Removal Tool</li>\n",
       "<li>Windows Surface Hub</li>\n",
       "</ul>\n",
       "<p>Please note the following information regarding the security updates:</p>\n",
       "<ul>\n",
       "<li>A list of the latest servicing stack updates for each operating system can be found in <a href=\"https://portal.msrc.microsoft.com/en-us/security-guidance/advisory/ADV990001\">ADV990001</a>. This list will be updated whenever a new servicing stack update is released. It is important to install the latest servicing stack update.</li>\n",
       "<li>Windows 10 updates are cumulative. The monthly security release includes all security fixes for vulnerabilities that affect Windows 10, in addition to non-security updates. The updates are available via the <a href=\"http://catalog.update.microsoft.com/v7/site/Home.aspx\">Microsoft Update Catalog</a>.</li>\n",
       "<li>Updates for Windows RT 8.1 and Microsoft Office RT software are only available via <a href=\"http://go.microsoft.com/fwlink/?LinkId=21130\">Windows Update</a>.</li>\n",
       "<li>For information on lifecycle and support dates for Windows 10 operating systems, please see <a href=\"https://support.microsoft.com/en-us/help/13853/windows-lifecycle-fact-sheet\">Windows Lifecycle Facts Sheet</a>.</li>\n",
       "<li>In addition to security changes for the vulnerabilities, updates include defense-in-depth updates to help improve security-related features.</li>\n",
       "<li>Customers running Windows 7, Windows Server 2008 R2, or Windows Server 2008 need to purchase the Extended Security Update to continue receiving security updates. See <a href=\"https://support.microsoft.com/en-us/help/4522133/procedure-to-continue-receiving-security-updates\">4522133</a> for more information.</li>\n",
       "</ul>\n",
       "<p><strong>The following CVEs have FAQs with additional information and may include * further steps to take after installing the updates. Please note that this is not a complete list of CVEs for this release.</strong></p>\n",
       "<ul>\n",
       "<li><a href=\"https://portal.msrc.microsoft.com/en-US/security-guidance/advisory/ADV200003\">ADV200003</a></li>\n",
       "<li><a href=\"https://portal.msrc.microsoft.com/en-US/security-guidance/advisory/CVE-2020-0618\">CVE-2020-0618</a> *</li>\n",
       "<li><a href=\"https://portal.msrc.microsoft.com/en-US/security-guidance/advisory/CVE-2020-0658\">CVE-2020-0658</a></li>\n",
       "<li><a href=\"https://portal.msrc.microsoft.com/en-US/security-guidance/advisory/CVE-2020-0675\">CVE-2020-0675</a></li>\n",
       "<li><a href=\"https://portal.msrc.microsoft.com/en-US/security-guidance/advisory/CVE-2020-0676\">CVE-2020-0676</a></li>\n",
       "<li><a href=\"https://portal.msrc.microsoft.com/en-US/security-guidance/advisory/CVE-2020-0677\">CVE-2020-0677</a></li>\n",
       "<li><a href=\"https://portal.msrc.microsoft.com/en-US/security-guidance/advisory/CVE-2020-0689\">CVE-2020-0689</a> *</li>\n",
       "<li><a href=\"https://portal.msrc.microsoft.com/en-US/security-guidance/advisory/CVE-2020-0693\">CVE-2020-0693</a></li>\n",
       "<li><a href=\"https://portal.msrc.microsoft.com/en-US/security-guidance/advisory/CVE-2020-0694\">CVE-2020-0694</a></li>\n",
       "<li><a href=\"https://portal.msrc.microsoft.com/en-US/security-guidance/advisory/CVE-2020-0695\">CVE-2020-0695</a></li>\n",
       "<li><a href=\"https://portal.msrc.microsoft.com/en-US/security-guidance/advisory/CVE-2020-0696\">CVE-2020-0696</a></li>\n",
       "<li><a href=\"https://portal.msrc.microsoft.com/en-US/security-guidance/advisory/CVE-2020-0697\">CVE-2020-0697</a></li>\n",
       "<li><a href=\"https://portal.msrc.microsoft.com/en-US/security-guidance/advisory/CVE-2020-0698\">CVE-2020-0698</a></li>\n",
       "<li><a href=\"https://portal.msrc.microsoft.com/en-US/security-guidance/advisory/CVE-2020-0705\">CVE-2020-0705</a></li>\n",
       "<li><a href=\"https://portal.msrc.microsoft.com/en-US/security-guidance/advisory/CVE-2020-0706\">CVE-2020-0706</a></li>\n",
       "<li><a href=\"https://portal.msrc.microsoft.com/en-US/security-guidance/advisory/CVE-2020-0714\">CVE-2020-0714</a></li>\n",
       "<li><a href=\"https://portal.msrc.microsoft.com/en-US/security-guidance/advisory/CVE-2020-0716\">CVE-2020-0716</a></li>\n",
       "<li><a href=\"https://portal.msrc.microsoft.com/en-US/security-guidance/advisory/CVE-2020-0717\">CVE-2020-0717</a></li>\n",
       "<li><a href=\"https://portal.msrc.microsoft.com/en-US/security-guidance/advisory/CVE-2020-0728\">CVE-2020-0728</a></li>\n",
       "<li><a href=\"https://portal.msrc.microsoft.com/en-US/security-guidance/advisory/CVE-2020-0736\">CVE-2020-0736</a></li>\n",
       "<li><a href=\"https://portal.msrc.microsoft.com/en-US/security-guidance/advisory/CVE-2020-0744\">CVE-2020-0744</a></li>\n",
       "<li><a href=\"https://portal.msrc.microsoft.com/en-US/security-guidance/advisory/CVE-2020-0746\">CVE-2020-0746</a></li>\n",
       "<li><a href=\"https://portal.msrc.microsoft.com/en-US/security-guidance/advisory/CVE-2020-0748\">CVE-2020-0748</a></li>\n",
       "<li><a href=\"https://portal.msrc.microsoft.com/en-US/security-guidance/advisory/CVE-2020-0755\">CVE-2020-0755</a></li>\n",
       "<li><a href=\"https://portal.msrc.microsoft.com/en-US/security-guidance/advisory/CVE-2020-0756\">CVE-2020-0756</a></li>\n",
       "<li><a href=\"https://portal.msrc.microsoft.com/en-US/security-guidance/advisory/CVE-2020-0759\">CVE-2020-0759</a></li>\n",
       "<li><a href=\"https://portal.msrc.microsoft.com/en-US/security-guidance/advisory/CVE-2020-0766\">CVE-2020-0766</a></li>\n",
       "</ul>\n",
       "<p><strong>Known Issues</strong></p>\n",
       "<table>\n",
       "<thead>\n",
       "<tr>\n",
       "<th>KB Article</th>\n",
       "<th>Applies To</th>\n",
       "</tr>\n",
       "</thead>\n",
       "<tbody>\n",
       "<tr>\n",
       "<td><a href=\"https://support.microsoft.com/help/4532691\">4532691</a></td>\n",
       "<td>Windows 10 Version 1809, Windows Server 2019</td>\n",
       "</tr>\n",
       "<tr>\n",
       "<td><a href=\"https://support.microsoft.com/help/4536987\">4536987</a></td>\n",
       "<td>Microsoft Exchange Server 2016 &amp; 2019</td>\n",
       "</tr>\n",
       "<tr>\n",
       "<td><a href=\"https://support.microsoft.com/help/4536988\">4536988</a></td>\n",
       "<td>Microsoft Exchange Server 2013</td>\n",
       "</tr>\n",
       "<tr>\n",
       "<td><a href=\"https://support.microsoft.com/help/4536989\">4536989</a></td>\n",
       "<td>Microsoft Exchange Server 2010</td>\n",
       "</tr>\n",
       "<tr>\n",
       "<td><a href=\"https://support.microsoft.com/help/4537762\">4537762</a></td>\n",
       "<td>Windows 10, version 1803, Windows Server version 1803</td>\n",
       "</tr>\n",
       "<tr>\n",
       "<td><a href=\"https://support.microsoft.com/help/4537764\">4537764</a></td>\n",
       "<td>Windows 10, version 1607, Windows Server 2016</td>\n",
       "</tr>\n",
       "<tr>\n",
       "<td><a href=\"https://support.microsoft.com/help/4537776\">4537776</a></td>\n",
       "<td>Windows 10</td>\n",
       "</tr>\n",
       "<tr>\n",
       "<td><a href=\"https://support.microsoft.com/help/4537789\">4537789</a></td>\n",
       "<td>Windows 10, version 1709</td>\n",
       "</tr>\n",
       "<tr>\n",
       "<td><a href=\"https://support.microsoft.com/help/4537794\">4537794</a></td>\n",
       "<td>Windows Server 2012 (Security-only update)</td>\n",
       "</tr>\n",
       "<tr>\n",
       "<td><a href=\"https://support.microsoft.com/help/4537803\">4537803</a></td>\n",
       "<td>Windows 8.1, Windows Server 2012 R2 (Security-only update)</td>\n",
       "</tr>\n",
       "<tr>\n",
       "<td><a href=\"https://support.microsoft.com/help/4537813\">4537813</a></td>\n",
       "<td>Windows 7, Windows Server 2008 R2 (Security-only update)</td>\n",
       "</tr>\n",
       "<tr>\n",
       "<td><a href=\"https://support.microsoft.com/help/4537814\">4537814</a></td>\n",
       "<td>Windows Server 2012 (Monthly Rollup)</td>\n",
       "</tr>\n",
       "<tr>\n",
       "<td><a href=\"https://support.microsoft.com/help/4537821\">4537821</a></td>\n",
       "<td>Windows 8.1, Windows Server 2012 R2 (Monthly Rollup)</td>\n",
       "</tr>\n",
       "</tbody>\n",
       "</table>\n"
      ],
      "text/plain": [
       "<IPython.core.display.HTML object>"
      ]
     },
     "metadata": {},
     "output_type": "display_data"
    }
   ],
   "source": [
    "from IPython.core.display import display, HTML\n",
    "import requests\n",
    "from datetime import date, timedelta\n",
    "\n",
    "api_key = 'c1fc8aedfdbd46e38bc1d74df765d251'\n",
    "date_t = date.today().strftime(\"%Y-%b\")\n",
    "date_minus = (date.today() - timedelta(days=30)).strftime(\"%Y-%b\")\n",
    "\n",
    "try:\n",
    "  data = requests.get(\n",
    "      \"https://api.msrc.microsoft.com/cvrf/{}?api-version=2016-08-01\".format(date_t),\n",
    "      headers={\n",
    "          'api-key': api_key,\n",
    "          'Accept': 'application/json'\n",
    "      }).json()\n",
    "except:\n",
    "  data = requests.get(\n",
    "      \"https://api.msrc.microsoft.com/cvrf/{}?api-version=2016-08-01\".format(date_minus),\n",
    "      headers={\n",
    "          'api-key': api_key,\n",
    "          'Accept': 'application/json'\n",
    "      }).json()\n",
    "display(HTML(\"<h1>\"+data[\"DocumentTitle\"][\"Value\"]+\"</h1>\"))\n",
    "display(HTML(data[\"DocumentNotes\"][0][\"Value\"]))\n"
   ]
  },
  {
   "cell_type": "code",
   "execution_count": 94,
   "metadata": {
    "hide_input": "True",
    "scrolled": false,
    "tags": [
     "hide_input"
    ]
   },
   "outputs": [
    {
     "data": {
      "text/html": [
       "<table width=\"100%\">\n",
       "    <thead><tr><th width=\"15%\">CVE</th><th width=\"5%\">Severity (CVSSv3)</th><th width=\"20%\">Title</th><th>Description</th><th>URL</th></tr></thead>\n",
       "    <tbody><tr><td width=\"15%\">ADV200003</td><td width=\"5%\" bgcolor=\"None\">0.0</td><td width=\"20%\">something went wrong!</td><td>[]</td><td><a href=\"https://nvd.nist.gov/vuln/detail/ADV200003\">https://nvd.nist.gov/vuln/detail/ADV200003</a><br><a href=\"https://portal.msrc.microsoft.com/en-US/security-guidance/advisory/ADV200003\">https://portal.msrc.microsoft.com/en-US/security-guidance/advisory/ADV200003</a></td></tr><tr><td width=\"15%\">CVE-2020-0618</td><td width=\"5%\" bgcolor=\"None\">0.0</td><td width=\"20%\">something went wrong!</td><td>[\"A remote code execution vulnerability exists in Microsoft SQL Server Reporting Services when it incorrectly handles page requests, aka 'Microsoft SQL Server Reporting Services Remote Code Execution Vulnerability'.\"]</td><td><a href=\"https://nvd.nist.gov/vuln/detail/CVE-2020-0618\">https://nvd.nist.gov/vuln/detail/CVE-2020-0618</a><br><a href=\"https://portal.msrc.microsoft.com/en-US/security-guidance/advisory/CVE-2020-0618\">https://portal.msrc.microsoft.com/en-US/security-guidance/advisory/CVE-2020-0618</a></td></tr><tr><td width=\"15%\">CVE-2020-0658</td><td width=\"5%\" bgcolor=\"None\">0.0</td><td width=\"20%\">something went wrong!</td><td>[\"An information disclosure vulnerability exists in the Windows Common Log File System (CLFS) driver when it fails to properly handle objects in memory, aka 'Windows Common Log File System Driver Information Disclosure Vulnerability'.\"]</td><td><a href=\"https://nvd.nist.gov/vuln/detail/CVE-2020-0658\">https://nvd.nist.gov/vuln/detail/CVE-2020-0658</a><br><a href=\"https://portal.msrc.microsoft.com/en-US/security-guidance/advisory/CVE-2020-0658\">https://portal.msrc.microsoft.com/en-US/security-guidance/advisory/CVE-2020-0658</a></td></tr><tr><td width=\"15%\">CVE-2020-0675</td><td width=\"5%\" bgcolor=\"None\">0.0</td><td width=\"20%\">something went wrong!</td><td>[\"An information disclosure vulnerability exists in the Cryptography Next Generation (CNG) service when it fails to properly handle objects in memory.To exploit this vulnerability, an attacker would have to log on to an affected system and run a specially crafted application.The security update addresses the vulnerability by correcting how the service handles objects in memory., aka 'Windows Key Isolation Service Information Disclosure Vulnerability'. This CVE ID is unique from CVE-2020-0676, CVE-2020-0677, CVE-2020-0748, CVE-2020-0755, CVE-2020-0756.\"]</td><td><a href=\"https://nvd.nist.gov/vuln/detail/CVE-2020-0675\">https://nvd.nist.gov/vuln/detail/CVE-2020-0675</a><br><a href=\"https://portal.msrc.microsoft.com/en-US/security-guidance/advisory/CVE-2020-0675\">https://portal.msrc.microsoft.com/en-US/security-guidance/advisory/CVE-2020-0675</a></td></tr><tr><td width=\"15%\">CVE-2020-0676</td><td width=\"5%\" bgcolor=\"None\">0.0</td><td width=\"20%\">something went wrong!</td><td>[\"An information disclosure vulnerability exists in the Cryptography Next Generation (CNG) service when it fails to properly handle objects in memory.To exploit this vulnerability, an attacker would have to log on to an affected system and run a specially crafted application.The security update addresses the vulnerability by correcting how the service handles objects in memory., aka 'Windows Key Isolation Service Information Disclosure Vulnerability'. This CVE ID is unique from CVE-2020-0675, CVE-2020-0677, CVE-2020-0748, CVE-2020-0755, CVE-2020-0756.\"]</td><td><a href=\"https://nvd.nist.gov/vuln/detail/CVE-2020-0676\">https://nvd.nist.gov/vuln/detail/CVE-2020-0676</a><br><a href=\"https://portal.msrc.microsoft.com/en-US/security-guidance/advisory/CVE-2020-0676\">https://portal.msrc.microsoft.com/en-US/security-guidance/advisory/CVE-2020-0676</a></td></tr><tr><td width=\"15%\">CVE-2020-0677</td><td width=\"5%\" bgcolor=\"None\">0.0</td><td width=\"20%\">something went wrong!</td><td>[\"An information disclosure vulnerability exists in the Cryptography Next Generation (CNG) service when it fails to properly handle objects in memory.To exploit this vulnerability, an attacker would have to log on to an affected system and run a specially crafted application.The security update addresses the vulnerability by correcting how the service handles objects in memory., aka 'Windows Key Isolation Service Information Disclosure Vulnerability'. This CVE ID is unique from CVE-2020-0675, CVE-2020-0676, CVE-2020-0748, CVE-2020-0755, CVE-2020-0756.\"]</td><td><a href=\"https://nvd.nist.gov/vuln/detail/CVE-2020-0677\">https://nvd.nist.gov/vuln/detail/CVE-2020-0677</a><br><a href=\"https://portal.msrc.microsoft.com/en-US/security-guidance/advisory/CVE-2020-0677\">https://portal.msrc.microsoft.com/en-US/security-guidance/advisory/CVE-2020-0677</a></td></tr><tr><td width=\"15%\">CVE-2020-0689</td><td width=\"5%\" bgcolor=\"None\">0.0</td><td width=\"20%\">something went wrong!</td><td>[\"A security feature bypass vulnerability exists in secure boot, aka 'Microsoft Secure Boot Security Feature Bypass Vulnerability'.\"]</td><td><a href=\"https://nvd.nist.gov/vuln/detail/CVE-2020-0689\">https://nvd.nist.gov/vuln/detail/CVE-2020-0689</a><br><a href=\"https://portal.msrc.microsoft.com/en-US/security-guidance/advisory/CVE-2020-0689\">https://portal.msrc.microsoft.com/en-US/security-guidance/advisory/CVE-2020-0689</a></td></tr><tr><td width=\"15%\">CVE-2020-0693</td><td width=\"5%\" bgcolor=\"None\">0.0</td><td width=\"20%\">something went wrong!</td><td>[\"A cross-site-scripting (XSS) vulnerability exists when Microsoft SharePoint Server does not properly sanitize a specially crafted web request to an affected SharePoint server, aka 'Microsoft Office SharePoint XSS Vulnerability'. This CVE ID is unique from CVE-2020-0694.\"]</td><td><a href=\"https://nvd.nist.gov/vuln/detail/CVE-2020-0693\">https://nvd.nist.gov/vuln/detail/CVE-2020-0693</a><br><a href=\"https://portal.msrc.microsoft.com/en-US/security-guidance/advisory/CVE-2020-0693\">https://portal.msrc.microsoft.com/en-US/security-guidance/advisory/CVE-2020-0693</a></td></tr><tr><td width=\"15%\">CVE-2020-0694</td><td width=\"5%\" bgcolor=\"None\">0.0</td><td width=\"20%\">something went wrong!</td><td>[\"A cross-site-scripting (XSS) vulnerability exists when Microsoft SharePoint Server does not properly sanitize a specially crafted web request to an affected SharePoint server, aka 'Microsoft Office SharePoint XSS Vulnerability'. This CVE ID is unique from CVE-2020-0693.\"]</td><td><a href=\"https://nvd.nist.gov/vuln/detail/CVE-2020-0694\">https://nvd.nist.gov/vuln/detail/CVE-2020-0694</a><br><a href=\"https://portal.msrc.microsoft.com/en-US/security-guidance/advisory/CVE-2020-0694\">https://portal.msrc.microsoft.com/en-US/security-guidance/advisory/CVE-2020-0694</a></td></tr><tr><td width=\"15%\">CVE-2020-0695</td><td width=\"5%\" bgcolor=\"None\">0.0</td><td width=\"20%\">something went wrong!</td><td>[\"A spoofing vulnerability exists when Office Online Server does not validate origin in cross-origin communications correctly, aka 'Microsoft Office Online Server Spoofing Vulnerability'.\"]</td><td><a href=\"https://nvd.nist.gov/vuln/detail/CVE-2020-0695\">https://nvd.nist.gov/vuln/detail/CVE-2020-0695</a><br><a href=\"https://portal.msrc.microsoft.com/en-US/security-guidance/advisory/CVE-2020-0695\">https://portal.msrc.microsoft.com/en-US/security-guidance/advisory/CVE-2020-0695</a></td></tr><tr><td width=\"15%\">CVE-2020-0696</td><td width=\"5%\" bgcolor=\"None\">0.0</td><td width=\"20%\">something went wrong!</td><td>[\"A security feature bypass vulnerability exists in Microsoft Outlook software when it improperly handles the parsing of URI formats, aka 'Microsoft Outlook Security Feature Bypass Vulnerability'.\"]</td><td><a href=\"https://nvd.nist.gov/vuln/detail/CVE-2020-0696\">https://nvd.nist.gov/vuln/detail/CVE-2020-0696</a><br><a href=\"https://portal.msrc.microsoft.com/en-US/security-guidance/advisory/CVE-2020-0696\">https://portal.msrc.microsoft.com/en-US/security-guidance/advisory/CVE-2020-0696</a></td></tr><tr><td width=\"15%\">CVE-2020-0697</td><td width=\"5%\" bgcolor=\"None\">0.0</td><td width=\"20%\">something went wrong!</td><td>[\"An elevation of privilege vulnerability exists in Microsoft Office OLicenseHeartbeat task, where an attacker who successfully exploited this vulnerability could run this task as SYSTEM.To exploit the vulnerability, an authenticated attacker would need to place a specially crafted file in a specific location, thereby allowing arbitrary file corruption.The security update addresses the vulnerability by correcting how the process validates the log file., aka 'Microsoft Office Tampering Vulnerability'.\"]</td><td><a href=\"https://nvd.nist.gov/vuln/detail/CVE-2020-0697\">https://nvd.nist.gov/vuln/detail/CVE-2020-0697</a><br><a href=\"https://portal.msrc.microsoft.com/en-US/security-guidance/advisory/CVE-2020-0697\">https://portal.msrc.microsoft.com/en-US/security-guidance/advisory/CVE-2020-0697</a></td></tr><tr><td width=\"15%\">CVE-2020-0698</td><td width=\"5%\" bgcolor=\"None\">0.0</td><td width=\"20%\">something went wrong!</td><td>[\"An information disclosure vulnerability exists when the Telephony Service improperly discloses the contents of its memory, aka 'Windows Information Disclosure Vulnerability'.\"]</td><td><a href=\"https://nvd.nist.gov/vuln/detail/CVE-2020-0698\">https://nvd.nist.gov/vuln/detail/CVE-2020-0698</a><br><a href=\"https://portal.msrc.microsoft.com/en-US/security-guidance/advisory/CVE-2020-0698\">https://portal.msrc.microsoft.com/en-US/security-guidance/advisory/CVE-2020-0698</a></td></tr><tr><td width=\"15%\">CVE-2020-0705</td><td width=\"5%\" bgcolor=\"None\">0.0</td><td width=\"20%\">something went wrong!</td><td>[\"An information disclosure vulnerability exists when the Windows Network Driver Interface Specification (NDIS) improperly handles memory.To exploit this vulnerability, an attacker would first have to gain execution on the victim system, aka 'Windows Network Driver Interface Specification (NDIS) Information Disclosure Vulnerability'.\"]</td><td><a href=\"https://nvd.nist.gov/vuln/detail/CVE-2020-0705\">https://nvd.nist.gov/vuln/detail/CVE-2020-0705</a><br><a href=\"https://portal.msrc.microsoft.com/en-US/security-guidance/advisory/CVE-2020-0705\">https://portal.msrc.microsoft.com/en-US/security-guidance/advisory/CVE-2020-0705</a></td></tr><tr><td width=\"15%\">CVE-2020-0706</td><td width=\"5%\" bgcolor=\"None\">0.0</td><td width=\"20%\">something went wrong!</td><td>[\"An information disclosure vulnerability exists in the way that affected Microsoft browsers handle cross-origin requests, aka 'Microsoft Browser Information Disclosure Vulnerability'.\"]</td><td><a href=\"https://nvd.nist.gov/vuln/detail/CVE-2020-0706\">https://nvd.nist.gov/vuln/detail/CVE-2020-0706</a><br><a href=\"https://portal.msrc.microsoft.com/en-US/security-guidance/advisory/CVE-2020-0706\">https://portal.msrc.microsoft.com/en-US/security-guidance/advisory/CVE-2020-0706</a></td></tr><tr><td width=\"15%\">CVE-2020-0714</td><td width=\"5%\" bgcolor=\"None\">0.0</td><td width=\"20%\">something went wrong!</td><td>[\"An information disclosure vulnerability exists when DirectX improperly handles objects in memory, aka 'DirectX Information Disclosure Vulnerability'.\"]</td><td><a href=\"https://nvd.nist.gov/vuln/detail/CVE-2020-0714\">https://nvd.nist.gov/vuln/detail/CVE-2020-0714</a><br><a href=\"https://portal.msrc.microsoft.com/en-US/security-guidance/advisory/CVE-2020-0714\">https://portal.msrc.microsoft.com/en-US/security-guidance/advisory/CVE-2020-0714</a></td></tr><tr><td width=\"15%\">CVE-2020-0716</td><td width=\"5%\" bgcolor=\"None\">0.0</td><td width=\"20%\">something went wrong!</td><td>[\"An information disclosure vulnerability exists when the win32k component improperly provides kernel information, aka 'Win32k Information Disclosure Vulnerability'. This CVE ID is unique from CVE-2020-0717.\"]</td><td><a href=\"https://nvd.nist.gov/vuln/detail/CVE-2020-0716\">https://nvd.nist.gov/vuln/detail/CVE-2020-0716</a><br><a href=\"https://portal.msrc.microsoft.com/en-US/security-guidance/advisory/CVE-2020-0716\">https://portal.msrc.microsoft.com/en-US/security-guidance/advisory/CVE-2020-0716</a></td></tr><tr><td width=\"15%\">CVE-2020-0717</td><td width=\"5%\" bgcolor=\"None\">0.0</td><td width=\"20%\">something went wrong!</td><td>[\"An information disclosure vulnerability exists when the win32k component improperly provides kernel information, aka 'Win32k Information Disclosure Vulnerability'. This CVE ID is unique from CVE-2020-0716.\"]</td><td><a href=\"https://nvd.nist.gov/vuln/detail/CVE-2020-0717\">https://nvd.nist.gov/vuln/detail/CVE-2020-0717</a><br><a href=\"https://portal.msrc.microsoft.com/en-US/security-guidance/advisory/CVE-2020-0717\">https://portal.msrc.microsoft.com/en-US/security-guidance/advisory/CVE-2020-0717</a></td></tr><tr><td width=\"15%\">CVE-2020-0728</td><td width=\"5%\" bgcolor=\"None\">0.0</td><td width=\"20%\">something went wrong!</td><td>[\"An information vulnerability exists when Windows Modules Installer Service improperly discloses file information, aka 'Windows Modules Installer Service Information Disclosure Vulnerability'.\"]</td><td><a href=\"https://nvd.nist.gov/vuln/detail/CVE-2020-0728\">https://nvd.nist.gov/vuln/detail/CVE-2020-0728</a><br><a href=\"https://portal.msrc.microsoft.com/en-US/security-guidance/advisory/CVE-2020-0728\">https://portal.msrc.microsoft.com/en-US/security-guidance/advisory/CVE-2020-0728</a></td></tr><tr><td width=\"15%\">CVE-2020-0736</td><td width=\"5%\" bgcolor=\"None\">0.0</td><td width=\"20%\">something went wrong!</td><td>[\"An information disclosure vulnerability exists when the Windows kernel improperly handles objects in memory, aka 'Windows Kernel Information Disclosure Vulnerability'.\"]</td><td><a href=\"https://nvd.nist.gov/vuln/detail/CVE-2020-0736\">https://nvd.nist.gov/vuln/detail/CVE-2020-0736</a><br><a href=\"https://portal.msrc.microsoft.com/en-US/security-guidance/advisory/CVE-2020-0736\">https://portal.msrc.microsoft.com/en-US/security-guidance/advisory/CVE-2020-0736</a></td></tr><tr><td width=\"15%\">CVE-2020-0744</td><td width=\"5%\" bgcolor=\"None\">0.0</td><td width=\"20%\">something went wrong!</td><td>[\"An information disclosure vulnerability exists in the way that the Windows Graphics Device Interface (GDI) handles objects in memory, allowing an attacker to retrieve information from a targeted system, aka 'Windows GDI Information Disclosure Vulnerability'.\"]</td><td><a href=\"https://nvd.nist.gov/vuln/detail/CVE-2020-0744\">https://nvd.nist.gov/vuln/detail/CVE-2020-0744</a><br><a href=\"https://portal.msrc.microsoft.com/en-US/security-guidance/advisory/CVE-2020-0744\">https://portal.msrc.microsoft.com/en-US/security-guidance/advisory/CVE-2020-0744</a></td></tr><tr><td width=\"15%\">CVE-2020-0746</td><td width=\"5%\" bgcolor=\"None\">0.0</td><td width=\"20%\">something went wrong!</td><td>[\"An information disclosure vulnerability exists in the way that Microsoft Graphics Components handle objects in memory, aka 'Microsoft Graphics Components Information Disclosure Vulnerability'.\"]</td><td><a href=\"https://nvd.nist.gov/vuln/detail/CVE-2020-0746\">https://nvd.nist.gov/vuln/detail/CVE-2020-0746</a><br><a href=\"https://portal.msrc.microsoft.com/en-US/security-guidance/advisory/CVE-2020-0746\">https://portal.msrc.microsoft.com/en-US/security-guidance/advisory/CVE-2020-0746</a></td></tr><tr><td width=\"15%\">CVE-2020-0748</td><td width=\"5%\" bgcolor=\"None\">0.0</td><td width=\"20%\">something went wrong!</td><td>[\"An information disclosure vulnerability exists in the Cryptography Next Generation (CNG) service when it fails to properly handle objects in memory.To exploit this vulnerability, an attacker would have to log on to an affected system and run a specially crafted application.The security update addresses the vulnerability by correcting how the service handles objects in memory., aka 'Windows Key Isolation Service Information Disclosure Vulnerability'. This CVE ID is unique from CVE-2020-0675, CVE-2020-0676, CVE-2020-0677, CVE-2020-0755, CVE-2020-0756.\"]</td><td><a href=\"https://nvd.nist.gov/vuln/detail/CVE-2020-0748\">https://nvd.nist.gov/vuln/detail/CVE-2020-0748</a><br><a href=\"https://portal.msrc.microsoft.com/en-US/security-guidance/advisory/CVE-2020-0748\">https://portal.msrc.microsoft.com/en-US/security-guidance/advisory/CVE-2020-0748</a></td></tr><tr><td width=\"15%\">CVE-2020-0755</td><td width=\"5%\" bgcolor=\"None\">0.0</td><td width=\"20%\">something went wrong!</td><td>[\"An information disclosure vulnerability exists in the Cryptography Next Generation (CNG) service when it fails to properly handle objects in memory.To exploit this vulnerability, an attacker would have to log on to an affected system and run a specially crafted application.The security update addresses the vulnerability by correcting how the service handles objects in memory., aka 'Windows Key Isolation Service Information Disclosure Vulnerability'. This CVE ID is unique from CVE-2020-0675, CVE-2020-0676, CVE-2020-0677, CVE-2020-0748, CVE-2020-0756.\"]</td><td><a href=\"https://nvd.nist.gov/vuln/detail/CVE-2020-0755\">https://nvd.nist.gov/vuln/detail/CVE-2020-0755</a><br><a href=\"https://portal.msrc.microsoft.com/en-US/security-guidance/advisory/CVE-2020-0755\">https://portal.msrc.microsoft.com/en-US/security-guidance/advisory/CVE-2020-0755</a></td></tr><tr><td width=\"15%\">CVE-2020-0756</td><td width=\"5%\" bgcolor=\"None\">0.0</td><td width=\"20%\">something went wrong!</td><td>[\"An information disclosure vulnerability exists in the Cryptography Next Generation (CNG) service when it fails to properly handle objects in memory.To exploit this vulnerability, an attacker would have to log on to an affected system and run a specially crafted application.The security update addresses the vulnerability by correcting how the service handles objects in memory., aka 'Windows Key Isolation Service Information Disclosure Vulnerability'. This CVE ID is unique from CVE-2020-0675, CVE-2020-0676, CVE-2020-0677, CVE-2020-0748, CVE-2020-0755.\"]</td><td><a href=\"https://nvd.nist.gov/vuln/detail/CVE-2020-0756\">https://nvd.nist.gov/vuln/detail/CVE-2020-0756</a><br><a href=\"https://portal.msrc.microsoft.com/en-US/security-guidance/advisory/CVE-2020-0756\">https://portal.msrc.microsoft.com/en-US/security-guidance/advisory/CVE-2020-0756</a></td></tr><tr><td width=\"15%\">CVE-2020-0759</td><td width=\"5%\" bgcolor=\"None\">0.0</td><td width=\"20%\">something went wrong!</td><td>[\"A remote code execution vulnerability exists in Microsoft Excel software when the software fails to properly handle objects in memory, aka 'Microsoft Excel Remote Code Execution Vulnerability'.\"]</td><td><a href=\"https://nvd.nist.gov/vuln/detail/CVE-2020-0759\">https://nvd.nist.gov/vuln/detail/CVE-2020-0759</a><br><a href=\"https://portal.msrc.microsoft.com/en-US/security-guidance/advisory/CVE-2020-0759\">https://portal.msrc.microsoft.com/en-US/security-guidance/advisory/CVE-2020-0759</a></td></tr><tr><td width=\"15%\">CVE-2020-0766</td><td width=\"5%\" bgcolor=\"None\">0.0</td><td width=\"20%\">something went wrong!</td><td>[]</td><td><a href=\"https://nvd.nist.gov/vuln/detail/CVE-2020-0766\">https://nvd.nist.gov/vuln/detail/CVE-2020-0766</a><br><a href=\"https://portal.msrc.microsoft.com/en-US/security-guidance/advisory/CVE-2020-0766\">https://portal.msrc.microsoft.com/en-US/security-guidance/advisory/CVE-2020-0766</a></td></tr></tbody>\n",
       "</table>"
      ],
      "text/plain": [
       "<IPython.core.display.HTML object>"
      ]
     },
     "execution_count": 94,
     "metadata": {},
     "output_type": "execute_result"
    }
   ],
   "source": [
    "#<a href=\"(https://portal.msrc.microsoft.com/en-US/security-guidance/advisory/.*\">.+)</a>\n",
    "#data[\"DocumentNotes\"][0][\"Value\"]\n",
    "import lxml.html\n",
    "import re\n",
    "from IPython.display import display, display_html\n",
    "from concurrent.futures import ThreadPoolExecutor\n",
    "\n",
    "microsoft_cve_url_prefix = \"https://portal.msrc.microsoft.com/en-US/security-guidance/advisory/\"\n",
    "doc = lxml.html.fromstring(data[\"DocumentNotes\"][0][\"Value\"])\n",
    "cve_ids = [\n",
    "    i.split(\"/\")[-1] \n",
    "    for i in \n",
    "    doc.xpath(f\"//a[starts-with(@href, '{microsoft_cve_url_prefix}')]/@href\")\n",
    "]\n",
    "#print(cve_ids)\n",
    "with ThreadPoolExecutor(max_workers=5) as executor:\n",
    "    cves = sorted(executor.map(scrape_cve, cve_ids), key=lambda x: x[\"cvss_score\"], reverse=True)\n",
    "\n",
    "HTML(table(\n",
    "    [\n",
    "        {\n",
    "            \"key\": \"id\", \n",
    "            \"title\": \"CVE\", \n",
    "            \"attrs\": {\"width\": \"15%\"}\n",
    "        },\n",
    "        {\n",
    "            \"key\": \"cvss_score\", \n",
    "            \"title\": \"Severity (CVSSv3)\", \n",
    "            \"attrs\": {\"width\": \"5%\", \"bgcolor\": lambda r: cvss_severity_colors[cvss_severity(r[\"cvss_score\"])]}\n",
    "        },\n",
    "        {\n",
    "            \"key\": \"aka\", \n",
    "            \"title\": \"Title\", \n",
    "            \"attrs\": {\"width\": \"20%\"}\n",
    "        },\n",
    "        {\n",
    "            \"key\": \"description\", \n",
    "            \"title\": \"Description\"\n",
    "        },\n",
    "        {\n",
    "            \"key\": \"urls\", \n",
    "            \"title\": \"URL\", \n",
    "            \"processor\": lambda urls: \"<br>\".join(f'<a href=\"{url}\">{url}</a>' for url in urls)\n",
    "        }\n",
    "    ], \n",
    "    cves\n",
    "))"
   ]
  },
  {
   "cell_type": "code",
   "execution_count": 95,
   "metadata": {
    "code_folding": [
     36
    ],
    "hide_input": "True",
    "slideshow": {
     "slide_type": "slide"
    },
    "tags": [
     "hide_input"
    ]
   },
   "outputs": [
    {
     "data": {
      "image/png": "[encoded data removed]",
      "text/plain": [
       "<Figure size 432x288 with 1 Axes>"
      ]
     },
     "metadata": {},
     "output_type": "display_data"
    },
    {
     "data": {
      "image/png": "[encoded data removed]",
      "text/plain": [
       "<Figure size 432x288 with 1 Axes>"
      ]
     },
     "metadata": {
      "needs_background": "light"
     },
     "output_type": "display_data"
    }
   ],
   "source": [
    "import matplotlib.pyplot as plotter\n",
    "from collections import defaultdict\n",
    "\n",
    "grouped_cves = group(cves, lambda x: cvss_severity(x[\"cvss_score\"]))\n",
    "\n",
    "severities = list([i[0] for i in cvss_severity_matrix if i[0] in grouped_cves])\n",
    "severity_counts = [len(grouped_cves.get(k,[])) for k in severities]\n",
    "\n",
    "explode_severities = {\n",
    "    \"None\": 0.1,\n",
    "    \"Low\": 0.1,\n",
    "    \"Medium\": 0.1,\n",
    "    \"High\": 0.1,\n",
    "    \"Critical\": 0.2\n",
    "}\n",
    "\n",
    "figureObject, axesObject = plotter.subplots()\n",
    "pie=axesObject.pie(severity_counts, \n",
    "        explode=[explode_severities[k] for k in severities],\n",
    "        labels=severities,\n",
    "        autopct='%1.2f',\n",
    "        colors=[cvss_severity_colors[k] for k in severities],\n",
    "        startangle=90)\n",
    "axesObject.axis('equal')\n",
    "plotter.title('Vulnerability Severity Distribution%')\n",
    "plotter.show()\n",
    "\n",
    "figureObject, axesObject = plotter.subplots()\n",
    "barlist = axesObject.barh(severities,\n",
    "        severity_counts,\n",
    "        0.8,\n",
    "        alpha = 0.7,\n",
    "        color = 'blue',\n",
    "        label = 'Vulns')\n",
    "for i, s in enumerate(severities):\n",
    "    barlist[i].set_color(cvss_severity_colors[s])\n",
    "axesObject.set_xlabel('Vuln Count')\n",
    "plotter.title('No. Vulnerabilities By Severity')\n",
    "plotter.show()"
   ]
  }
 ],
 "metadata": {
  "celltoolbar": "Tags",
  "kernelspec": {
   "display_name": "Python 3",
   "language": "python",
   "name": "python3"
  },
  "language_info": {
   "codemirror_mode": {
    "name": "ipython",
    "version": 3
   },
   "file_extension": ".py",
   "mimetype": "text/x-python",
   "name": "python",
   "nbconvert_exporter": "python",
   "pygments_lexer": "ipython3",
   "version": "3.8.1"
  }
 },
 "nbformat": 4,
 "nbformat_minor": 4
}
