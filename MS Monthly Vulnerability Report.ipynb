{
 "cells": [
  {
   "cell_type": "code",
   "execution_count": 1,
   "metadata": {
    "scrolled": false
   },
   "outputs": [
    {
     "data": {
      "text/html": [
       "<script>jQuery(function() {if (jQuery(\"body.notebook_app\").length == 0) { jQuery(\".input_area\").toggle(); jQuery(\".prompt\").toggle();}});</script>"
      ]
     },
     "metadata": {},
     "output_type": "display_data"
    },
    {
     "data": {
      "text/html": [
       "<button onclick=\"jQuery('.input_area').toggle(); jQuery('.prompt').toggle();\">Toggle code</button>"
      ]
     },
     "metadata": {},
     "output_type": "display_data"
    }
   ],
   "source": [
    "from IPython.display import display\n",
    "from IPython.display import HTML\n",
    "import IPython.core.display as di\n",
    "\n",
    "# This line will hide code by default when the notebook is exported as HTML\n",
    "di.display_html('<script>jQuery(function() {if (jQuery(\"body.notebook_app\").length == 0) { jQuery(\".input_area\").toggle(); jQuery(\".prompt\").toggle();}});</script>', raw=True)\n",
    "\n",
    "# This line will add a button to toggle visibility of code blocks, for use with the HTML export version\n",
    "di.display_html('''<button onclick=\"jQuery('.input_area').toggle(); jQuery('.prompt').toggle();\">Toggle code</button>''', raw=True)"
   ]
  },
  {
   "cell_type": "code",
   "execution_count": 2,
   "metadata": {
    "tags": [
     "hide_input"
    ]
   },
   "outputs": [
    {
     "data": {
      "text/html": [
       "<h1>January 2020 Security Updates</h1>"
      ],
      "text/plain": [
       "<IPython.core.display.HTML object>"
      ]
     },
     "metadata": {},
     "output_type": "display_data"
    },
    {
     "data": {
      "text/html": [
       "<p>The January security release consists of security updates for the following software:</p>\n",
       "<ul>\n",
       "<li>Microsoft Windows</li>\n",
       "<li>Internet Explorer</li>\n",
       "<li>Microsoft Office and Microsoft Office Services and Web Apps</li>\n",
       "<li>ASP.NET Core</li>\n",
       "<li>.NET Core</li>\n",
       "<li>.NET Framework</li>\n",
       "<li>OneDrive for Android</li>\n",
       "<li>Microsoft Dynamics</li>\n",
       "</ul>\n",
       "<p>Please note the following information regarding the security updates:</p>\n",
       "<ul>\n",
       "<li>For information regarding enabling Windows 10, version 1909 features, please see <a href=\"https://techcommunity.microsoft.com/t5/Windows-IT-Pro-Blog/Windows-10-version-1909-delivery-options/ba-p/1002660\">Windows 10, version 1909 delivery options</a>. Note that Windows 10, versions 1903 and 1909 share a common core operating system with an identical set of system files. They will also share the same security update KBs.</li>\n",
       "<li>Windows 10 updates are cumulative. The monthly security release includes all security fixes for vulnerabilities that affect Windows 10, in addition to non-security updates. The updates are available via the <a href=\"http://catalog.update.microsoft.com/v7/site/Home.aspx\">Microsoft Update Catalog</a>.</li>\n",
       "<li>For information on lifecycle and support dates for Windows 10 operating systems, please see <a href=\"https://support.microsoft.com/en-us/help/13853/windows-lifecycle-fact-sheet\">Windows Lifecycle Facts Sheet</a>.</li>\n",
       "<li>A list of the latest servicing stack updates for each operating system can be found in <a href=\"https://portal.msrc.microsoft.com/en-us/security-guidance/advisory/ADV990001\">ADV990001</a>. This list will be updated whenever a new servicing stack update is released. It is important to install the latest servicing stack update.</li>\n",
       "<li>Starting in May 2019, Internet Explorer 11 is available on Windows Server 2012. This configuration is present only in the IE Cumulative package.</li>\n",
       "<li>Updates for Windows RT 8.1 and Microsoft Office RT software are only available via <a href=\"http://go.microsoft.com/fwlink/?LinkId=21130\">Windows Update</a>.</li>\n",
       "<li>In addition to security changes for the vulnerabilities, updates include defense-in-depth updates to help improve security-related features.</li>\n",
       "<li><strong>Note</strong>: Support for Windows 7, Windows Server 2008 R2, and Windows Server 2008 ends January 14, 2020.  For more information please see <a href=\"https://support.microsoft.com/en-us/help/4497181/lifecycle-faq-extended-security-updates\">Lifecycle FAQ-Extended Security Updates</a>.</li>\n",
       "</ul>\n",
       "<p><strong>The following CVEs have FAQs with additional information and may include * further steps to take after installing the updates. Please note that this is not a complete list of CVEs for this release.</strong></p>\n",
       "<ul>\n",
       "<li><a href=\"https://portal.msrc.microsoft.com/en-US/security-guidance/advisory/CVE-2020-0601\">CVE-2020-0601</a> *</li>\n",
       "<li><a href=\"https://portal.msrc.microsoft.com/en-US/security-guidance/advisory/CVE-2020-0607\">CVE-2020-0607</a></li>\n",
       "<li><a href=\"https://portal.msrc.microsoft.com/en-US/security-guidance/advisory/CVE-2020-0608\">CVE-2020-0608</a></li>\n",
       "<li><a href=\"https://portal.msrc.microsoft.com/en-US/security-guidance/advisory/CVE-2020-0609\">CVE-2020-0609</a> *</li>\n",
       "<li><a href=\"https://portal.msrc.microsoft.com/en-US/security-guidance/advisory/CVE-2020-0610\">CVE-2020-0610</a> *</li>\n",
       "<li><a href=\"https://portal.msrc.microsoft.com/en-US/security-guidance/advisory/CVE-2020-0612\">CVE-2020-0612</a> *</li>\n",
       "<li><a href=\"https://portal.msrc.microsoft.com/en-US/security-guidance/advisory/CVE-2020-0615\">CVE-2020-0615</a></li>\n",
       "<li><a href=\"https://portal.msrc.microsoft.com/en-US/security-guidance/advisory/CVE-2020-0622\">CVE-2020-0622</a></li>\n",
       "<li><a href=\"https://portal.msrc.microsoft.com/en-US/security-guidance/advisory/CVE-2020-0637\">CVE-2020-0637</a></li>\n",
       "<li><a href=\"https://portal.msrc.microsoft.com/en-US/security-guidance/advisory/CVE-2020-0639\">CVE-2020-0639</a></li>\n",
       "<li><a href=\"https://portal.msrc.microsoft.com/en-US/security-guidance/advisory/CVE-2020-0643\">CVE-2020-0643</a></li>\n",
       "<li><a href=\"https://portal.msrc.microsoft.com/en-US/security-guidance/advisory/CVE-2020-0647\">CVE-2020-0647</a></li>\n",
       "<li><a href=\"https://portal.msrc.microsoft.com/en-US/security-guidance/advisory/CVE-2020-0650\">CVE-2020-0650</a></li>\n",
       "<li><a href=\"https://portal.msrc.microsoft.com/en-US/security-guidance/advisory/CVE-2020-0651\">CVE-2020-0651</a></li>\n",
       "<li><a href=\"https://portal.msrc.microsoft.com/en-US/security-guidance/advisory/CVE-2020-0652\">CVE-2020-0652</a></li>\n",
       "<li><a href=\"https://portal.msrc.microsoft.com/en-US/security-guidance/advisory/CVE-2020-0653\">CVE-2020-0653</a></li>\n",
       "<li><a href=\"https://portal.msrc.microsoft.com/en-US/security-guidance/advisory/CVE-2020-0654\">CVE-2020-0654</a> *</li>\n",
       "</ul>\n",
       "<p><strong>Known Issues</strong></p>\n",
       "<p>The following KBs contain information about known issues with the security updates. For a complete list of security update KBs, please see <a href=\"https://support.microsoft.com/help/20200114\">20200114</a>. For more information about Windows Known Issues, please see <a href=\"https://docs.microsoft.com/en-us/windows/release-information/windows-message-center\">Windows message center</a> (links to currently-supported versions of Windows are in the left pane).</p>\n",
       "<table>\n",
       "<thead>\n",
       "<tr>\n",
       "<th>KB Article</th>\n",
       "<th>Applies To</th>\n",
       "</tr>\n",
       "</thead>\n",
       "<tbody>\n",
       "<tr>\n",
       "<td><a href=\"https://support.microsoft.com/help/4534271\">4534271</a></td>\n",
       "<td>Windows 10, version 1607, Windows Server 2016</td>\n",
       "</tr>\n",
       "<tr>\n",
       "<td><a href=\"https://support.microsoft.com/help/4534273\">4534273</a></td>\n",
       "<td>Windows 10, version 1809, Windows Server version 1809, Windows 10, version 1809, Windows Server version 1809</td>\n",
       "</tr>\n",
       "<tr>\n",
       "<td><a href=\"https://support.microsoft.com/help/4534276\">4534276</a></td>\n",
       "<td>Windows 10, version 1709</td>\n",
       "</tr>\n",
       "<tr>\n",
       "<td><a href=\"https://support.microsoft.com/help/4534283\">4534283</a></td>\n",
       "<td>Windows Server 2012 (Monthly Rollup)</td>\n",
       "</tr>\n",
       "<tr>\n",
       "<td><a href=\"https://support.microsoft.com/help/4534288\">4534288</a></td>\n",
       "<td>Windows Server 2012 (Security-only update)</td>\n",
       "</tr>\n",
       "<tr>\n",
       "<td><a href=\"https://support.microsoft.com/help/4534293\">4534293</a></td>\n",
       "<td>Windows 10, version 1803, Windows Server version 1803</td>\n",
       "</tr>\n",
       "<tr>\n",
       "<td><a href=\"https://support.microsoft.com/help/4534297\">4534297</a></td>\n",
       "<td>Windows 8.1, Windows Server 2012 R2 (Monthly Rollup)</td>\n",
       "</tr>\n",
       "<tr>\n",
       "<td><a href=\"https://support.microsoft.com/help/4534306\">4534306</a></td>\n",
       "<td>Windows 10</td>\n",
       "</tr>\n",
       "<tr>\n",
       "<td><a href=\"https://support.microsoft.com/help/4534309\">4534309</a></td>\n",
       "<td>Windows 8.1, Windows Server 2012 R2 (Security-only update)</td>\n",
       "</tr>\n",
       "</tbody>\n",
       "</table>\n"
      ],
      "text/plain": [
       "<IPython.core.display.HTML object>"
      ]
     },
     "metadata": {},
     "output_type": "display_data"
    }
   ],
   "source": [
    "from urllib.request import urlopen\n",
    "from urllib.request import Request\n",
    "import urllib3\n",
    "import json\n",
    "from IPython.core.display import display, HTML\n",
    "from datetime import date\n",
    "\n",
    "today = date.today()\n",
    "date_today = today.strftime(\"%Y-%b\")\n",
    "\n",
    "http = urllib3.PoolManager()\n",
    "\n",
    "url=\"https://api.msrc.microsoft.com/cvrf/\"+date_today+\"?api-version=2016-08-01\"\n",
    "\n",
    "r = http.request(\n",
    "      'GET',\n",
    "      url,\n",
    "      headers={\n",
    "          'api-key': 'c1fc8aedfdbd46e38bc1d74df765d251',\n",
    "          'Accept': 'application/json'\n",
    "      })\n",
    "data=json.loads(r.data.decode('utf-8'))\n",
    "display(HTML(\"<h1>\"+data[\"DocumentTitle\"][\"Value\"]+\"</h1>\"))\n",
    "display(HTML(data[\"DocumentNotes\"][0][\"Value\"]))\n"
   ]
  },
  {
   "cell_type": "code",
   "execution_count": 11,
   "metadata": {
    "hide_input": "True",
    "scrolled": false,
    "tags": [
     "hide_input"
    ]
   },
   "outputs": [
    {
     "data": {
      "text/html": [
       "<table width=\"100%\"><thead><tr><th width=\"15%\">CVE</th><th width=\"5%\">Severity<br>(CVSSv3)</th><th width=\"20%\">Title</th><th>Description</th><th>URL</th><tr></thead><tbody>"
      ],
      "text/plain": [
       "<IPython.core.display.HTML object>"
      ]
     },
     "metadata": {},
     "output_type": "display_data"
    },
    {
     "data": {
      "text/html": [
       "<tbody><tr><td width=\"15%\">CVE-2020-0609</td><td width=\"5%\" bgcolor=\"mediumorchid\">9.8</td><td width=\"20%\">Windows Remote Desktop Gateway (RD Gateway) Remote Code Execution Vulnerability</td><td>A remote code execution vulnerability exists in Windows Remote Desktop Gateway (RD Gateway) when an unauthenticated attacker connects to the target system using RDP and sends specially crafted requests, aka 'Windows Remote Desktop Gateway (RD Gateway) Remote Code Execution Vulnerability</td><td><a href=\"https://portal.msrc.microsoft.com/en-US/security-guidance/advisory/CVE-2020-0609\">https://portal.msrc.microsoft.com/en-US/security-guidance/advisory/CVE-2020-0609</a><br><a href=\"https://nvd.nist.gov/vuln/detail/CVE-2020-0609\">https://nvd.nist.gov/vuln/detail/CVE-2020-0609</a></tr>"
      ],
      "text/plain": [
       "<IPython.core.display.HTML object>"
      ]
     },
     "metadata": {},
     "output_type": "display_data"
    },
    {
     "data": {
      "text/html": [
       "<tbody><tr><td width=\"15%\">CVE-2020-0610</td><td width=\"5%\" bgcolor=\"mediumorchid\">9.8</td><td width=\"20%\">Windows Remote Desktop Gateway (RD Gateway) Remote Code Execution Vulnerability</td><td>A remote code execution vulnerability exists in Windows Remote Desktop Gateway (RD Gateway) when an unauthenticated attacker connects to the target system using RDP and sends specially crafted requests, aka 'Windows Remote Desktop Gateway (RD Gateway) Remote Code Execution Vulnerability</td><td><a href=\"https://portal.msrc.microsoft.com/en-US/security-guidance/advisory/CVE-2020-0610\">https://portal.msrc.microsoft.com/en-US/security-guidance/advisory/CVE-2020-0610</a><br><a href=\"https://nvd.nist.gov/vuln/detail/CVE-2020-0610\">https://nvd.nist.gov/vuln/detail/CVE-2020-0610</a></tr>"
      ],
      "text/plain": [
       "<IPython.core.display.HTML object>"
      ]
     },
     "metadata": {},
     "output_type": "display_data"
    },
    {
     "data": {
      "text/html": [
       "<tbody><tr><td width=\"15%\">CVE-2020-0654</td><td width=\"5%\" bgcolor=\"mediumorchid\">9.1</td><td width=\"20%\">Microsoft OneDrive for Android Security Feature Bypass Vulnerability</td><td>A security feature bypass vulnerability exists in Microsoft OneDrive App for Android.This could allow an attacker to bypass the passcode or fingerprint requirements of the App.The security update addresses the vulnerability by correcting the way Microsoft OneDrive App for Android handles sharing links., aka 'Microsoft OneDrive for Android Security Feature Bypass Vulnerability</td><td><a href=\"https://portal.msrc.microsoft.com/en-US/security-guidance/advisory/CVE-2020-0654\">https://portal.msrc.microsoft.com/en-US/security-guidance/advisory/CVE-2020-0654</a><br><a href=\"https://nvd.nist.gov/vuln/detail/CVE-2020-0654\">https://nvd.nist.gov/vuln/detail/CVE-2020-0654</a></tr>"
      ],
      "text/plain": [
       "<IPython.core.display.HTML object>"
      ]
     },
     "metadata": {},
     "output_type": "display_data"
    },
    {
     "data": {
      "text/html": [
       "<tbody><tr><td width=\"15%\">CVE-2020-0601</td><td width=\"5%\" bgcolor=\"#FF4F4F\">8.1</td><td width=\"20%\">Windows CryptoAPI Spoofing Vulnerability</td><td>A spoofing vulnerability exists in the way Windows CryptoAPI (Crypt32.dll) validates Elliptic Curve Cryptography (ECC) certificates.An attacker could exploit the vulnerability by using a spoofed code-signing certificate to sign a malicious executable, making it appear the file was from a trusted, legitimate source, aka 'Windows CryptoAPI Spoofing Vulnerability</td><td><a href=\"https://portal.msrc.microsoft.com/en-US/security-guidance/advisory/CVE-2020-0601\">https://portal.msrc.microsoft.com/en-US/security-guidance/advisory/CVE-2020-0601</a><br><a href=\"https://nvd.nist.gov/vuln/detail/CVE-2020-0601\">https://nvd.nist.gov/vuln/detail/CVE-2020-0601</a></tr>"
      ],
      "text/plain": [
       "<IPython.core.display.HTML object>"
      ]
     },
     "metadata": {},
     "output_type": "display_data"
    },
    {
     "data": {
      "text/html": [
       "<tbody><tr><td width=\"15%\">CVE-2020-0650</td><td width=\"5%\" bgcolor=\"#FF4F4F\">7.8</td><td width=\"20%\">Microsoft Excel Remote Code Execution Vulnerability</td><td>A remote code execution vulnerability exists in Microsoft Excel software when the software fails to properly handle objects in memory, aka 'Microsoft Excel Remote Code Execution Vulnerability</td><td><a href=\"https://portal.msrc.microsoft.com/en-US/security-guidance/advisory/CVE-2020-0650\">https://portal.msrc.microsoft.com/en-US/security-guidance/advisory/CVE-2020-0650</a><br><a href=\"https://nvd.nist.gov/vuln/detail/CVE-2020-0650\">https://nvd.nist.gov/vuln/detail/CVE-2020-0650</a></tr>"
      ],
      "text/plain": [
       "<IPython.core.display.HTML object>"
      ]
     },
     "metadata": {},
     "output_type": "display_data"
    },
    {
     "data": {
      "text/html": [
       "<tbody><tr><td width=\"15%\">CVE-2020-0651</td><td width=\"5%\" bgcolor=\"#FF4F4F\">7.8</td><td width=\"20%\">Microsoft Excel Remote Code Execution Vulnerability</td><td>A remote code execution vulnerability exists in Microsoft Excel software when the software fails to properly handle objects in memory, aka 'Microsoft Excel Remote Code Execution Vulnerability</td><td><a href=\"https://portal.msrc.microsoft.com/en-US/security-guidance/advisory/CVE-2020-0651\">https://portal.msrc.microsoft.com/en-US/security-guidance/advisory/CVE-2020-0651</a><br><a href=\"https://nvd.nist.gov/vuln/detail/CVE-2020-0651\">https://nvd.nist.gov/vuln/detail/CVE-2020-0651</a></tr>"
      ],
      "text/plain": [
       "<IPython.core.display.HTML object>"
      ]
     },
     "metadata": {},
     "output_type": "display_data"
    },
    {
     "data": {
      "text/html": [
       "<tbody><tr><td width=\"15%\">CVE-2020-0652</td><td width=\"5%\" bgcolor=\"#FF4F4F\">7.8</td><td width=\"20%\">Microsoft Office Memory Corruption Vulnerability</td><td>A remote code execution vulnerability exists in Microsoft Office software when the software fails to properly handle objects in memory, aka 'Microsoft Office Memory Corruption Vulnerability</td><td><a href=\"https://portal.msrc.microsoft.com/en-US/security-guidance/advisory/CVE-2020-0652\">https://portal.msrc.microsoft.com/en-US/security-guidance/advisory/CVE-2020-0652</a><br><a href=\"https://nvd.nist.gov/vuln/detail/CVE-2020-0652\">https://nvd.nist.gov/vuln/detail/CVE-2020-0652</a></tr>"
      ],
      "text/plain": [
       "<IPython.core.display.HTML object>"
      ]
     },
     "metadata": {},
     "output_type": "display_data"
    },
    {
     "data": {
      "text/html": [
       "<tbody><tr><td width=\"15%\">CVE-2020-0653</td><td width=\"5%\" bgcolor=\"#FF4F4F\">7.8</td><td width=\"20%\">Microsoft Excel Remote Code Execution Vulnerability</td><td>A remote code execution vulnerability exists in Microsoft Excel software when the software fails to properly handle objects in memory, aka 'Microsoft Excel Remote Code Execution Vulnerability</td><td><a href=\"https://portal.msrc.microsoft.com/en-US/security-guidance/advisory/CVE-2020-0653\">https://portal.msrc.microsoft.com/en-US/security-guidance/advisory/CVE-2020-0653</a><br><a href=\"https://nvd.nist.gov/vuln/detail/CVE-2020-0653\">https://nvd.nist.gov/vuln/detail/CVE-2020-0653</a></tr>"
      ],
      "text/plain": [
       "<IPython.core.display.HTML object>"
      ]
     },
     "metadata": {},
     "output_type": "display_data"
    },
    {
     "data": {
      "text/html": [
       "<tbody><tr><td width=\"15%\">CVE-2020-0612</td><td width=\"5%\" bgcolor=\"#FF4F4F\">7.5</td><td width=\"20%\">Windows Remote Desktop Gateway (RD Gateway) Denial of Service Vulnerability</td><td>A denial of service vulnerability exists in Windows Remote Desktop Gateway (RD Gateway) when an attacker connects to the target system using RDP and sends specially crafted requests, aka 'Windows Remote Desktop Gateway (RD Gateway) Denial of Service Vulnerability</td><td><a href=\"https://portal.msrc.microsoft.com/en-US/security-guidance/advisory/CVE-2020-0612\">https://portal.msrc.microsoft.com/en-US/security-guidance/advisory/CVE-2020-0612</a><br><a href=\"https://nvd.nist.gov/vuln/detail/CVE-2020-0612\">https://nvd.nist.gov/vuln/detail/CVE-2020-0612</a></tr>"
      ],
      "text/plain": [
       "<IPython.core.display.HTML object>"
      ]
     },
     "metadata": {},
     "output_type": "display_data"
    },
    {
     "data": {
      "text/html": [
       "<tbody><tr><td width=\"15%\">CVE-2020-0637</td><td width=\"5%\" bgcolor=\"#FFA53F\">6.5</td><td width=\"20%\">Remote Desktop Web Access Information Disclosure Vulnerability</td><td>An information disclosure vulnerability exists when Remote Desktop Web Access improperly handles credential information, aka 'Remote Desktop Web Access Information Disclosure Vulnerability</td><td><a href=\"https://portal.msrc.microsoft.com/en-US/security-guidance/advisory/CVE-2020-0637\">https://portal.msrc.microsoft.com/en-US/security-guidance/advisory/CVE-2020-0637</a><br><a href=\"https://nvd.nist.gov/vuln/detail/CVE-2020-0637\">https://nvd.nist.gov/vuln/detail/CVE-2020-0637</a></tr>"
      ],
      "text/plain": [
       "<IPython.core.display.HTML object>"
      ]
     },
     "metadata": {},
     "output_type": "display_data"
    },
    {
     "data": {
      "text/html": [
       "<tbody><tr><td width=\"15%\">CVE-2020-0607</td><td width=\"5%\" bgcolor=\"#FFA53F\">5.5</td><td width=\"20%\">Microsoft Graphics Components Information Disclosure Vulnerability</td><td>An information disclosure vulnerability exists in the way that Microsoft Graphics Components handle objects in memory, aka 'Microsoft Graphics Components Information Disclosure Vulnerability</td><td><a href=\"https://portal.msrc.microsoft.com/en-US/security-guidance/advisory/CVE-2020-0607\">https://portal.msrc.microsoft.com/en-US/security-guidance/advisory/CVE-2020-0607</a><br><a href=\"https://nvd.nist.gov/vuln/detail/CVE-2020-0607\">https://nvd.nist.gov/vuln/detail/CVE-2020-0607</a></tr>"
      ],
      "text/plain": [
       "<IPython.core.display.HTML object>"
      ]
     },
     "metadata": {},
     "output_type": "display_data"
    },
    {
     "data": {
      "text/html": [
       "<tbody><tr><td width=\"15%\">CVE-2020-0608</td><td width=\"5%\" bgcolor=\"#FFA53F\">5.5</td><td width=\"20%\">Win32k Information Disclosure Vulnerability</td><td>An information disclosure vulnerability exists when the win32k component improperly provides kernel information, aka 'Win32k Information Disclosure Vulnerability</td><td><a href=\"https://portal.msrc.microsoft.com/en-US/security-guidance/advisory/CVE-2020-0608\">https://portal.msrc.microsoft.com/en-US/security-guidance/advisory/CVE-2020-0608</a><br><a href=\"https://nvd.nist.gov/vuln/detail/CVE-2020-0608\">https://nvd.nist.gov/vuln/detail/CVE-2020-0608</a></tr>"
      ],
      "text/plain": [
       "<IPython.core.display.HTML object>"
      ]
     },
     "metadata": {},
     "output_type": "display_data"
    },
    {
     "data": {
      "text/html": [
       "<tbody><tr><td width=\"15%\">CVE-2020-0615</td><td width=\"5%\" bgcolor=\"#FFA53F\">5.5</td><td width=\"20%\">Windows Common Log File System Driver Information Disclosure Vulnerability</td><td>An information disclosure vulnerability exists in the Windows Common Log File System (CLFS) driver when it fails to properly handle objects in memory, aka 'Windows Common Log File System Driver Information Disclosure Vulnerability</td><td><a href=\"https://portal.msrc.microsoft.com/en-US/security-guidance/advisory/CVE-2020-0615\">https://portal.msrc.microsoft.com/en-US/security-guidance/advisory/CVE-2020-0615</a><br><a href=\"https://nvd.nist.gov/vuln/detail/CVE-2020-0615\">https://nvd.nist.gov/vuln/detail/CVE-2020-0615</a></tr>"
      ],
      "text/plain": [
       "<IPython.core.display.HTML object>"
      ]
     },
     "metadata": {},
     "output_type": "display_data"
    },
    {
     "data": {
      "text/html": [
       "<tbody><tr><td width=\"15%\">CVE-2020-0622</td><td width=\"5%\" bgcolor=\"#FFA53F\">5.5</td><td width=\"20%\">Microsoft Graphics Component Information Disclosure Vulnerability</td><td>An information disclosure vulnerability exists when the Microsoft Windows Graphics Component improperly handles objects in memory, aka 'Microsoft Graphics Component Information Disclosure Vulnerability</td><td><a href=\"https://portal.msrc.microsoft.com/en-US/security-guidance/advisory/CVE-2020-0622\">https://portal.msrc.microsoft.com/en-US/security-guidance/advisory/CVE-2020-0622</a><br><a href=\"https://nvd.nist.gov/vuln/detail/CVE-2020-0622\">https://nvd.nist.gov/vuln/detail/CVE-2020-0622</a></tr>"
      ],
      "text/plain": [
       "<IPython.core.display.HTML object>"
      ]
     },
     "metadata": {},
     "output_type": "display_data"
    },
    {
     "data": {
      "text/html": [
       "<tbody><tr><td width=\"15%\">CVE-2020-0639</td><td width=\"5%\" bgcolor=\"#FFA53F\">5.5</td><td width=\"20%\">Windows Common Log File System Driver Information Disclosure Vulnerability</td><td>An information disclosure vulnerability exists in the Windows Common Log File System (CLFS) driver when it fails to properly handle objects in memory, aka 'Windows Common Log File System Driver Information Disclosure Vulnerability</td><td><a href=\"https://portal.msrc.microsoft.com/en-US/security-guidance/advisory/CVE-2020-0639\">https://portal.msrc.microsoft.com/en-US/security-guidance/advisory/CVE-2020-0639</a><br><a href=\"https://nvd.nist.gov/vuln/detail/CVE-2020-0639\">https://nvd.nist.gov/vuln/detail/CVE-2020-0639</a></tr>"
      ],
      "text/plain": [
       "<IPython.core.display.HTML object>"
      ]
     },
     "metadata": {},
     "output_type": "display_data"
    },
    {
     "data": {
      "text/html": [
       "<tbody><tr><td width=\"15%\">CVE-2020-0643</td><td width=\"5%\" bgcolor=\"#FFA53F\">5.5</td><td width=\"20%\">Windows GDI+ Information Disclosure Vulnerability</td><td>An information disclosure vulnerability exists in the way that the Windows Graphics Device Interface Plus (GDI+) handles objects in memory, allowing an attacker to retrieve information from a targeted system, aka 'Windows GDI+ Information Disclosure Vulnerability</td><td><a href=\"https://portal.msrc.microsoft.com/en-US/security-guidance/advisory/CVE-2020-0643\">https://portal.msrc.microsoft.com/en-US/security-guidance/advisory/CVE-2020-0643</a><br><a href=\"https://nvd.nist.gov/vuln/detail/CVE-2020-0643\">https://nvd.nist.gov/vuln/detail/CVE-2020-0643</a></tr>"
      ],
      "text/plain": [
       "<IPython.core.display.HTML object>"
      ]
     },
     "metadata": {},
     "output_type": "display_data"
    },
    {
     "data": {
      "text/html": [
       "<tbody><tr><td width=\"15%\">CVE-2020-0647</td><td width=\"5%\" bgcolor=\"#FFA53F\">5.4</td><td width=\"20%\">Microsoft Office Online Spoofing Vulnerability</td><td>A spoofing vulnerability exists when Office Online does not validate origin in cross-origin communications correctly, aka 'Microsoft Office Online Spoofing Vulnerability</td><td><a href=\"https://portal.msrc.microsoft.com/en-US/security-guidance/advisory/CVE-2020-0647\">https://portal.msrc.microsoft.com/en-US/security-guidance/advisory/CVE-2020-0647</a><br><a href=\"https://nvd.nist.gov/vuln/detail/CVE-2020-0647\">https://nvd.nist.gov/vuln/detail/CVE-2020-0647</a></tr>"
      ],
      "text/plain": [
       "<IPython.core.display.HTML object>"
      ]
     },
     "metadata": {},
     "output_type": "display_data"
    },
    {
     "data": {
      "text/html": [
       "</table>"
      ],
      "text/plain": [
       "<IPython.core.display.HTML object>"
      ]
     },
     "metadata": {},
     "output_type": "display_data"
    }
   ],
   "source": [
    "#<a href=\"(https://portal.msrc.microsoft.com/en-US/security-guidance/advisory/.*\">.+)</a>\n",
    "#data[\"DocumentNotes\"][0][\"Value\"]\n",
    "import re\n",
    "\n",
    "cve_urls=re.findall('<a href=\"https://portal.msrc.microsoft.com/en-US/security-guidance/advisory/(.*)\">.+</a>',data[\"DocumentNotes\"][0][\"Value\"])\n",
    "\n",
    "a=[]\n",
    "i=0\n",
    "\n",
    "for url in cve_urls:\n",
    "    r = http.request('GET',\"https://nvd.nist.gov/vuln/detail/\"+url)\n",
    "    b=re.findall('vuln-description\">(.*)\\'\\.',r.data.decode('utf-8'))\n",
    "    c=re.findall('CVSS v3.1 Severity and Metrics:&lt;/strong> &lt;p data-testid=&#39;vuln-cvssv3-score-container&#39;> &lt;strong>Base Score: &lt;/strong> &lt;span data-testid=&#39;vuln-cvssv3-base-score&#39;>(...)',r.data.decode('utf-8'))\n",
    "    d=re.findall('vuln-description\">.*aka(.*)\\'\\.',r.data.decode('utf-8'))\n",
    "    a.append([url,b[0],c[0],d[0][2:]])\n",
    "    \n",
    "d=sorted(a, key=lambda x: (x[2]),reverse=True)\n",
    "\n",
    "display(HTML(\"<table width=\\\"100%\\\"><thead><tr><th width=\\\"15%\\\">CVE</th><th width=\\\"5%\\\">Severity<br>(CVSSv3)</th><th width=\\\"20%\\\">Title</th><th>Description</th><th>URL</th><tr></thead><tbody>\"))\n",
    "for i in d:\n",
    "  record=(\"<tbody><tr><td width=\\\"15%\\\">\"+i[0]+\"</td>\")\n",
    "  if float(i[2]) >= 9.0:\n",
    "     record+=(\"<td width=\\\"5%\\\" bgcolor=\\\"mediumorchid\\\">\")\n",
    "  if float(i[2]) >= 7.0 and float(i[2]) < 9.0:\n",
    "     record+=(\"<td width=\\\"5%\\\" bgcolor=\\\"#FF4F4F\\\">\")\n",
    "  if float(i[2]) >= 4.0 and float(i[2]) < 7.0:\n",
    "     record+=(\"<td width=\\\"5%\\\" bgcolor=\\\"#FFA53F\\\">\")\n",
    "  if float(i[2]) >= 0.1 and float(i[2]) < 4.0:\n",
    "     record+=(\"<td width=\\\"5%\\\" bgcolor=\\\"green\\\">\")\n",
    "  record+=(i[2]+\"</td><td width=\\\"20%\\\">\"+i[3]+\"</td><td>\"+i[1]+\"</td><td><a href=\\\"https://portal.msrc.microsoft.com/en-US/security-guidance/advisory/\"+i[0]+\"\\\">https://portal.msrc.microsoft.com/en-US/security-guidance/advisory/\"+i[0]+\"</a><br><a href=\\\"https://nvd.nist.gov/vuln/detail/\"+i[0]+\"\\\">https://nvd.nist.gov/vuln/detail/\"+i[0]+\"</a></tr>\")\n",
    "  display(HTML(record))\n",
    "display(HTML(\"</table>\"))"
   ]
  },
  {
   "cell_type": "code",
   "execution_count": 180,
   "metadata": {
    "code_folding": [
     36
    ],
    "hide_input": "True",
    "slideshow": {
     "slide_type": "slide"
    },
    "tags": [
     "hide_input"
    ]
   },
   "outputs": [
    {
     "data": {
      "image/png": "[encoded data removed]",
      "text/plain": [
       "<Figure size 432x288 with 1 Axes>"
      ]
     },
     "metadata": {},
     "output_type": "display_data"
    },
    {
     "data": {
      "image/png": "[encoded data removed]",
      "text/plain": [
       "<Figure size 432x288 with 1 Axes>"
      ]
     },
     "metadata": {
      "needs_background": "light"
     },
     "output_type": "display_data"
    }
   ],
   "source": [
    "import matplotlib.pyplot as plotter\n",
    "critical=0\n",
    "high=0\n",
    "medium=0\n",
    "low=0\n",
    "none=0\n",
    "\n",
    "for i in d:\n",
    "    if float(i[2]) >= 9.0:\n",
    "        critical+=1\n",
    "    if float(i[2]) >= 7.0 and float(i[2]) < 9.0:\n",
    "        high+=1\n",
    "    if float(i[2]) >= 4.0 and float(i[2]) < 7.0:\n",
    "        medium+=1\n",
    "    if float(i[2]) >= 0.1 and float(i[2]) < 4.0:\n",
    "        low +=1\n",
    "    if float(i[2]) < 0.1:\n",
    "        none+=1\n",
    "total=(critical+high+medium+low+none)        \n",
    "\n",
    "pieLabels=['critical','high','medium','low','none']\n",
    "severitypie=[critical,high,medium,low,none]\n",
    "\n",
    "explodeTuple = (0.2, 0.1, 0.1, 0.1, 0.1)\n",
    "figureObject, axesObject = plotter.subplots()\n",
    "pie=axesObject.pie(severitypie, \n",
    "        explode=explodeTuple,\n",
    "        labels=pieLabels,\n",
    "        autopct='%1.2f',\n",
    "        colors=['mediumorchid','#FF4F4F','#FFA53F','green','blue'],\n",
    "        startangle=90)\n",
    "axesObject.axis('equal')\n",
    "plotter.title('Vulnerability Severity Distribution%')\n",
    "plotter.show()\n",
    "\n",
    "figureObject, axesObject    = plotter.subplots()\n",
    "barlist = axesObject.barh(('none','low','medium','high','critical'),\n",
    "        (none,low,medium,high,critical),\n",
    "        0.8,\n",
    "        alpha = 0.7,\n",
    "        color = 'blue',\n",
    "        label = 'Vulns')\n",
    "barlist[0].set_color('blue')\n",
    "barlist[1].set_color('green')\n",
    "barlist[2].set_color('orange')\n",
    "barlist[3].set_color('red')\n",
    "barlist[4].set_color('purple')\n",
    "axesObject.set_xlabel('Vuln Count')\n",
    "plotter.title('No. Vulnerabilities By Severity')\n",
    "plotter.show()"
   ]
  }
 ],
 "metadata": {
  "celltoolbar": "Tags",
  "kernelspec": {
   "display_name": "Python 3",
   "language": "python",
   "name": "python3"
  },
  "language_info": {
   "codemirror_mode": {
    "name": "ipython",
    "version": 3
   },
   "file_extension": ".py",
   "mimetype": "text/x-python",
   "name": "python",
   "nbconvert_exporter": "python",
   "pygments_lexer": "ipython3",
   "version": "3.8.1"
  }
 },
 "nbformat": 4,
 "nbformat_minor": 4
}
