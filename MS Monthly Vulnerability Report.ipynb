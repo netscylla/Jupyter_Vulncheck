{
 "cells": [
  {
   "cell_type": "code",
   "execution_count": 4,
   "metadata": {},
   "outputs": [
    {
     "data": {
      "text/html": [
       "<script>jQuery(function() {if (jQuery(\"body.notebook_app\").length == 0) { jQuery(\".input_area\").toggle(); jQuery(\".prompt\").toggle();}});</script>"
      ]
     },
     "metadata": {},
     "output_type": "display_data"
    },
    {
     "data": {
      "text/html": [
       "<button onclick=\"jQuery('.input_area').toggle(); jQuery('.prompt').toggle();\">Toggle code</button>"
      ]
     },
     "metadata": {},
     "output_type": "display_data"
    }
   ],
   "source": [
    "from IPython.display import display, display_html\n",
    "from IPython.display import HTML\n",
    "import IPython.core.display as di\n",
    "\n",
    "# This line will hide code by default when the notebook is exported as HTML\n",
    "di.display_html('<script>jQuery(function() {if (jQuery(\"body.notebook_app\").length == 0) { jQuery(\".input_area\").toggle(); jQuery(\".prompt\").toggle();}});</script>', raw=True)\n",
    "\n",
    "# This line will add a button to toggle visibility of code blocks, for use with the HTML export version\n",
    "di.display_html('''<button onclick=\"jQuery('.input_area').toggle(); jQuery('.prompt').toggle();\">Toggle code</button>''', raw=True)"
   ]
  },
  {
   "cell_type": "code",
   "execution_count": 6,
   "metadata": {},
   "outputs": [],
   "source": [
    "def group(lst, key, value=None):\n",
    "    result = defaultdict(list)\n",
    "    for i in lst:\n",
    "        result[key(i) if callable(key) else i[key]].append(value(i) if callable(value) else i[value] if value else i)\n",
    "    return result\n",
    "\n",
    "def scrape_cve(cve_id):\n",
    "    data_ids = [\"vuln-description\", \"vuln-cvss3-panel-score\"]\n",
    "    nvd_cve_url = f\"https://nvd.nist.gov/vuln/detail/{cve_id}\"\n",
    "    cve_doc = lxml.html.fromstring(requests.get(nvd_cve_url).content)\n",
    "    extracted = {id: cve_doc.xpath(f\"//*[@data-testid='{id}']/text()\")[0] for id in data_ids}\n",
    "    return {\n",
    "        \"id\": cve_id,\n",
    "        \"urls\": [nvd_cve_url, microsoft_cve_url_prefix+cve_id],\n",
    "        \"description\": extracted[\"vuln-description\"],\n",
    "        \"aka\": re.findall(\", aka '(.*)'\", extracted[\"vuln-description\"])[0],\n",
    "        \"cvss_score\": float(re.match(\"(\\d+\\.\\d+).*\", extracted[\"vuln-cvss3-panel-score\"]).group(1))\n",
    "    }\n",
    "\n",
    "cvss_severity_colors = {\n",
    "    \"None\": None,\n",
    "    \"Low\": \"green\",\n",
    "    \"Medium\": \"#FFA53F\",\n",
    "    \"High\": \"#FF4F4F\",\n",
    "    \"Critical\": \"mediumorchid\"  \n",
    "}\n",
    "cvss_severity_matrix = [\n",
    "    (\"None\", 0.0, 0.0),\n",
    "    (\"Low\", 0.1, 3.9),\n",
    "    (\"Medium\", 4.0, 6.9),\n",
    "    (\"High\", 7.0, 8.9),\n",
    "    (\"Critical\", 9.0, 10.0)\n",
    "]\n",
    "\n",
    "def cvss_severity(score):\n",
    "    for severity, from_score, to_score in cvss_severity_matrix:\n",
    "        if int(from_score*10) <= int(score*10) <= int(to_score*10):\n",
    "            return severity\n",
    "        \n",
    "def table(columns, rows):\n",
    "    def table_cell_attrs(column, row=None):\n",
    "        attrs = {}\n",
    "        if \"attrs\" in column:\n",
    "            for k, v in column[\"attrs\"].items():\n",
    "                if callable(v):\n",
    "                    if row:\n",
    "                        attrs[k] = v(row)\n",
    "                else:\n",
    "                     attrs[k] = v    \n",
    "            if attrs:\n",
    "                return \" \" + \" \".join(f'{k}=\"{v}\"' for k, v in attrs.items())\n",
    "        return \"\"\n",
    "    def table_header_cells():\n",
    "        return [f\"<th{table_cell_attrs(column)}>{column['title']}</th>\" for column in columns]\n",
    "    def table_body_cells(row):\n",
    "        return [f\"<td{table_cell_attrs(column,row)}>{column['processor'](row[column['key']]) if 'processor' in column else row[column['key']]}</td>\" for column in columns]\n",
    "    def table_row(cells):\n",
    "        return f\"<tr>{''.join(cells)}</tr>\"\n",
    "    return f\"\"\"<table width=\"100%\">\n",
    "    <thead>{table_row(table_header_cells())}</thead>\n",
    "    <tbody>{''.join(table_row(table_body_cells(row)) for row in rows)}</tbody>\n",
    "</table>\"\"\""
   ]
  },
  {
   "cell_type": "code",
   "execution_count": 7,
   "metadata": {
    "tags": [
     "hide_input"
    ]
   },
   "outputs": [
    {
     "data": {
      "text/html": [
       "<h1>January 2020 Security Updates</h1>"
      ],
      "text/plain": [
       "<IPython.core.display.HTML object>"
      ]
     },
     "metadata": {},
     "output_type": "display_data"
    },
    {
     "data": {
      "text/html": [
       "<p>The January security release consists of security updates for the following software:</p>\n",
       "<ul>\n",
       "<li>Microsoft Windows</li>\n",
       "<li>Internet Explorer</li>\n",
       "<li>Microsoft Office and Microsoft Office Services and Web Apps</li>\n",
       "<li>ASP.NET Core</li>\n",
       "<li>.NET Core</li>\n",
       "<li>.NET Framework</li>\n",
       "<li>OneDrive for Android</li>\n",
       "<li>Microsoft Dynamics</li>\n",
       "<li>Microsoft Edge (Chromium-based)</li>\n",
       "</ul>\n",
       "<p>Please note the following information regarding the security updates:</p>\n",
       "<ul>\n",
       "<li>For information regarding enabling Windows 10, version 1909 features, please see <a href=\"https://techcommunity.microsoft.com/t5/Windows-IT-Pro-Blog/Windows-10-version-1909-delivery-options/ba-p/1002660\">Windows 10, version 1909 delivery options</a>. Note that Windows 10, versions 1903 and 1909 share a common core operating system with an identical set of system files. They will also share the same security update KBs.</li>\n",
       "<li>Windows 10 updates are cumulative. The monthly security release includes all security fixes for vulnerabilities that affect Windows 10, in addition to non-security updates. The updates are available via the <a href=\"http://catalog.update.microsoft.com/v7/site/Home.aspx\">Microsoft Update Catalog</a>.</li>\n",
       "<li>For information on lifecycle and support dates for Windows 10 operating systems, please see <a href=\"https://support.microsoft.com/en-us/help/13853/windows-lifecycle-fact-sheet\">Windows Lifecycle Facts Sheet</a>.</li>\n",
       "<li>A list of the latest servicing stack updates for each operating system can be found in <a href=\"https://portal.msrc.microsoft.com/en-us/security-guidance/advisory/ADV990001\">ADV990001</a>. This list will be updated whenever a new servicing stack update is released. It is important to install the latest servicing stack update.</li>\n",
       "<li>Starting in May 2019, Internet Explorer 11 is available on Windows Server 2012. This configuration is present only in the IE Cumulative package.</li>\n",
       "<li>Updates for Windows RT 8.1 and Microsoft Office RT software are only available via <a href=\"http://go.microsoft.com/fwlink/?LinkId=21130\">Windows Update</a>.</li>\n",
       "<li>In addition to security changes for the vulnerabilities, updates include defense-in-depth updates to help improve security-related features.</li>\n",
       "<li><strong>Note</strong>: Support for Windows 7, Windows Server 2008 R2, and Windows Server 2008 ends January 14, 2020.  For more information please see <a href=\"https://support.microsoft.com/en-us/help/4497181/lifecycle-faq-extended-security-updates\">Lifecycle FAQ-Extended Security Updates</a>.</li>\n",
       "</ul>\n",
       "<p><strong>The following CVEs have FAQs with additional information and may include * further steps to take after installing the updates. Please note that this is not a complete list of CVEs for this release.</strong></p>\n",
       "<ul>\n",
       "<li><a href=\"https://portal.msrc.microsoft.com/en-US/security-guidance/advisory/CVE-2020-0601\">CVE-2020-0601</a> *</li>\n",
       "<li><a href=\"https://portal.msrc.microsoft.com/en-US/security-guidance/advisory/CVE-2020-0607\">CVE-2020-0607</a></li>\n",
       "<li><a href=\"https://portal.msrc.microsoft.com/en-US/security-guidance/advisory/CVE-2020-0608\">CVE-2020-0608</a></li>\n",
       "<li><a href=\"https://portal.msrc.microsoft.com/en-US/security-guidance/advisory/CVE-2020-0609\">CVE-2020-0609</a> *</li>\n",
       "<li><a href=\"https://portal.msrc.microsoft.com/en-US/security-guidance/advisory/CVE-2020-0610\">CVE-2020-0610</a> *</li>\n",
       "<li><a href=\"https://portal.msrc.microsoft.com/en-US/security-guidance/advisory/CVE-2020-0612\">CVE-2020-0612</a> *</li>\n",
       "<li><a href=\"https://portal.msrc.microsoft.com/en-US/security-guidance/advisory/CVE-2020-0615\">CVE-2020-0615</a></li>\n",
       "<li><a href=\"https://portal.msrc.microsoft.com/en-US/security-guidance/advisory/CVE-2020-0622\">CVE-2020-0622</a></li>\n",
       "<li><a href=\"https://portal.msrc.microsoft.com/en-US/security-guidance/advisory/CVE-2020-0637\">CVE-2020-0637</a></li>\n",
       "<li><a href=\"https://portal.msrc.microsoft.com/en-US/security-guidance/advisory/CVE-2020-0639\">CVE-2020-0639</a></li>\n",
       "<li><a href=\"https://portal.msrc.microsoft.com/en-US/security-guidance/advisory/CVE-2020-0643\">CVE-2020-0643</a></li>\n",
       "<li><a href=\"https://portal.msrc.microsoft.com/en-US/security-guidance/advisory/CVE-2020-0647\">CVE-2020-0647</a></li>\n",
       "<li><a href=\"https://portal.msrc.microsoft.com/en-US/security-guidance/advisory/CVE-2020-0650\">CVE-2020-0650</a></li>\n",
       "<li><a href=\"https://portal.msrc.microsoft.com/en-US/security-guidance/advisory/CVE-2020-0651\">CVE-2020-0651</a></li>\n",
       "<li><a href=\"https://portal.msrc.microsoft.com/en-US/security-guidance/advisory/CVE-2020-0652\">CVE-2020-0652</a></li>\n",
       "<li><a href=\"https://portal.msrc.microsoft.com/en-US/security-guidance/advisory/CVE-2020-0653\">CVE-2020-0653</a></li>\n",
       "<li><a href=\"https://portal.msrc.microsoft.com/en-US/security-guidance/advisory/CVE-2020-0654\">CVE-2020-0654</a> *</li>\n",
       "</ul>\n",
       "<p><strong>Known Issues</strong></p>\n",
       "<p>The following KBs contain information about known issues with the security updates. For a complete list of security update KBs, please see <a href=\"https://support.microsoft.com/help/20200114\">20200114</a>. For more information about Windows Known Issues, please see <a href=\"https://docs.microsoft.com/en-us/windows/release-information/windows-message-center\">Windows message center</a> (links to currently-supported versions of Windows are in the left pane).</p>\n",
       "<table>\n",
       "<thead>\n",
       "<tr>\n",
       "<th>KB Article</th>\n",
       "<th>Applies To</th>\n",
       "</tr>\n",
       "</thead>\n",
       "<tbody>\n",
       "<tr>\n",
       "<td><a href=\"https://support.microsoft.com/help/4534271\">4534271</a></td>\n",
       "<td>Windows 10, version 1607, Windows Server 2016</td>\n",
       "</tr>\n",
       "<tr>\n",
       "<td><a href=\"https://support.microsoft.com/help/4534273\">4534273</a></td>\n",
       "<td>Windows 10, version 1809, Windows Server version 1809, Windows 10, version 1809, Windows Server version 1809</td>\n",
       "</tr>\n",
       "<tr>\n",
       "<td><a href=\"https://support.microsoft.com/help/4534276\">4534276</a></td>\n",
       "<td>Windows 10, version 1709</td>\n",
       "</tr>\n",
       "<tr>\n",
       "<td><a href=\"https://support.microsoft.com/help/4534283\">4534283</a></td>\n",
       "<td>Windows Server 2012 (Monthly Rollup)</td>\n",
       "</tr>\n",
       "<tr>\n",
       "<td><a href=\"https://support.microsoft.com/help/4534288\">4534288</a></td>\n",
       "<td>Windows Server 2012 (Security-only update)</td>\n",
       "</tr>\n",
       "<tr>\n",
       "<td><a href=\"https://support.microsoft.com/help/4534293\">4534293</a></td>\n",
       "<td>Windows 10, version 1803, Windows Server version 1803</td>\n",
       "</tr>\n",
       "<tr>\n",
       "<td><a href=\"https://support.microsoft.com/help/4534297\">4534297</a></td>\n",
       "<td>Windows 8.1, Windows Server 2012 R2 (Monthly Rollup)</td>\n",
       "</tr>\n",
       "<tr>\n",
       "<td><a href=\"https://support.microsoft.com/help/4534306\">4534306</a></td>\n",
       "<td>Windows 10</td>\n",
       "</tr>\n",
       "<tr>\n",
       "<td><a href=\"https://support.microsoft.com/help/4534309\">4534309</a></td>\n",
       "<td>Windows 8.1, Windows Server 2012 R2 (Security-only update)</td>\n",
       "</tr>\n",
       "</tbody>\n",
       "</table>\n"
      ],
      "text/plain": [
       "<IPython.core.display.HTML object>"
      ]
     },
     "metadata": {},
     "output_type": "display_data"
    }
   ],
   "source": [
    "from IPython.core.display import display, HTML\n",
    "import requests\n",
    "from datetime import date\n",
    "\n",
    "api_key = 'c1fc8aedfdbd46e38bc1d74df765d251'\n",
    "\n",
    "data = requests.get(\n",
    "      \"https://api.msrc.microsoft.com/cvrf/{}?api-version=2016-08-01\".format(date.today().strftime(\"%Y-%b\")),\n",
    "      headers={\n",
    "          'api-key': api_key,\n",
    "          'Accept': 'application/json'\n",
    "      }).json()\n",
    "display(HTML(\"<h1>\"+data[\"DocumentTitle\"][\"Value\"]+\"</h1>\"))\n",
    "display(HTML(data[\"DocumentNotes\"][0][\"Value\"]))\n"
   ]
  },
  {
   "cell_type": "code",
   "execution_count": 8,
   "metadata": {
    "hide_input": "True",
    "tags": [
     "hide_input"
    ]
   },
   "outputs": [
    {
     "data": {
      "text/html": [
       "<table width=\"100%\">\n",
       "    <thead><tr><th width=\"15%\">CVE</th><th width=\"5%\">Severity (CVSSv3)</th><th width=\"20%\">Title</th><th>Description</th><th>URL</th></tr></thead>\n",
       "    <tbody><tr><td width=\"15%\">CVE-2020-0609</td><td width=\"5%\" bgcolor=\"mediumorchid\">9.8</td><td width=\"20%\">Windows Remote Desktop Gateway (RD Gateway) Remote Code Execution Vulnerability</td><td>A remote code execution vulnerability exists in Windows Remote Desktop Gateway (RD Gateway) when an unauthenticated attacker connects to the target system using RDP and sends specially crafted requests, aka 'Windows Remote Desktop Gateway (RD Gateway) Remote Code Execution Vulnerability'. This CVE ID is unique from CVE-2020-0610.</td><td><a href=\"https://nvd.nist.gov/vuln/detail/CVE-2020-0609\">https://nvd.nist.gov/vuln/detail/CVE-2020-0609</a><br><a href=\"https://portal.msrc.microsoft.com/en-US/security-guidance/advisory/CVE-2020-0609\">https://portal.msrc.microsoft.com/en-US/security-guidance/advisory/CVE-2020-0609</a></td></tr><tr><td width=\"15%\">CVE-2020-0610</td><td width=\"5%\" bgcolor=\"mediumorchid\">9.8</td><td width=\"20%\">Windows Remote Desktop Gateway (RD Gateway) Remote Code Execution Vulnerability</td><td>A remote code execution vulnerability exists in Windows Remote Desktop Gateway (RD Gateway) when an unauthenticated attacker connects to the target system using RDP and sends specially crafted requests, aka 'Windows Remote Desktop Gateway (RD Gateway) Remote Code Execution Vulnerability'. This CVE ID is unique from CVE-2020-0609.</td><td><a href=\"https://nvd.nist.gov/vuln/detail/CVE-2020-0610\">https://nvd.nist.gov/vuln/detail/CVE-2020-0610</a><br><a href=\"https://portal.msrc.microsoft.com/en-US/security-guidance/advisory/CVE-2020-0610\">https://portal.msrc.microsoft.com/en-US/security-guidance/advisory/CVE-2020-0610</a></td></tr><tr><td width=\"15%\">CVE-2020-0654</td><td width=\"5%\" bgcolor=\"mediumorchid\">9.1</td><td width=\"20%\">Microsoft OneDrive for Android Security Feature Bypass Vulnerability</td><td>A security feature bypass vulnerability exists in Microsoft OneDrive App for Android.This could allow an attacker to bypass the passcode or fingerprint requirements of the App.The security update addresses the vulnerability by correcting the way Microsoft OneDrive App for Android handles sharing links., aka 'Microsoft OneDrive for Android Security Feature Bypass Vulnerability'.</td><td><a href=\"https://nvd.nist.gov/vuln/detail/CVE-2020-0654\">https://nvd.nist.gov/vuln/detail/CVE-2020-0654</a><br><a href=\"https://portal.msrc.microsoft.com/en-US/security-guidance/advisory/CVE-2020-0654\">https://portal.msrc.microsoft.com/en-US/security-guidance/advisory/CVE-2020-0654</a></td></tr><tr><td width=\"15%\">CVE-2020-0601</td><td width=\"5%\" bgcolor=\"#FF4F4F\">8.1</td><td width=\"20%\">Windows CryptoAPI Spoofing Vulnerability</td><td>A spoofing vulnerability exists in the way Windows CryptoAPI (Crypt32.dll) validates Elliptic Curve Cryptography (ECC) certificates.An attacker could exploit the vulnerability by using a spoofed code-signing certificate to sign a malicious executable, making it appear the file was from a trusted, legitimate source, aka 'Windows CryptoAPI Spoofing Vulnerability'.</td><td><a href=\"https://nvd.nist.gov/vuln/detail/CVE-2020-0601\">https://nvd.nist.gov/vuln/detail/CVE-2020-0601</a><br><a href=\"https://portal.msrc.microsoft.com/en-US/security-guidance/advisory/CVE-2020-0601\">https://portal.msrc.microsoft.com/en-US/security-guidance/advisory/CVE-2020-0601</a></td></tr><tr><td width=\"15%\">CVE-2020-0650</td><td width=\"5%\" bgcolor=\"#FF4F4F\">7.8</td><td width=\"20%\">Microsoft Excel Remote Code Execution Vulnerability</td><td>A remote code execution vulnerability exists in Microsoft Excel software when the software fails to properly handle objects in memory, aka 'Microsoft Excel Remote Code Execution Vulnerability'. This CVE ID is unique from CVE-2020-0651, CVE-2020-0653.</td><td><a href=\"https://nvd.nist.gov/vuln/detail/CVE-2020-0650\">https://nvd.nist.gov/vuln/detail/CVE-2020-0650</a><br><a href=\"https://portal.msrc.microsoft.com/en-US/security-guidance/advisory/CVE-2020-0650\">https://portal.msrc.microsoft.com/en-US/security-guidance/advisory/CVE-2020-0650</a></td></tr><tr><td width=\"15%\">CVE-2020-0651</td><td width=\"5%\" bgcolor=\"#FF4F4F\">7.8</td><td width=\"20%\">Microsoft Excel Remote Code Execution Vulnerability</td><td>A remote code execution vulnerability exists in Microsoft Excel software when the software fails to properly handle objects in memory, aka 'Microsoft Excel Remote Code Execution Vulnerability'. This CVE ID is unique from CVE-2020-0650, CVE-2020-0653.</td><td><a href=\"https://nvd.nist.gov/vuln/detail/CVE-2020-0651\">https://nvd.nist.gov/vuln/detail/CVE-2020-0651</a><br><a href=\"https://portal.msrc.microsoft.com/en-US/security-guidance/advisory/CVE-2020-0651\">https://portal.msrc.microsoft.com/en-US/security-guidance/advisory/CVE-2020-0651</a></td></tr><tr><td width=\"15%\">CVE-2020-0652</td><td width=\"5%\" bgcolor=\"#FF4F4F\">7.8</td><td width=\"20%\">Microsoft Office Memory Corruption Vulnerability</td><td>A remote code execution vulnerability exists in Microsoft Office software when the software fails to properly handle objects in memory, aka 'Microsoft Office Memory Corruption Vulnerability'.</td><td><a href=\"https://nvd.nist.gov/vuln/detail/CVE-2020-0652\">https://nvd.nist.gov/vuln/detail/CVE-2020-0652</a><br><a href=\"https://portal.msrc.microsoft.com/en-US/security-guidance/advisory/CVE-2020-0652\">https://portal.msrc.microsoft.com/en-US/security-guidance/advisory/CVE-2020-0652</a></td></tr><tr><td width=\"15%\">CVE-2020-0653</td><td width=\"5%\" bgcolor=\"#FF4F4F\">7.8</td><td width=\"20%\">Microsoft Excel Remote Code Execution Vulnerability</td><td>A remote code execution vulnerability exists in Microsoft Excel software when the software fails to properly handle objects in memory, aka 'Microsoft Excel Remote Code Execution Vulnerability'. This CVE ID is unique from CVE-2020-0650, CVE-2020-0651.</td><td><a href=\"https://nvd.nist.gov/vuln/detail/CVE-2020-0653\">https://nvd.nist.gov/vuln/detail/CVE-2020-0653</a><br><a href=\"https://portal.msrc.microsoft.com/en-US/security-guidance/advisory/CVE-2020-0653\">https://portal.msrc.microsoft.com/en-US/security-guidance/advisory/CVE-2020-0653</a></td></tr><tr><td width=\"15%\">CVE-2020-0612</td><td width=\"5%\" bgcolor=\"#FF4F4F\">7.5</td><td width=\"20%\">Windows Remote Desktop Gateway (RD Gateway) Denial of Service Vulnerability</td><td>A denial of service vulnerability exists in Windows Remote Desktop Gateway (RD Gateway) when an attacker connects to the target system using RDP and sends specially crafted requests, aka 'Windows Remote Desktop Gateway (RD Gateway) Denial of Service Vulnerability'.</td><td><a href=\"https://nvd.nist.gov/vuln/detail/CVE-2020-0612\">https://nvd.nist.gov/vuln/detail/CVE-2020-0612</a><br><a href=\"https://portal.msrc.microsoft.com/en-US/security-guidance/advisory/CVE-2020-0612\">https://portal.msrc.microsoft.com/en-US/security-guidance/advisory/CVE-2020-0612</a></td></tr><tr><td width=\"15%\">CVE-2020-0637</td><td width=\"5%\" bgcolor=\"#FFA53F\">6.5</td><td width=\"20%\">Remote Desktop Web Access Information Disclosure Vulnerability</td><td>An information disclosure vulnerability exists when Remote Desktop Web Access improperly handles credential information, aka 'Remote Desktop Web Access Information Disclosure Vulnerability'.</td><td><a href=\"https://nvd.nist.gov/vuln/detail/CVE-2020-0637\">https://nvd.nist.gov/vuln/detail/CVE-2020-0637</a><br><a href=\"https://portal.msrc.microsoft.com/en-US/security-guidance/advisory/CVE-2020-0637\">https://portal.msrc.microsoft.com/en-US/security-guidance/advisory/CVE-2020-0637</a></td></tr><tr><td width=\"15%\">CVE-2020-0607</td><td width=\"5%\" bgcolor=\"#FFA53F\">5.5</td><td width=\"20%\">Microsoft Graphics Components Information Disclosure Vulnerability</td><td>An information disclosure vulnerability exists in the way that Microsoft Graphics Components handle objects in memory, aka 'Microsoft Graphics Components Information Disclosure Vulnerability'.</td><td><a href=\"https://nvd.nist.gov/vuln/detail/CVE-2020-0607\">https://nvd.nist.gov/vuln/detail/CVE-2020-0607</a><br><a href=\"https://portal.msrc.microsoft.com/en-US/security-guidance/advisory/CVE-2020-0607\">https://portal.msrc.microsoft.com/en-US/security-guidance/advisory/CVE-2020-0607</a></td></tr><tr><td width=\"15%\">CVE-2020-0608</td><td width=\"5%\" bgcolor=\"#FFA53F\">5.5</td><td width=\"20%\">Win32k Information Disclosure Vulnerability</td><td>An information disclosure vulnerability exists when the win32k component improperly provides kernel information, aka 'Win32k Information Disclosure Vulnerability'.</td><td><a href=\"https://nvd.nist.gov/vuln/detail/CVE-2020-0608\">https://nvd.nist.gov/vuln/detail/CVE-2020-0608</a><br><a href=\"https://portal.msrc.microsoft.com/en-US/security-guidance/advisory/CVE-2020-0608\">https://portal.msrc.microsoft.com/en-US/security-guidance/advisory/CVE-2020-0608</a></td></tr><tr><td width=\"15%\">CVE-2020-0615</td><td width=\"5%\" bgcolor=\"#FFA53F\">5.5</td><td width=\"20%\">Windows Common Log File System Driver Information Disclosure Vulnerability</td><td>An information disclosure vulnerability exists in the Windows Common Log File System (CLFS) driver when it fails to properly handle objects in memory, aka 'Windows Common Log File System Driver Information Disclosure Vulnerability'. This CVE ID is unique from CVE-2020-0639.</td><td><a href=\"https://nvd.nist.gov/vuln/detail/CVE-2020-0615\">https://nvd.nist.gov/vuln/detail/CVE-2020-0615</a><br><a href=\"https://portal.msrc.microsoft.com/en-US/security-guidance/advisory/CVE-2020-0615\">https://portal.msrc.microsoft.com/en-US/security-guidance/advisory/CVE-2020-0615</a></td></tr><tr><td width=\"15%\">CVE-2020-0622</td><td width=\"5%\" bgcolor=\"#FFA53F\">5.5</td><td width=\"20%\">Microsoft Graphics Component Information Disclosure Vulnerability</td><td>An information disclosure vulnerability exists when the Microsoft Windows Graphics Component improperly handles objects in memory, aka 'Microsoft Graphics Component Information Disclosure Vulnerability'.</td><td><a href=\"https://nvd.nist.gov/vuln/detail/CVE-2020-0622\">https://nvd.nist.gov/vuln/detail/CVE-2020-0622</a><br><a href=\"https://portal.msrc.microsoft.com/en-US/security-guidance/advisory/CVE-2020-0622\">https://portal.msrc.microsoft.com/en-US/security-guidance/advisory/CVE-2020-0622</a></td></tr><tr><td width=\"15%\">CVE-2020-0639</td><td width=\"5%\" bgcolor=\"#FFA53F\">5.5</td><td width=\"20%\">Windows Common Log File System Driver Information Disclosure Vulnerability</td><td>An information disclosure vulnerability exists in the Windows Common Log File System (CLFS) driver when it fails to properly handle objects in memory, aka 'Windows Common Log File System Driver Information Disclosure Vulnerability'. This CVE ID is unique from CVE-2020-0615.</td><td><a href=\"https://nvd.nist.gov/vuln/detail/CVE-2020-0639\">https://nvd.nist.gov/vuln/detail/CVE-2020-0639</a><br><a href=\"https://portal.msrc.microsoft.com/en-US/security-guidance/advisory/CVE-2020-0639\">https://portal.msrc.microsoft.com/en-US/security-guidance/advisory/CVE-2020-0639</a></td></tr><tr><td width=\"15%\">CVE-2020-0643</td><td width=\"5%\" bgcolor=\"#FFA53F\">5.5</td><td width=\"20%\">Windows GDI+ Information Disclosure Vulnerability</td><td>An information disclosure vulnerability exists in the way that the Windows Graphics Device Interface Plus (GDI+) handles objects in memory, allowing an attacker to retrieve information from a targeted system, aka 'Windows GDI+ Information Disclosure Vulnerability'.</td><td><a href=\"https://nvd.nist.gov/vuln/detail/CVE-2020-0643\">https://nvd.nist.gov/vuln/detail/CVE-2020-0643</a><br><a href=\"https://portal.msrc.microsoft.com/en-US/security-guidance/advisory/CVE-2020-0643\">https://portal.msrc.microsoft.com/en-US/security-guidance/advisory/CVE-2020-0643</a></td></tr><tr><td width=\"15%\">CVE-2020-0647</td><td width=\"5%\" bgcolor=\"#FFA53F\">5.4</td><td width=\"20%\">Microsoft Office Online Spoofing Vulnerability</td><td>A spoofing vulnerability exists when Office Online does not validate origin in cross-origin communications correctly, aka 'Microsoft Office Online Spoofing Vulnerability'.</td><td><a href=\"https://nvd.nist.gov/vuln/detail/CVE-2020-0647\">https://nvd.nist.gov/vuln/detail/CVE-2020-0647</a><br><a href=\"https://portal.msrc.microsoft.com/en-US/security-guidance/advisory/CVE-2020-0647\">https://portal.msrc.microsoft.com/en-US/security-guidance/advisory/CVE-2020-0647</a></td></tr></tbody>\n",
       "</table>"
      ],
      "text/plain": [
       "<IPython.core.display.HTML object>"
      ]
     },
     "execution_count": 8,
     "metadata": {},
     "output_type": "execute_result"
    }
   ],
   "source": [
    "#<a href=\"(https://portal.msrc.microsoft.com/en-US/security-guidance/advisory/.*\">.+)</a>\n",
    "#data[\"DocumentNotes\"][0][\"Value\"]\n",
    "import lxml.html\n",
    "import re\n",
    "from IPython.display import display, display_html\n",
    "from concurrent.futures import ThreadPoolExecutor\n",
    "\n",
    "microsoft_cve_url_prefix = \"https://portal.msrc.microsoft.com/en-US/security-guidance/advisory/\"\n",
    "doc = lxml.html.fromstring(data[\"DocumentNotes\"][0][\"Value\"])\n",
    "cve_ids = [\n",
    "    i.split(\"/\")[-1] \n",
    "    for i in \n",
    "    doc.xpath(f\"//a[starts-with(@href, '{microsoft_cve_url_prefix}')]/@href\")\n",
    "]\n",
    "\n",
    "with ThreadPoolExecutor(max_workers=5) as executor:\n",
    "    cves = sorted(executor.map(scrape_cve, cve_ids), key=lambda x: x[\"cvss_score\"], reverse=True)\n",
    "\n",
    "HTML(table(\n",
    "    [\n",
    "        {\n",
    "            \"key\": \"id\", \n",
    "            \"title\": \"CVE\", \n",
    "            \"attrs\": {\"width\": \"15%\"}\n",
    "        },\n",
    "        {\n",
    "            \"key\": \"cvss_score\", \n",
    "            \"title\": \"Severity (CVSSv3)\", \n",
    "            \"attrs\": {\"width\": \"5%\", \"bgcolor\": lambda r: cvss_severity_colors[cvss_severity(r[\"cvss_score\"])]}\n",
    "        },\n",
    "        {\n",
    "            \"key\": \"aka\", \n",
    "            \"title\": \"Title\", \n",
    "            \"attrs\": {\"width\": \"20%\"}\n",
    "        },\n",
    "        {\n",
    "            \"key\": \"description\", \n",
    "            \"title\": \"Description\"\n",
    "        },\n",
    "        {\n",
    "            \"key\": \"urls\", \n",
    "            \"title\": \"URL\", \n",
    "            \"processor\": lambda urls: \"<br>\".join(f'<a href=\"{url}\">{url}</a>' for url in urls)\n",
    "        }\n",
    "    ], \n",
    "    cves\n",
    "))"
   ]
  },
  {
   "cell_type": "code",
   "execution_count": 13,
   "metadata": {
    "code_folding": [
     36
    ],
    "hide_input": "True",
    "slideshow": {
     "slide_type": "slide"
    },
    "tags": [
     "hide_input"
    ]
   },
   "outputs": [
    {
     "data": {
      "image/png": "[encoded data removed]",
      "text/plain": [
       "<Figure size 432x288 with 1 Axes>"
      ]
     },
     "metadata": {},
     "output_type": "display_data"
    },
    {
     "data": {
      "image/png": "[encoded data removed]",
      "text/plain": [
       "<Figure size 432x288 with 1 Axes>"
      ]
     },
     "metadata": {
      "needs_background": "light"
     },
     "output_type": "display_data"
    }
   ],
   "source": [
    "import matplotlib.pyplot as plotter\n",
    "from collections import defaultdict\n",
    "\n",
    "grouped_cves = group(cves, lambda x: cvss_severity(x[\"cvss_score\"]))\n",
    "\n",
    "severities = list([i[0] for i in cvss_severity_matrix if i[0] in grouped_cves])\n",
    "severity_counts = [len(grouped_cves.get(k,[])) for k in severities]\n",
    "\n",
    "explode_severities = {\n",
    "    \"None\": 0.1,\n",
    "    \"Low\": 0.1,\n",
    "    \"Medium\": 0.1,\n",
    "    \"High\": 0.1,\n",
    "    \"Critical\": 0.2\n",
    "}\n",
    "\n",
    "figureObject, axesObject = plotter.subplots()\n",
    "pie=axesObject.pie(severity_counts, \n",
    "        explode=[explode_severities[k] for k in severities],\n",
    "        labels=severities,\n",
    "        autopct='%1.2f',\n",
    "        colors=[cvss_severity_colors[k] for k in severities],\n",
    "        startangle=90)\n",
    "axesObject.axis('equal')\n",
    "plotter.title('Vulnerability Severity Distribution%')\n",
    "plotter.show()\n",
    "\n",
    "figureObject, axesObject = plotter.subplots()\n",
    "barlist = axesObject.barh(severities,\n",
    "        severity_counts,\n",
    "        0.8,\n",
    "        alpha = 0.7,\n",
    "        color = 'blue',\n",
    "        label = 'Vulns')\n",
    "for i, s in enumerate(severities):\n",
    "    barlist[i].set_color(cvss_severity_colors[s])\n",
    "axesObject.set_xlabel('Vuln Count')\n",
    "plotter.title('No. Vulnerabilities By Severity')\n",
    "plotter.show()"
   ]
  }
 ],
 "metadata": {
  "celltoolbar": "Tags",
  "kernelspec": {
   "display_name": "Python 3",
   "language": "python",
   "name": "python3"
  },
  "language_info": {
   "codemirror_mode": {
    "name": "ipython",
    "version": 3
   },
   "file_extension": ".py",
   "mimetype": "text/x-python",
   "name": "python",
   "nbconvert_exporter": "python",
   "pygments_lexer": "ipython3",
   "version": "3.8.1"
  }
 },
 "nbformat": 4,
 "nbformat_minor": 4
}
